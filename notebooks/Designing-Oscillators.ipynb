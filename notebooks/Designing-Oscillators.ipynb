{
 "cells": [
  {
   "cell_type": "markdown",
   "metadata": {
    "id": "YX_GiD-6pqvS"
   },
   "source": [
    "# DESIGNING OSCILLATORS"
   ]
  },
  {
   "cell_type": "code",
   "execution_count": 1,
   "metadata": {
    "colab": {
     "base_uri": "https://localhost:8080/"
    },
    "id": "fwyR8MQxcT0z",
    "outputId": "e143ffc1-d580-4694-8a30-1698f02416f1"
   },
   "outputs": [],
   "source": [
    "import tellurium as te\n",
    "import sympy\n",
    "from sympy import init_printing\n",
    "import matplotlib.pyplot as plt\n",
    "import numpy as np\n",
    "import pandas as pd\n",
    "import control\n",
    "\n",
    "init_printing()"
   ]
  },
  {
   "cell_type": "code",
   "execution_count": 2,
   "metadata": {},
   "outputs": [],
   "source": [
    "TIMES = [0.01*n for n in range(500)]"
   ]
  },
  {
   "cell_type": "code",
   "execution_count": 62,
   "metadata": {},
   "outputs": [],
   "source": [
    "S1, S2, k1, k2, k3, k4, d, T, D, r1, r2, a, t, x1_0, x2_0, u1, u2, b1, b2, m1, m2, h1, h2 =   \\\n",
    "   sympy.symbols(\"S1, S2, k1, k2, k3, k4, d, T, D, r1, r2, a, t, x1_0, x2_0, u1, u2, b1, b2, m1, m2, h1, h2\", real=True)\n",
    "c1, c2 = sympy.symbols(\"c1, c2\")"
   ]
  },
  {
   "cell_type": "code",
   "execution_count": 4,
   "metadata": {},
   "outputs": [],
   "source": [
    "S1, S2, k1, k2, k3, k4,a =  sympy.symbols(\"S1, S2, k1, k2, k3, k4, a\", real=True, positive=True)"
   ]
  },
  {
   "cell_type": "code",
   "execution_count": 5,
   "metadata": {},
   "outputs": [
    {
     "data": {
      "image/png": "[encoded data removed]",
      "text/latex": [
       "$\\displaystyle -1$"
      ],
      "text/plain": [
       "-1"
      ]
     },
     "execution_count": 5,
     "metadata": {},
     "output_type": "execute_result"
    }
   ],
   "source": [
    "I = sympy.sqrt(-1)\n",
    "sympy.simplify(I*I)"
   ]
  },
  {
   "cell_type": "markdown",
   "metadata": {
    "id": "nzmEWXSarUu1",
    "jp-MarkdownHeadingCollapsed": true,
    "tags": []
   },
   "source": [
    "# Notation"
   ]
  },
  {
   "cell_type": "markdown",
   "metadata": {
    "id": "-frlvR2JuKgm"
   },
   "source": [
    "**Scalars**\n",
    "\n",
    "* $N$ is the number of chemical species (state variables)\n",
    "* $n$ indexes chemical species\n",
    "* $M$ is the number of reactions\n",
    "* $m$ indexes reactions"
   ]
  },
  {
   "cell_type": "markdown",
   "metadata": {
    "id": "930iyzY5rWZ3"
   },
   "source": [
    "**Vectors and Matrices**\n",
    "\n",
    "* ${\\bf x}$ ($N \\times 1$) is the state vector\n",
    "* ${\\bf k}$ ($M \\times 1$) is a vector of parameters\n",
    "* ${\\bf u}$ is the input vector\n",
    "* ${\\bf B}$ is the constant input matrix\n",
    "* ${\\bf A}$ is the constant state transition matrix\n",
    "* ${\\bf N}$ ($N \\times M$) is the constant stoichiometry matrix\n",
    "* ${\\bf V}$ ($M \\times N$) is the flux vector\n",
    "* $\\dot{ {\\bf x}} = {\\bf A} {\\bf x} + {\\bf B}{\\bf u}$ is the time derivative of state\n"
   ]
  },
  {
   "cell_type": "markdown",
   "metadata": {
    "id": "YpaiobF6p2Np"
   },
   "source": [
    "* A **reaction network** is a system of ODEs that can be realized by a collection of reactions where the concentration of chemical species are the state variables.\n",
    "\n",
    "* A **linear reaction network (LRN)** is a reaction network with kinetics that form a system of linear ODEs.\n",
    "\n",
    "* A **uni-reactant, mass action reaction network (UMRN)** is a reaction network in which all reactions have a single reactant and the kinetics are mass action.\n",
    "\n",
    "* Two networks are **compatible** if they have the same chemical species. We can always make two networks compatible by including missing species, although there will be no reactions with those species."
   ]
  },
  {
   "cell_type": "markdown",
   "metadata": {
    "id": "mMgtFosj09FT"
   },
   "source": [
    "The goal of this analysis is to characterize how changes in reaction rates and/or structure affect eigenvalues, especially: (a) stability and (b) oscillations."
   ]
  },
  {
   "cell_type": "markdown",
   "metadata": {
    "id": "jtn4ClXNx76l"
   },
   "source": [
    "**Claim**: ${\\bf A}$ specifies a UMRN system iff\n",
    "there are ${\\bf A} = {\\bf N} {\\bf V}$ such that:\n",
    "* Every column in ${\\bf N}$ has exactly one negative value.\n",
    "* Every row in ${\\bf V}$ has exactly one non-zero value."
   ]
  },
  {
   "cell_type": "markdown",
   "metadata": {
    "id": "pp5WHqoCrIHC"
   },
   "source": [
    "**Observations for a UMRN**\n",
    "* If ${\\bf A}$ specifies a UMRA, then $r {\\bf A}$ is a UMRA for $r \\geq 0$.\n",
    "* If ${\\bf A}$, ${\\bf A}^{\\prime}$ are for compatible UMRN systems, then ${\\bf A} + {\\bf A}^{\\prime}$ specifies a UMRA system."
   ]
  },
  {
   "cell_type": "markdown",
   "metadata": {
    "id": "n27V57kEvuf1"
   },
   "source": [
    "**Possible Claim**: If ${\\bf A}$ specifies a LRA, then exists UMRA matrices ${\\bf N}$, ${\\bf V}$ such that ${\\bf A} = {\\bf N} {\\bf V}$."
   ]
  },
  {
   "cell_type": "markdown",
   "metadata": {
    "id": "XwaJVgoRs2Tl"
   },
   "source": []
  },
  {
   "cell_type": "markdown",
   "metadata": {
    "id": "29541g5Lq9f2"
   },
   "source": [
    "**Claim**: A UMRA is an LRA.\n",
    "\n",
    "**Proof**: "
   ]
  },
  {
   "cell_type": "markdown",
   "metadata": {
    "id": "yTG8B1i86aCF"
   },
   "source": [
    "**Claim**: Consider an UMRA with state variable Jacobian ${\\bf A}$\n",
    "and eigenvalues $\\lambda_1, \\cdots, \\lambda_N$.\n",
    "Consider a second UMRA that consists entirely of autocatyltic reactions\n",
    "so that $\\dot{x} = a x$, $a > 0$ for all state variables $x$.\n",
    "Then, the combination of these two networks has the eigenvalues\n",
    "$\\lambda_1 + a, \\cdots, \\lambda_N +a$.\n",
    "\n",
    "This claim allows us to change the real part of the eigenvalues."
   ]
  },
  {
   "cell_type": "markdown",
   "metadata": {
    "id": "TmLekx8d7__f"
   },
   "source": [
    "For the Jacobian ${\\bf A}$, the characteristic equation is\n",
    "$p(\\lambda) = |{\\bf A} - \\lambda {\\bf I}| = 0$.\n",
    "\n",
    "$p(\\lambda)$ can be expressed in the following ways.\n",
    "1. $p(\\lambda) = \\sum_{n=0}^N \\alpha_n \\lambda^n$\n",
    "1. $p(\\lambda) = \\Pi_{n=1}^N (\\lambda - \\lambda_n)$\n",
    "1. $p(\\lambda) = \\sum_{\\sigma} sign(\\sigma) \\Pi_{n=1}^N (a_{n, \\sigma(n)} - \\phi_{n, \\sigma(n)} \\lambda)$, where $\\phi_{n_1, n_2} = 1 \\iff n_1 = n_2$.\n",
    "\n",
    "In the foregoing, $\\sigma$ is a permutation of $(1, \\cdots, N)$,\n",
    "and $sign(\\sigma)$ is $(-1)^n$, where $n$ is the number of pairwise exchanges to construct the permutation from the identity permutation.\n",
    "\n",
    "Suppose that initially ${\\bf A}$ is diagonal with $a_{nn} < 0$.\n",
    "That is, the network consists entirely of degradation reactions,\n",
    "and let $p$ be the characteristic polynomial for this network.\n",
    "Now consider ${\\bf A}^{\\prime}$ that adds to this network\n",
    "the reactions\n",
    "$x_1 \\rightarrow m_2 x_2$ at rate $k_1$, where $m_2$ is the stoichiometry of the species $x_2$,\n",
    "and $x_2 \\rightarrow m_1 x_1$ at rate $k_2$.\n",
    "Let $p^{\\prime}$ be the characteristic polynomial for this network.\n",
    "${\\bf A}^D = {\\bf A}^{\\prime} - {\\bf A}$ has 3 non-zero entries:\n",
    "* $a^D_{1,1} = -k_1$\n",
    "* $a^D_{1,2} = m_2 k_1$\n",
    "* $a^D_{2, 1} = m_1 k_2$\n",
    "* $a^D_{2,2} = -k_2$\n",
    "\n",
    "Further, define $p_{1,2} (\\lambda) = \\Pi_{n\\neq1,2} (\\lambda - \\lambda_n)$.\n",
    "$p(\\lambda) = p_{1,2}(\\lambda) (\\lambda - \\lambda_1)(\\lambda - \\lambda_2) $.\n",
    "$p^{\\prime} (\\lambda) = p_{1,2}(\\lambda)\n",
    "\\left( (\\lambda - \\lambda_1)(\\lambda - \\lambda_2) - a^D_{1,2} a^D_{2,1} \\right)$.\n",
    "\n",
    "[Is this correct? I should get an imaginary result?]"
   ]
  },
  {
   "cell_type": "markdown",
   "metadata": {
    "id": "0ay5JlwzVmUF"
   },
   "source": [
    "A key consideration is determining if a cubic equation has a pure imaginary root.\n",
    "\n",
    "Consider \n",
    "\\begin{eqnarray}\n",
    "p(\\lambda) & = & (\\lambda - r)(\\lambda - ib)(\\lambda + ib) \\\\\n",
    "& = & (\\lambda -r)(\\lambda^2 + b^2) \\\\\n",
    "& = & \\lambda^3 - r \\lambda^2 + b^2 \\lambda - r b^2 \\\\\n",
    "& = & A \\lambda^3 - B \\lambda^2 + C \\lambda - D \\\\\n",
    "\\end{eqnarray}\n",
    "where $A = 1$.\n",
    "\n",
    "Observed that the roots are easily determined from the coefficients of the terms.\n",
    "A simple check is that $D = BC$, and $B, C, D$ are functions of ${\\bf k}$.\n",
    "\n",
    "Consider the objective function $min_{\\bf k} |D - BC|$. The one concern here is that all eigenvalues are non-positive.\n"
   ]
  },
  {
   "cell_type": "markdown",
   "metadata": {
    "id": "s2bDr3tEaoi3"
   },
   "source": [
    "Construct a explicit expression for the cubic equation for a 3 state system."
   ]
  },
  {
   "cell_type": "markdown",
   "metadata": {},
   "source": [
    "# Simulation of Two Species System"
   ]
  },
  {
   "cell_type": "code",
   "execution_count": 6,
   "metadata": {
    "colab": {
     "base_uri": "https://localhost:8080/",
     "height": 268
    },
    "id": "nSyCk8FwbrIO",
    "outputId": "931ae82c-6628-40cc-e68c-7e32b37b6cd8"
   },
   "outputs": [
    {
     "data": {
      "image/png": "[encoded data removed]",
      "text/plain": [
       "<Figure size 432x288 with 1 Axes>"
      ]
     },
     "metadata": {},
     "output_type": "display_data"
    }
   ],
   "source": [
    "MODEL = \"\"\"\n",
    "S1 -> 2 S1; k1*S1\n",
    "S1 -> S2; k2*S1\n",
    "S2 -> ; k3*S1\n",
    "S2 -> S1; k4*S2\n",
    "S1 -> ; -u1\n",
    "-> S2; u2\n",
    "\n",
    "k2 = 1\n",
    "k4 = -1     # assigned externally\n",
    "delta = -1  # assigned externally\n",
    "k1 = k2 + k4\n",
    "k3 = k1 + delta\n",
    "u1 = -100\n",
    "u2 = 5\n",
    "\n",
    "S1 = 1\n",
    "S2 = 10\n",
    "\n",
    "\"\"\"\n",
    "# a: alpha, d: delta\n",
    "period = 1\n",
    "frequency_in_time = 1/period\n",
    "frequency_in_radians = frequency_in_time*2*np.pi\n",
    "PARAM_DCT = {\"k2\": 1.0, \"k4\": 10.0, \"a\": frequency_in_radians}\n",
    "PARAM_DCT[\"k1\"] = PARAM_DCT[\"k2\"] + PARAM_DCT[\"k4\"]\n",
    "PARAM_DCT[\"d\"] = (frequency_in_radians**2)/PARAM_DCT[\"k4\"]\n",
    "PARAM_DCT[\"k3\"] = PARAM_DCT[\"k1\"] + PARAM_DCT[\"d\"]\n",
    "rr = te.loada(MODEL)\n",
    "names = [\"S1\", \"S2\", \"u1\", \"u2\"]\n",
    "for name in names:\n",
    "    PARAM_DCT[name] = rr[name]\n",
    "for k, v in PARAM_DCT.items():\n",
    "    if k in rr.keys():\n",
    "        rr[k] = v\n",
    "data = rr.simulate(0, 5, 1000)\n",
    "rr.plot(data)"
   ]
  },
  {
   "cell_type": "code",
   "execution_count": 7,
   "metadata": {},
   "outputs": [
    {
     "data": {
      "text/plain": [
       "(time     0.000000\n",
       " [S1]   -49.177704\n",
       " [S2]     4.403894\n",
       " dtype: float64,\n",
       " time     5.000000\n",
       " [S1]     1.050476\n",
       " [S2]    63.722674\n",
       " dtype: float64)"
      ]
     },
     "execution_count": 7,
     "metadata": {},
     "output_type": "execute_result"
    }
   ],
   "source": [
    "df = pd.DataFrame(data, columns=data.colnames)\n",
    "df.min(), df.max()"
   ]
  },
  {
   "cell_type": "code",
   "execution_count": 8,
   "metadata": {},
   "outputs": [
    {
     "data": {
      "text/plain": [
       "{'k2': 1.0,\n",
       " 'k4': 10.0,\n",
       " 'a': 6.283185307179586,\n",
       " 'k1': 11.0,\n",
       " 'd': 3.947841760435743,\n",
       " 'k3': 14.947841760435743,\n",
       " 'S1': 1.0,\n",
       " 'S2': 10.0,\n",
       " 'u1': -100.0,\n",
       " 'u2': 5.0}"
      ]
     },
     "execution_count": 8,
     "metadata": {},
     "output_type": "execute_result"
    }
   ],
   "source": [
    "PARAM_DCT"
   ]
  },
  {
   "cell_type": "code",
   "execution_count": 9,
   "metadata": {},
   "outputs": [
    {
     "data": {
      "image/png": "[encoded data removed]",
      "text/latex": [
       "$\\displaystyle \\left( 6.28318530717959, \\  6.28318530717959\\right)$"
      ],
      "text/plain": [
       "(6.283185307179586, 6.283185307179586)"
      ]
     },
     "execution_count": 9,
     "metadata": {},
     "output_type": "execute_result"
    }
   ],
   "source": [
    "np.sqrt(PARAM_DCT[\"k4\"]*PARAM_DCT[\"d\"]), PARAM_DCT[\"a\"]"
   ]
  },
  {
   "cell_type": "markdown",
   "metadata": {},
   "source": [
    "# Helpers"
   ]
  },
  {
   "cell_type": "code",
   "execution_count": 10,
   "metadata": {
    "tags": []
   },
   "outputs": [],
   "source": [
    "def pp(arr):\n",
    "    print(pd.DataFrame(arr))"
   ]
  },
  {
   "cell_type": "code",
   "execution_count": 11,
   "metadata": {},
   "outputs": [],
   "source": [
    "def makeTimes(start_time=0, end_time=5, point_density=10):\n",
    "    return [1/point_density*n for n in range(start_time, point_density*end_time+1)]\n",
    "# TESTS\n",
    "end_time = 10\n",
    "point_density = 2\n",
    "times = makeTimes(end_time=end_time, point_density=point_density)\n",
    "assert(len(times) == point_density*end_time+1)"
   ]
  },
  {
   "cell_type": "code",
   "execution_count": 12,
   "metadata": {},
   "outputs": [],
   "source": [
    "# Simulation of the model\n",
    "def simulateLinearSystem(A=None, B=None, is_plot=True):\n",
    "    \"\"\"\n",
    "    Simulates the linear system specified by A and B\n",
    "    \"\"\"\n",
    "    if A is None:\n",
    "        A = np.array([ [PARAM_DCT[\"k1\"] - PARAM_DCT[\"k2\"], PARAM_DCT[\"k4\"]],\n",
    "                           [PARAM_DCT[\"k2\"] - PARAM_DCT[\"k3\"], - PARAM_DCT[\"k4\"] ] ])\n",
    "    if B is None:\n",
    "        B = np.eye(2)\n",
    "    C = np.eye(2)\n",
    "    D = 0*np.eye(2)\n",
    "    sys = control.StateSpace(A, B, C, D)\n",
    "    sys = control.LinearIOSystem(sys, inputs=[\"S1\", \"S2\"], outputs=[\"S1\", \"S2\"])\n",
    "    X0 = [1, 10]\n",
    "    times = makeTimes(end_time=20)\n",
    "    response = control.input_output_response(sys, T=times, X0=X0)\n",
    "    plt.plot(response.t, response.y[0])\n",
    "    plt.plot(response.t, response.y[1])\n",
    "    plt.legend([\"S1\", \"S2\"], loc=\"upper left\")\n",
    "    if not is_plot:\n",
    "        plt.close()\n",
    "    \n",
    "# Tests\n",
    "simulateLinearSystem(is_plot=False)"
   ]
  },
  {
   "cell_type": "code",
   "execution_count": 13,
   "metadata": {},
   "outputs": [
    {
     "name": "stdout",
     "output_type": "stream",
     "text": [
      "OK!\n"
     ]
    }
   ],
   "source": [
    "def simulateSymbol(vec, t, dct, is_plot=True):\n",
    "    \"\"\"\n",
    "    Simulates a 2-d vector symbol that is a function of time\n",
    "    \n",
    "    Parameters\n",
    "    ----------\n",
    "    sym: sympy.Symbol\n",
    "    t: sympy.Symbol\n",
    "    dct: dict (substitutions)\n",
    "    \"\"\"\n",
    "    # Simulation of ivp_solution\n",
    "    sym = vec.subs(dct)\n",
    "    s1_vals = [sym.subs(t, v)[0] for v in TIMES]\n",
    "    s2_vals = [sym.subs(t, v)[1] for v in TIMES]\n",
    "    plt.plot(TIMES, s1_vals)\n",
    "    plt.plot(TIMES, s2_vals)\n",
    "    _ = plt.legend([\"S1\", \"S2\"])\n",
    "    if not is_plot:\n",
    "        plt.close()\n",
    "    return sym\n",
    "    \n",
    "vec = sympy.Matrix([t, t**2])\n",
    "_ = simulateSymbol(vec, t, {}, is_plot=False)\n",
    "print(\"OK!\")"
   ]
  },
  {
   "cell_type": "code",
   "execution_count": 14,
   "metadata": {},
   "outputs": [
    {
     "name": "stdout",
     "output_type": "stream",
     "text": [
      "OK!\n"
     ]
    }
   ],
   "source": [
    "def simulateRR(dct={}, is_plot=True):\n",
    "    \"\"\"\n",
    "    Simulates the model with parameter updates as indicated.\n",
    "    \"\"\"\n",
    "    rr = te.loada(MODEL)\n",
    "    for key, value in PARAM_DCT.items():\n",
    "        if key in rr.keys():\n",
    "            rr[key] = value\n",
    "    for key, value in dct.items():\n",
    "        if key in rr.keys():\n",
    "            rr[key] = value\n",
    "    data = rr.simulate(0, 5, 1000)\n",
    "    for col in data.colnames[1:]:\n",
    "        plt.plot(data[:, 0], data[col])\n",
    "    plt.legend(data.colnames[1:])\n",
    "    if not is_plot:\n",
    "        plt.close()\n",
    "    \n",
    "# Tests\n",
    "simulateRR(is_plot=False)\n",
    "print(\"OK!\")"
   ]
  },
  {
   "cell_type": "markdown",
   "metadata": {
    "id": "4O1oKxl23qCR"
   },
   "source": [
    "# Solution for Two Species System"
   ]
  },
  {
   "cell_type": "markdown",
   "metadata": {
    "id": "a2tb3L7U3uS5"
   },
   "source": [
    "Consider an URMA network consisting of $S_1$, $S_2$.\n",
    "\n",
    "Let ${\\bf A} =\n",
    "\\begin{pmatrix}\n",
    "a_{11} & a_{12} \\\\\n",
    "a_{21} & a_{22} \\\\\n",
    "\\end{pmatrix}\n",
    "$\n",
    "Denote the determinant by $D = a_{11} a_{22} - a_{12} a_{21}$\n",
    "and the trace by $T = a_{11} + a_{22}$. The eigenvalues are\n",
    "$\\lambda = \\frac{1}{2} \\left( - T \\pm \\sqrt{T^2 - 4 D} \\right)$.\n",
    "So, to get pure imaginary eigenvalues, $T = 0$\n",
    "and $D > 0$.\n",
    "\n",
    "$T = 0$ implies that either the diagonal is zero or\n",
    "one diagonal term is positive and the other is negative.\n",
    "In either case, it must be that one of the off-diagonal terms is negative.\n",
    "\n",
    "We can obtain a positive value for a diagonal term by having self-catlytic reactions, such as $S_1 \\rightarrow S_1 + S_1$\n",
    "with mass action kinetics $k S_1$.\n",
    "We can obtain a negative value for an off-diagonal term by having\n",
    "degrading reactions catlyzed by the other element, such as\n",
    "$S_2 \\rightarrow ∅$ with kinetics $k S_1 S_2$. Note that these are non-linear kinetics that might be approximated by linear kinetics. "
   ]
  },
  {
   "cell_type": "markdown",
   "metadata": {},
   "source": [
    "**Issue**\n",
    "1. Why is period 10 instead of 5?"
   ]
  },
  {
   "cell_type": "markdown",
   "metadata": {
    "id": "tEICDsJlIV35"
   },
   "source": [
    "## System Equations"
   ]
  },
  {
   "cell_type": "markdown",
   "metadata": {
    "id": "LuLZN4yqGSrb"
   },
   "source": [
    "This system equations are:\n",
    "$\n",
    "\\begin{eqnarray}\n",
    "\\dot{S}_1 & = & k_1 S_1 + k_4 S_2 - k_2 S_1 \\\\\n",
    "\\dot{S}_2 & = & - k_3 S_1 + k_2 S_1 - k_4 S_2 \\\\\n",
    "\\end{eqnarray}\n",
    "$\n",
    "\n",
    "Let ${\\bf x} = \n",
    "\\begin{pmatrix}\n",
    "S_1 \\\\\n",
    "S_2 \\\\\n",
    "\\end{pmatrix}\n",
    "$, and\n",
    "$\n",
    "{\\bf A} = \n",
    "\\begin{pmatrix}\n",
    "k_1 - k_2 & k_4 \\\\\n",
    "k_2 - k_3 & -k_4 \\\\\n",
    "\\end{pmatrix}\n",
    "$.\n",
    "\n",
    "The full model is:\n",
    "$\\dot{\\bf x} = {\\bf A} {\\bf x} + {\\bf u}$."
   ]
  },
  {
   "cell_type": "markdown",
   "metadata": {
    "id": "RSqoaNmbIiMZ"
   },
   "source": [
    "Note that\n",
    "\\begin{eqnarray}\n",
    "T & = & tr(A) = k_1 -k_2 - k_4 \\\\\n",
    "D & = & det(A) = (k_1 - k_2)(-k_4) - k_4 (k_2 - k_3) \\\\\n",
    "& = & k_4 (k_3 - k_1) \\\\\n",
    "\\end{eqnarray}"
   ]
  },
  {
   "cell_type": "markdown",
   "metadata": {},
   "source": [
    "## Jacobian for Pure Imaginary Eigenvalues"
   ]
  },
  {
   "cell_type": "markdown",
   "metadata": {},
   "source": [
    "The eigenvalues a $2 \\times 2$ matrix are\n",
    "\n",
    "$\\lambda = - \\frac{T \\pm \\sqrt{T^2 - 4 D}}{2}$.\n",
    "\n",
    "The pole $\\lambda$ is pure imaginary (i.e., $\\sqrt{D}i$) if:\n",
    "1. $T = 0$. That is, $k_1 = k_2 + k_4$.\n",
    "1. $D > 0$. That is, $k_3 > k_1$.\n",
    "\n",
    "$D > 0 \\iff k_4(k_3 - k_1) > 0$.\n",
    "Clearly $k_4 > 0$ since $D>0$, and so we can divide by $k_4$.\n",
    "So, we have the criteria is $k_3 = k_1 + \\delta$ for $\\delta >0$."
   ]
  },
  {
   "cell_type": "markdown",
   "metadata": {},
   "source": [
    "\n",
    "Note that if $tr({\\bf A}) = 0$ and $D >0$:\n",
    "1. $k_1 = k_2 + k_4$.\n",
    "1. $k_3 = \\delta + k_2 + k_4$, $\\delta > 0$."
   ]
  },
  {
   "cell_type": "markdown",
   "metadata": {},
   "source": [
    "$\n",
    "{\\bf A} =\n",
    "\\begin{pmatrix}\n",
    "k_1 - k_2 & k_4 \\\\\n",
    "k_2 - k_3 & -k_4 \\\\\n",
    "\\end{pmatrix}\n",
    "$.\n",
    "\n",
    "Substituting,\n",
    "${\\bf A} =\n",
    "\\begin{pmatrix}\n",
    "k_2 + k_4 - k_2 & k_4 \\\\\n",
    "k_2 - \\delta - k_2 - k_4 & -k_4 \\\\\n",
    "\\end{pmatrix}\n",
    "=\n",
    "\\begin{pmatrix}\n",
    "k_4 & k_4 \\\\\n",
    "-\\delta -k_4 & -k_4 \\\\\n",
    "\\end{pmatrix}\n",
    "$."
   ]
  },
  {
   "cell_type": "code",
   "execution_count": 15,
   "metadata": {},
   "outputs": [
    {
     "data": {
      "image/png": "[encoded data removed]",
      "text/plain": [
       "<Figure size 432x288 with 1 Axes>"
      ]
     },
     "metadata": {
      "needs_background": "light"
     },
     "output_type": "display_data"
    }
   ],
   "source": [
    "# Validation plot\n",
    "A = np.array([ [PARAM_DCT[\"k4\"], PARAM_DCT[\"k4\"]],\n",
    "                           [-PARAM_DCT[\"d\"] - PARAM_DCT[\"k4\"], - PARAM_DCT[\"k4\"] ] ])\n",
    "simulateLinearSystem(A=A)"
   ]
  },
  {
   "cell_type": "code",
   "execution_count": 16,
   "metadata": {},
   "outputs": [
    {
     "data": {
      "image/png": "[encoded data removed]",
      "text/latex": [
       "$\\displaystyle 1.0$"
      ],
      "text/plain": [
       "1.0"
      ]
     },
     "execution_count": 16,
     "metadata": {},
     "output_type": "execute_result"
    }
   ],
   "source": [
    "# Period requires converting from radians\n",
    "1/(np.sqrt(PARAM_DCT[\"d\"]*PARAM_DCT[\"k4\"])/(2*np.pi))"
   ]
  },
  {
   "cell_type": "markdown",
   "metadata": {},
   "source": [
    "## Eigenvectors for Pure Imaginary Eigenvalues"
   ]
  },
  {
   "cell_type": "code",
   "execution_count": 17,
   "metadata": {
    "colab": {
     "base_uri": "https://localhost:8080/",
     "height": 58
    },
    "id": "ZuXpcTiuLbFt",
    "outputId": "cfef06c0-a41a-4afc-dc37-459be05387e1"
   },
   "outputs": [
    {
     "data": {
      "text/latex": [
       "$\\displaystyle \\left[\\begin{matrix}k_{4} & k_{4}\\\\- d - k_{4} & - k_{4}\\end{matrix}\\right]$"
      ],
      "text/plain": [
       "⎡  k₄     k₄ ⎤\n",
       "⎢            ⎥\n",
       "⎣-d - k₄  -k₄⎦"
      ]
     },
     "execution_count": 17,
     "metadata": {},
     "output_type": "execute_result"
    }
   ],
   "source": [
    "\n",
    "A = sympy.Matrix([ [k4 , k4], [-d-k4, -k4]])\n",
    "A"
   ]
  },
  {
   "cell_type": "markdown",
   "metadata": {},
   "source": [
    "Note that since $\\delta > 0$, ${\\bf A}$ is nonsingular."
   ]
  },
  {
   "cell_type": "code",
   "execution_count": 18,
   "metadata": {},
   "outputs": [
    {
     "data": {
      "text/latex": [
       "$\\displaystyle \\left[\\begin{matrix}- \\frac{1}{d} & - \\frac{1}{d}\\\\\\frac{1}{k_{4}} + \\frac{1}{d} & \\frac{1}{d}\\end{matrix}\\right]$"
      ],
      "text/plain": [
       "⎡ -1     -1 ⎤\n",
       "⎢ ───    ───⎥\n",
       "⎢  d      d ⎥\n",
       "⎢           ⎥\n",
       "⎢1    1   1 ⎥\n",
       "⎢── + ─   ─ ⎥\n",
       "⎣k₄   d   d ⎦"
      ]
     },
     "execution_count": 18,
     "metadata": {},
     "output_type": "execute_result"
    }
   ],
   "source": [
    "A.inv()"
   ]
  },
  {
   "cell_type": "code",
   "execution_count": 19,
   "metadata": {},
   "outputs": [
    {
     "data": {
      "text/latex": [
       "$\\displaystyle \\left[ \\left( - \\sqrt{k_{4}} \\sqrt{- d}, \\  1, \\  \\left[ \\left[\\begin{matrix}\\frac{\\sqrt{k_{4}} \\sqrt{- d}}{d + k_{4}} - \\frac{k_{4}}{d + k_{4}}\\\\1\\end{matrix}\\right]\\right]\\right), \\  \\left( \\sqrt{k_{4}} \\sqrt{- d}, \\  1, \\  \\left[ \\left[\\begin{matrix}- \\frac{\\sqrt{k_{4}} \\sqrt{- d}}{d + k_{4}} - \\frac{k_{4}}{d + k_{4}}\\\\1\\end{matrix}\\right]\\right]\\right)\\right]$"
      ],
      "text/plain": [
       "⎡⎛                   ⎡⎡  ____   ____         ⎤⎤⎞  ⎛                  ⎡⎡    ___\n",
       "⎢⎜                   ⎢⎢╲╱ k₄ ⋅╲╱ -d      k₄  ⎥⎥⎟  ⎜                  ⎢⎢  ╲╱ k₄\n",
       "⎢⎜   ____   ____     ⎢⎢───────────── - ──────⎥⎥⎟  ⎜  ____   ____     ⎢⎢- ─────\n",
       "⎢⎜-╲╱ k₄ ⋅╲╱ -d , 1, ⎢⎢    d + k₄      d + k₄⎥⎥⎟, ⎜╲╱ k₄ ⋅╲╱ -d , 1, ⎢⎢      d\n",
       "⎢⎜                   ⎢⎢                      ⎥⎥⎟  ⎜                  ⎢⎢       \n",
       "⎣⎝                   ⎣⎣          1           ⎦⎦⎠  ⎝                  ⎣⎣       \n",
       "\n",
       "_   ____         ⎤⎤⎞⎤\n",
       " ⋅╲╱ -d      k₄  ⎥⎥⎟⎥\n",
       "──────── - ──────⎥⎥⎟⎥\n",
       " + k₄      d + k₄⎥⎥⎟⎥\n",
       "                 ⎥⎥⎟⎥\n",
       "    1            ⎦⎦⎠⎦"
      ]
     },
     "execution_count": 19,
     "metadata": {},
     "output_type": "execute_result"
    }
   ],
   "source": [
    "A.eigenvects()"
   ]
  },
  {
   "cell_type": "markdown",
   "metadata": {},
   "source": [
    "### Validate the eigenvectors"
   ]
  },
  {
   "cell_type": "code",
   "execution_count": 20,
   "metadata": {},
   "outputs": [
    {
     "data": {
      "text/latex": [
       "$\\displaystyle \\left[\\begin{matrix}\\frac{\\sqrt{k_{4}} \\sqrt{- d}}{d + k_{4}} - \\frac{k_{4}}{d + k_{4}}\\\\1\\end{matrix}\\right]$"
      ],
      "text/plain": [
       "⎡  ____   ____         ⎤\n",
       "⎢╲╱ k₄ ⋅╲╱ -d      k₄  ⎥\n",
       "⎢───────────── - ──────⎥\n",
       "⎢    d + k₄      d + k₄⎥\n",
       "⎢                      ⎥\n",
       "⎣          1           ⎦"
      ]
     },
     "execution_count": 20,
     "metadata": {},
     "output_type": "execute_result"
    }
   ],
   "source": [
    "vec = A.eigenvects()[0][2][0]\n",
    "vec"
   ]
  },
  {
   "cell_type": "code",
   "execution_count": 21,
   "metadata": {},
   "outputs": [
    {
     "data": {
      "text/latex": [
       "$\\displaystyle \\left[\\begin{matrix}0\\\\0\\end{matrix}\\right]$"
      ],
      "text/plain": [
       "⎡0⎤\n",
       "⎢ ⎥\n",
       "⎣0⎦"
      ]
     },
     "execution_count": 21,
     "metadata": {},
     "output_type": "execute_result"
    }
   ],
   "source": [
    "# First eigenvalue, eigenvector\n",
    "vec = A.eigenvects()[0][2][0]\n",
    "sympy.simplify((-sympy.eye(2)*sympy.sqrt(-d *k4) - A)*vec)"
   ]
  },
  {
   "cell_type": "code",
   "execution_count": 22,
   "metadata": {},
   "outputs": [
    {
     "data": {
      "text/latex": [
       "$\\displaystyle \\left[\\begin{matrix}0\\\\0\\end{matrix}\\right]$"
      ],
      "text/plain": [
       "⎡0⎤\n",
       "⎢ ⎥\n",
       "⎣0⎦"
      ]
     },
     "execution_count": 22,
     "metadata": {},
     "output_type": "execute_result"
    }
   ],
   "source": [
    "# Second eigenvalue, eigenvector\n",
    "vec = A.eigenvects()[1][2][0]\n",
    "sympy.simplify((sympy.eye(2)*sympy.sqrt(-d *k4) - A)*vec)"
   ]
  },
  {
   "cell_type": "markdown",
   "metadata": {},
   "source": [
    "### Format eigenvectors"
   ]
  },
  {
   "cell_type": "code",
   "execution_count": 23,
   "metadata": {},
   "outputs": [
    {
     "name": "stdout",
     "output_type": "stream",
     "text": [
      "⎡  ____   ____         ⎤\n",
      "⎢╲╱ k₄ ⋅╲╱ -d      k₄  ⎥\n",
      "⎢───────────── - ──────⎥\n",
      "⎢    d + k₄      d + k₄⎥\n",
      "⎢                      ⎥\n",
      "⎣          1           ⎦\n",
      "⎡    ____   ____         ⎤\n",
      "⎢  ╲╱ k₄ ⋅╲╱ -d      k₄  ⎥\n",
      "⎢- ───────────── - ──────⎥\n",
      "⎢      d + k₄      d + k₄⎥\n",
      "⎢                        ⎥\n",
      "⎣           1            ⎦\n"
     ]
    }
   ],
   "source": [
    "sympy.pretty_print(A.eigenvects()[0][2][0])\n",
    "sympy.pretty_print(A.eigenvects()[1][2][0])"
   ]
  },
  {
   "cell_type": "markdown",
   "metadata": {},
   "source": [
    "The eigenvalues are:\n",
    "\n",
    "$\n",
    "\\begin{eqnarray}\n",
    "\\lambda_1 &=& - \\sqrt{\\delta k_4} i \\\\\n",
    "\\lambda_2 &=&  + \\sqrt{\\delta k_4} i\n",
    "\\end{eqnarray}\n",
    "$\n",
    "\n",
    "We define $\\alpha = \\sqrt{\\delta k_4}$, and so\n",
    "$\\lambda_n = (-1)^n \\alpha i$.\n",
    "\n",
    "The eigenvectors are:\n",
    "\n",
    "$\n",
    "\\begin{eqnarray}\n",
    "{\\bf e}_1 & = &\n",
    "\\left[\\begin{matrix}- \\frac{k_{4}}{\\delta + k_{4}} - \\frac{\\alpha i}{\\delta + k_{4}}\\\\1\\end{matrix}\\right] \\\\\n",
    "{\\bf e}_2 & = &\n",
    "\\left[\\begin{matrix} - \\frac{k_{4}}{\\delta + k_{4}} + \\frac{\\alpha i}{d + k_{4}}\\\\1\\end{matrix}\\right] \\\\\n",
    "\\end{eqnarray}\n",
    "$"
   ]
  },
  {
   "cell_type": "markdown",
   "metadata": {},
   "source": [
    "## Solution to Homogeneous IVP"
   ]
  },
  {
   "cell_type": "markdown",
   "metadata": {},
   "source": [
    "Note that if the eigenvalue ${\\bf e}$ and/or\n",
    "vector $\\lambda$ are complex, then\n",
    "${\\bf e} e^{\\lambda} = {\\bf v}_1 + i {\\bf v}_2$ for\n",
    "some real vectors ${\\bf v}_n$.\n",
    "By theorem, the ${\\bf v}_n$ are independent solutions to\n",
    "the differential equation\n",
    "and so the solution to the IVP\n",
    "is $\\sum_{n=1}^2 c_n v_n$ for $c_n$ chosen\n",
    "based on the initial values.\n",
    "\n",
    "Let $r_1 = \\frac{k_4}{k_4 + \\delta}$\n",
    "and $r_2 = \\frac{\\alpha}{\\delta + k_4}$,\n",
    "where $\\alpha = \\sqrt{\\delta k_4}$."
   ]
  },
  {
   "cell_type": "markdown",
   "metadata": {},
   "source": [
    "Given $r_1, r_2, \\alpha$, find $k_4, \\delta, \\alpha$\n",
    "\n",
    "$k_4 = \\frac{\\alpha^2}{\\delta}$\n",
    "\n",
    "\\begin{eqnarray}\n",
    "\\delta & =&  \\frac{\\frac{\\alpha^2}{\\delta} - r_1 \\frac{\\alpha^2}{\\delta}}{r_1}\\\\\n",
    "& = & \\sqrt{\\frac{\\alpha^2 - r_1 \\alpha^2}{r_1}}\\\\\n",
    "\\end{eqnarray}\n",
    "\n",
    "\\begin{eqnarray}\n",
    "k_4 & =&  \\frac{\\alpha^2}{\\sqrt{\\frac{\\alpha^2 - r_1 \\alpha^2}{r_1}}} \\\\\n",
    "& =&  \\sqrt{\\frac{r_1}{1 - r_1 }} \\\\\n",
    "\\end{eqnarray}\n",
    "\n",
    "\\begin{eqnarray}\n",
    "\\alpha & =&  r_2 (\\delta + k_4) \\\\\n",
    "\\end{eqnarray}"
   ]
  },
  {
   "cell_type": "code",
   "execution_count": 24,
   "metadata": {},
   "outputs": [
    {
     "data": {
      "image/png": "[encoded data removed]",
      "text/latex": [
       "$\\displaystyle \\left\\{ a : 6.28318530717959, \\  r_{1} : \\frac{k_{4}}{d + k_{4}}, \\  r_{2} : \\frac{a}{d + k_{4}}, \\  x_{1 0} : 1.0, \\  x_{2 0} : 10.0\\right\\}$"
      ],
      "text/plain": [
       "⎧                            k₄          a                          ⎫\n",
       "⎨a: 6.283185307179586, r₁: ──────, r₂: ──────, x₁ ₀: 1.0, x₂ ₀: 10.0⎬\n",
       "⎩                          d + k₄      d + k₄                       ⎭"
      ]
     },
     "execution_count": 24,
     "metadata": {},
     "output_type": "execute_result"
    }
   ],
   "source": [
    "DCT = {r1: k4/(d + k4), r2: a/(d + k4), x1_0: PARAM_DCT[\"S1\"], x2_0: PARAM_DCT[\"S2\"],\n",
    "      a: np.sqrt(PARAM_DCT[\"d\"]*PARAM_DCT[\"k4\"])}\n",
    "DCT"
   ]
  },
  {
   "cell_type": "code",
   "execution_count": 25,
   "metadata": {},
   "outputs": [
    {
     "data": {
      "text/latex": [
       "$\\displaystyle \\left[\\begin{matrix}\\left(- r_{1} - i r_{2}\\right) e^{i a t}\\\\e^{i a t}\\end{matrix}\\right]$"
      ],
      "text/plain": [
       "⎡              ⅈ⋅a⋅t⎤\n",
       "⎢(-r₁ - ⅈ⋅r₂)⋅ℯ     ⎥\n",
       "⎢                   ⎥\n",
       "⎢       ⅈ⋅a⋅t       ⎥\n",
       "⎣      ℯ            ⎦"
      ]
     },
     "execution_count": 25,
     "metadata": {},
     "output_type": "execute_result"
    }
   ],
   "source": [
    "# Using the second eigenvector\n",
    "e_vec = sympy.Matrix([ [-r1 - r2*I], [1]])*(sympy.exp(I*a*t))\n",
    "e_vec"
   ]
  },
  {
   "cell_type": "code",
   "execution_count": 26,
   "metadata": {},
   "outputs": [
    {
     "data": {
      "text/latex": [
       "$\\displaystyle \\left[\\begin{matrix}- r_{1} \\cos{\\left(a t \\right)} + r_{2} \\sin{\\left(a t \\right)} & - r_{1} \\sin{\\left(a t \\right)} - r_{2} \\cos{\\left(a t \\right)}\\\\\\cos{\\left(a t \\right)} & \\sin{\\left(a t \\right)}\\end{matrix}\\right]$"
      ],
      "text/plain": [
       "⎡-r₁⋅cos(a⋅t) + r₂⋅sin(a⋅t)  -r₁⋅sin(a⋅t) - r₂⋅cos(a⋅t)⎤\n",
       "⎢                                                      ⎥\n",
       "⎣         cos(a⋅t)                    sin(a⋅t)         ⎦"
      ]
     },
     "execution_count": 26,
     "metadata": {},
     "output_type": "execute_result"
    }
   ],
   "source": [
    "vecs = e_vec.as_real_imag()\n",
    "FUND_MAT = sympy.Matrix([ [vecs[0][0], vecs[1][0]], [vecs[0][1], vecs[1][1]]])\n",
    "FUND_MAT  # Fundamental matrix"
   ]
  },
  {
   "cell_type": "code",
   "execution_count": 27,
   "metadata": {},
   "outputs": [
    {
     "data": {
      "text/latex": [
       "$\\displaystyle \\left( \\left[\\begin{matrix}- r_{1} \\cos{\\left(a t \\right)} + r_{2} \\sin{\\left(a t \\right)}\\\\\\cos{\\left(a t \\right)}\\end{matrix}\\right], \\  \\left[\\begin{matrix}- r_{1} \\sin{\\left(a t \\right)} - r_{2} \\cos{\\left(a t \\right)}\\\\\\sin{\\left(a t \\right)}\\end{matrix}\\right]\\right)$"
      ],
      "text/plain": [
       "⎛⎡-r₁⋅cos(a⋅t) + r₂⋅sin(a⋅t)⎤  ⎡-r₁⋅sin(a⋅t) - r₂⋅cos(a⋅t)⎤⎞\n",
       "⎜⎢                          ⎥, ⎢                          ⎥⎟\n",
       "⎝⎣         cos(a⋅t)         ⎦  ⎣         sin(a⋅t)         ⎦⎠"
      ]
     },
     "execution_count": 27,
     "metadata": {},
     "output_type": "execute_result"
    }
   ],
   "source": [
    "vecs"
   ]
  },
  {
   "cell_type": "markdown",
   "metadata": {},
   "source": [
    "The solution to the homogenous equation has the form:"
   ]
  },
  {
   "cell_type": "code",
   "execution_count": 28,
   "metadata": {},
   "outputs": [
    {
     "data": {
      "text/latex": [
       "$\\displaystyle \\left[\\begin{matrix}c_{1} \\left(- r_{1} \\cos{\\left(a t \\right)} + r_{2} \\sin{\\left(a t \\right)}\\right) + c_{2} \\left(- r_{1} \\sin{\\left(a t \\right)} - r_{2} \\cos{\\left(a t \\right)}\\right)\\\\c_{1} \\cos{\\left(a t \\right)} + c_{2} \\sin{\\left(a t \\right)}\\end{matrix}\\right]$"
      ],
      "text/plain": [
       "⎡c₁⋅(-r₁⋅cos(a⋅t) + r₂⋅sin(a⋅t)) + c₂⋅(-r₁⋅sin(a⋅t) - r₂⋅cos(a⋅t))⎤\n",
       "⎢                                                                 ⎥\n",
       "⎣                    c₁⋅cos(a⋅t) + c₂⋅sin(a⋅t)                    ⎦"
      ]
     },
     "execution_count": 28,
     "metadata": {},
     "output_type": "execute_result"
    }
   ],
   "source": [
    "c1*vecs[0] + c2*vecs[1]"
   ]
  },
  {
   "cell_type": "code",
   "execution_count": 29,
   "metadata": {},
   "outputs": [
    {
     "data": {
      "text/latex": [
       "$\\displaystyle \\left[\\begin{matrix}x_{1 0}\\\\x_{2 0}\\end{matrix}\\right]$"
      ],
      "text/plain": [
       "⎡x₁ ₀⎤\n",
       "⎢    ⎥\n",
       "⎣x₂ ₀⎦"
      ]
     },
     "execution_count": 29,
     "metadata": {},
     "output_type": "execute_result"
    }
   ],
   "source": [
    "x = sympy.Matrix([ [x1_0], [x2_0]])\n",
    "x"
   ]
  },
  {
   "cell_type": "code",
   "execution_count": 30,
   "metadata": {},
   "outputs": [
    {
     "data": {
      "text/latex": [
       "$\\displaystyle \\left[\\begin{matrix}c_{1} r_{1} + c_{2} r_{2} + x_{1 0}\\\\- c_{1} + x_{2 0}\\end{matrix}\\right]$"
      ],
      "text/plain": [
       "⎡c₁⋅r₁ + c₂⋅r₂ + x₁ ₀⎤\n",
       "⎢                    ⎥\n",
       "⎣     -c₁ + x₂ ₀     ⎦"
      ]
     },
     "execution_count": 30,
     "metadata": {},
     "output_type": "execute_result"
    }
   ],
   "source": [
    "# Solve for c1, c2\n",
    "expr = x - c1*vecs[0] - c2*vecs[1]\n",
    "expr.subs(t, 0)"
   ]
  },
  {
   "cell_type": "code",
   "execution_count": 31,
   "metadata": {},
   "outputs": [
    {
     "name": "stderr",
     "output_type": "stream",
     "text": [
      "Traceback (most recent call last):\n",
      "  File \"/home/ubuntu/Oscillators/osc/lib/python3.10/site-packages/pyparsing/core.py\", line 921, in _parseCache\n",
      "    value = self._parseNoCache(instring, loc, doActions, callPreParse)\n",
      "RuntimeError: Object of type <class 'NamedArray'> appears to be C subclassed NumPy array, void scalar, or allocated in a non-standard way.NumPy reserves the right to change the size of these structures. Projects are required to take this into account by either recompiling against a specific NumPy version or padding the struct and enforcing a maximum NumPy version.\n",
      "Exception ignored in: 'PyDataMem_UserFREE'\n",
      "Traceback (most recent call last):\n",
      "  File \"/home/ubuntu/Oscillators/osc/lib/python3.10/site-packages/pyparsing/core.py\", line 921, in _parseCache\n",
      "    value = self._parseNoCache(instring, loc, doActions, callPreParse)\n",
      "ValueError: PyCapsule_GetPointer called with invalid PyCapsule object\n"
     ]
    },
    {
     "data": {
      "image/png": "[encoded data removed]",
      "text/latex": [
       "$\\displaystyle \\left\\{ c_{1} : x_{2 0}, \\  c_{2} : \\frac{- r_{1} x_{2 0} - x_{1 0}}{r_{2}}\\right\\}$"
      ],
      "text/plain": [
       "⎧              -r₁⋅x₂ ₀ - x₁ ₀⎫\n",
       "⎨c₁: x₂ ₀, c₂: ───────────────⎬\n",
       "⎩                     r₂      ⎭"
      ]
     },
     "execution_count": 31,
     "metadata": {},
     "output_type": "execute_result"
    }
   ],
   "source": [
    "constant_dct = sympy.simplify(sympy.solve(expr.subs(t, 0), [c1, c2]))\n",
    "constants = list(constant_dct.values())\n",
    "constant_dct"
   ]
  },
  {
   "cell_type": "code",
   "execution_count": 32,
   "metadata": {},
   "outputs": [
    {
     "data": {
      "image/png": "[encoded data removed]",
      "text/latex": [
       "$\\displaystyle \\left\\{ S_{1} : 1.0, \\  S_{2} : 10.0, \\  a : 6.28318530717959, \\  d : 3.94784176043574, \\  k_{1} : 11.0, \\  k_{2} : 1.0, \\  k_{3} : 14.9478417604357, \\  k_{4} : 10.0, \\  r_{1} : 0.716956800324898, \\  r_{2} : 0.450477243368389, \\  u_{1} : -100.0, \\  u_{2} : 5.0, \\  x_{1 0} : 1.0, \\  x_{2 0} : 10.0\\right\\}$"
      ],
      "text/plain": [
       "{S₁: 1.0, S₂: 10.0, a: 6.283185307179586, d: 3.947841760435743, k₁: 11.0, k₂: \n",
       "1.0, k₃: 14.947841760435743, k₄: 10.0, r₁: 0.716956800324898, r₂: 0.4504772433\n",
       "68389, u₁: -100.0, u₂: 5.0, x₁ ₀: 1.0, x₂ ₀: 10.0}"
      ]
     },
     "execution_count": 32,
     "metadata": {},
     "output_type": "execute_result"
    }
   ],
   "source": [
    "for k, v in PARAM_DCT.items():\n",
    "    DCT[eval(k)] = v\n",
    "DCT = {k: v.subs(DCT) if not isinstance(v, float) else v for k, v in DCT.items()}\n",
    "DCT"
   ]
  },
  {
   "cell_type": "code",
   "execution_count": 33,
   "metadata": {},
   "outputs": [
    {
     "data": {
      "image/png": "[encoded data removed]",
      "text/latex": [
       "$\\displaystyle \\left( 10.0, \\  -18.1353622708264\\right)$"
      ],
      "text/plain": [
       "(10.0, -18.1353622708264)"
      ]
     },
     "execution_count": 33,
     "metadata": {},
     "output_type": "execute_result"
    }
   ],
   "source": [
    "constant_dct[c1].subs(DCT), constant_dct[c2].subs(DCT)"
   ]
  },
  {
   "cell_type": "markdown",
   "metadata": {},
   "source": [
    "### Explicit IVP Solution"
   ]
  },
  {
   "cell_type": "code",
   "execution_count": 34,
   "metadata": {},
   "outputs": [
    {
     "data": {
      "text/latex": [
       "$\\displaystyle \\left[\\begin{matrix}x_{2 0} \\left(- r_{1} \\cos{\\left(a t \\right)} + r_{2} \\sin{\\left(a t \\right)}\\right) + \\frac{\\left(- r_{1} x_{2 0} - x_{1 0}\\right) \\left(- r_{1} \\sin{\\left(a t \\right)} - r_{2} \\cos{\\left(a t \\right)}\\right)}{r_{2}}\\\\x_{2 0} \\cos{\\left(a t \\right)} + \\frac{\\left(- r_{1} x_{2 0} - x_{1 0}\\right) \\sin{\\left(a t \\right)}}{r_{2}}\\end{matrix}\\right]$"
      ],
      "text/plain": [
       "⎡                                    (-r₁⋅x₂ ₀ - x₁ ₀)⋅(-r₁⋅sin(a⋅t) - r₂⋅cos(\n",
       "⎢x₂ ₀⋅(-r₁⋅cos(a⋅t) + r₂⋅sin(a⋅t)) + ─────────────────────────────────────────\n",
       "⎢                                                          r₂                 \n",
       "⎢                                                                             \n",
       "⎢                                    (-r₁⋅x₂ ₀ - x₁ ₀)⋅sin(a⋅t)               \n",
       "⎢                    x₂ ₀⋅cos(a⋅t) + ──────────────────────────               \n",
       "⎣                                                r₂                           \n",
       "\n",
       "a⋅t))⎤\n",
       "─────⎥\n",
       "     ⎥\n",
       "     ⎥\n",
       "     ⎥\n",
       "     ⎥\n",
       "     ⎦"
      ]
     },
     "execution_count": 34,
     "metadata": {},
     "output_type": "execute_result"
    }
   ],
   "source": [
    "\n",
    "ivp_solution = constants[0]*vecs[0] + constants[1]*vecs[1]\n",
    "xh = ivp_solution\n",
    "xh"
   ]
  },
  {
   "cell_type": "markdown",
   "metadata": {},
   "source": [
    "### Evaluation of IVP Solution"
   ]
  },
  {
   "cell_type": "code",
   "execution_count": 35,
   "metadata": {},
   "outputs": [
    {
     "data": {
      "text/latex": [
       "$\\displaystyle \\left[\\begin{matrix}17.5070437401085 \\sin{\\left(6.28318530717959 t \\right)} + 0.999999999999999 \\cos{\\left(6.28318530717959 t \\right)}\\\\- 18.1353622708264 \\sin{\\left(6.28318530717959 t \\right)} + 10.0 \\cos{\\left(6.28318530717959 t \\right)}\\end{matrix}\\right]$"
      ],
      "text/plain": [
       "⎡17.5070437401085⋅sin(6.28318530717959⋅t) + 0.999999999999999⋅cos(6.2831853071\n",
       "⎢                                                                             \n",
       "⎣      -18.1353622708264⋅sin(6.28318530717959⋅t) + 10.0⋅cos(6.28318530717959⋅t\n",
       "\n",
       "7959⋅t)⎤\n",
       "       ⎥\n",
       ")      ⎦"
      ]
     },
     "execution_count": 35,
     "metadata": {},
     "output_type": "execute_result"
    },
    {
     "data": {
      "image/png": "[encoded data removed]",
      "text/plain": [
       "<Figure size 432x288 with 1 Axes>"
      ]
     },
     "metadata": {
      "needs_background": "light"
     },
     "output_type": "display_data"
    }
   ],
   "source": [
    "simulateSymbol(xh, t, DCT)"
   ]
  },
  {
   "cell_type": "code",
   "execution_count": 36,
   "metadata": {},
   "outputs": [
    {
     "data": {
      "image/png": "[encoded data removed]",
      "text/plain": [
       "<Figure size 432x288 with 1 Axes>"
      ]
     },
     "metadata": {
      "needs_background": "light"
     },
     "output_type": "display_data"
    }
   ],
   "source": [
    "simulateRR(dct={\"u1\": 0, \"u2\":0})"
   ]
  },
  {
   "cell_type": "markdown",
   "metadata": {
    "id": "6FI8GlXCnFN3"
   },
   "source": [
    "## Solution for Nonhomogeneous System"
   ]
  },
  {
   "cell_type": "markdown",
   "metadata": {},
   "source": [
    "Here we consider forced inputs.\n",
    "The solution with forced inputs has the form\n",
    "${\\bf x}^H + {\\bf x}^P$, where ${\\bf x}^H$\n",
    "is a solution to the homogeneous system and ${\\bf x}^P$ is a particular solution."
   ]
  },
  {
   "cell_type": "markdown",
   "metadata": {},
   "source": [
    "Recall the following for solutions of nonhomogeneous systems.\n",
    "Let ${\\bf X}$ be the fundamental matrix for $\\dot{\\bf x} = {\\bf A} {\\bf x} + {\\bf u}$.\n",
    "We want to construct a particular solution\n",
    "${\\bf x}^P = {\\bf X} {\\bf v}$, for the unknown vector ${\\bf v}$.\n",
    "\n",
    "Substituting,\n",
    "\n",
    "\\begin{eqnarray}\n",
    "\\dot{\\bf X} {\\bf v} + {\\bf X} \\dot{\\bf v} & = & {\\bf A} {\\bf X} {\\bf v} + {\\bf u} \\\\\n",
    "{\\bf A} {\\bf X} {\\bf v} + {\\bf X} \\dot{\\bf v} & = & {\\bf A} {\\bf X} {\\bf v} + {\\bf u} \\\\\n",
    "{\\bf X} \\dot{\\bf v} & = & {\\bf u} \\\\\n",
    "{\\bf v} = \\int \\left( {\\bf X}^{-1} {\\bf u} \\right)dt\n",
    "\\end{eqnarray}\n",
    "\n",
    "Note that there is an integration constant as well, but this need not be considered\n",
    "since all values of the constant still result in a valid particular solution."
   ]
  },
  {
   "cell_type": "code",
   "execution_count": 37,
   "metadata": {},
   "outputs": [
    {
     "data": {
      "text/latex": [
       "$\\displaystyle \\left[\\begin{matrix}\\frac{- \\frac{r_{1} u_{2} \\cos{\\left(a t \\right)}}{a} + \\frac{r_{2} u_{2} \\sin{\\left(a t \\right)}}{a} - \\frac{u_{1} \\cos{\\left(a t \\right)}}{a}}{r_{2}}\\\\\\frac{- \\frac{r_{1} u_{2} \\sin{\\left(a t \\right)}}{a} - \\frac{r_{2} u_{2} \\cos{\\left(a t \\right)}}{a} - \\frac{u_{1} \\sin{\\left(a t \\right)}}{a}}{r_{2}}\\end{matrix}\\right]$"
      ],
      "text/plain": [
       "⎡  r₁⋅u₂⋅cos(a⋅t)   r₂⋅u₂⋅sin(a⋅t)   u₁⋅cos(a⋅t)⎤\n",
       "⎢- ────────────── + ────────────── - ───────────⎥\n",
       "⎢        a                a               a     ⎥\n",
       "⎢───────────────────────────────────────────────⎥\n",
       "⎢                       r₂                      ⎥\n",
       "⎢                                               ⎥\n",
       "⎢  r₁⋅u₂⋅sin(a⋅t)   r₂⋅u₂⋅cos(a⋅t)   u₁⋅sin(a⋅t)⎥\n",
       "⎢- ────────────── - ────────────── - ───────────⎥\n",
       "⎢        a                a               a     ⎥\n",
       "⎢───────────────────────────────────────────────⎥\n",
       "⎣                       r₂                      ⎦"
      ]
     },
     "execution_count": 37,
     "metadata": {},
     "output_type": "execute_result"
    }
   ],
   "source": [
    "rhs = sympy.simplify(FUND_MAT.inv()*sympy.Matrix([[u1], [u2]]))\n",
    "rhs = sympy.integrate(rhs, t)\n",
    "rhs"
   ]
  },
  {
   "cell_type": "code",
   "execution_count": 38,
   "metadata": {},
   "outputs": [
    {
     "data": {
      "text/latex": [
       "$\\displaystyle \\left[\\begin{matrix}- r_{1} \\cos{\\left(a t \\right)} + r_{2} \\sin{\\left(a t \\right)} & - r_{1} \\sin{\\left(a t \\right)} - r_{2} \\cos{\\left(a t \\right)}\\\\\\cos{\\left(a t \\right)} & \\sin{\\left(a t \\right)}\\end{matrix}\\right]$"
      ],
      "text/plain": [
       "⎡-r₁⋅cos(a⋅t) + r₂⋅sin(a⋅t)  -r₁⋅sin(a⋅t) - r₂⋅cos(a⋅t)⎤\n",
       "⎢                                                      ⎥\n",
       "⎣         cos(a⋅t)                    sin(a⋅t)         ⎦"
      ]
     },
     "execution_count": 38,
     "metadata": {},
     "output_type": "execute_result"
    }
   ],
   "source": [
    "FUND_MAT"
   ]
  },
  {
   "cell_type": "code",
   "execution_count": 39,
   "metadata": {},
   "outputs": [
    {
     "data": {
      "text/latex": [
       "$\\displaystyle \\left[\\begin{matrix}c_{1} \\left(- r_{1} \\cos{\\left(a t \\right)} + r_{2} \\sin{\\left(a t \\right)}\\right) + c_{2} \\left(- r_{1} \\sin{\\left(a t \\right)} - r_{2} \\cos{\\left(a t \\right)}\\right)\\\\c_{1} \\cos{\\left(a t \\right)} + c_{2} \\sin{\\left(a t \\right)}\\end{matrix}\\right]$"
      ],
      "text/plain": [
       "⎡c₁⋅(-r₁⋅cos(a⋅t) + r₂⋅sin(a⋅t)) + c₂⋅(-r₁⋅sin(a⋅t) - r₂⋅cos(a⋅t))⎤\n",
       "⎢                                                                 ⎥\n",
       "⎣                    c₁⋅cos(a⋅t) + c₂⋅sin(a⋅t)                    ⎦"
      ]
     },
     "execution_count": 39,
     "metadata": {},
     "output_type": "execute_result"
    }
   ],
   "source": [
    "xhh = FUND_MAT*sympy.Matrix([[c1], [c2]])\n",
    "xhh"
   ]
  },
  {
   "cell_type": "code",
   "execution_count": 40,
   "metadata": {},
   "outputs": [
    {
     "data": {
      "text/latex": [
       "$\\displaystyle \\left[\\begin{matrix}\\frac{r_{1}^{2} u_{2} + r_{1} u_{1} + r_{2}^{2} u_{2}}{a r_{2}}\\\\- \\frac{r_{1} u_{2} + u_{1}}{a r_{2}}\\end{matrix}\\right]$"
      ],
      "text/plain": [
       "⎡  2                2   ⎤\n",
       "⎢r₁ ⋅u₂ + r₁⋅u₁ + r₂ ⋅u₂⎥\n",
       "⎢───────────────────────⎥\n",
       "⎢          a⋅r₂         ⎥\n",
       "⎢                       ⎥\n",
       "⎢    -(r₁⋅u₂ + u₁)      ⎥\n",
       "⎢    ──────────────     ⎥\n",
       "⎣         a⋅r₂          ⎦"
      ]
     },
     "execution_count": 40,
     "metadata": {},
     "output_type": "execute_result"
    }
   ],
   "source": [
    "xp = sympy.simplify(FUND_MAT*rhs)\n",
    "xp"
   ]
  },
  {
   "cell_type": "code",
   "execution_count": 41,
   "metadata": {},
   "outputs": [
    {
     "data": {
      "text/latex": [
       "$\\displaystyle \\left[\\begin{matrix}c_{1} \\left(- r_{1} \\cos{\\left(a t \\right)} + r_{2} \\sin{\\left(a t \\right)}\\right) + c_{2} \\left(- r_{1} \\sin{\\left(a t \\right)} - r_{2} \\cos{\\left(a t \\right)}\\right) + \\frac{r_{1}^{2} u_{2} + r_{1} u_{1} + r_{2}^{2} u_{2}}{a r_{2}}\\\\c_{1} \\cos{\\left(a t \\right)} + c_{2} \\sin{\\left(a t \\right)} - \\frac{r_{1} u_{2} + u_{1}}{a r_{2}}\\end{matrix}\\right]$"
      ],
      "text/plain": [
       "⎡                                                                      2      \n",
       "⎢                                                                    r₁ ⋅u₂ + \n",
       "⎢c₁⋅(-r₁⋅cos(a⋅t) + r₂⋅sin(a⋅t)) + c₂⋅(-r₁⋅sin(a⋅t) - r₂⋅cos(a⋅t)) + ─────────\n",
       "⎢                                                                             \n",
       "⎢                                                                             \n",
       "⎢                                                      r₁⋅u₂ + u₁             \n",
       "⎢                          c₁⋅cos(a⋅t) + c₂⋅sin(a⋅t) - ──────────             \n",
       "⎣                                                         a⋅r₂                \n",
       "\n",
       "          2   ⎤\n",
       "r₁⋅u₁ + r₂ ⋅u₂⎥\n",
       "──────────────⎥\n",
       " a⋅r₂         ⎥\n",
       "              ⎥\n",
       "              ⎥\n",
       "              ⎥\n",
       "              ⎦"
      ]
     },
     "execution_count": 41,
     "metadata": {},
     "output_type": "execute_result"
    }
   ],
   "source": [
    "nonh_solution = xhh + xp\n",
    "nonh_solution"
   ]
  },
  {
   "cell_type": "code",
   "execution_count": 42,
   "metadata": {},
   "outputs": [],
   "source": [
    "cdct = sympy.solve(nonh_solution.subs(t, 0) - sympy.Matrix([ [x1_0], [x2_0]]), [c1, c2])"
   ]
  },
  {
   "cell_type": "code",
   "execution_count": 43,
   "metadata": {},
   "outputs": [
    {
     "data": {
      "text/latex": [
       "$\\displaystyle \\left[\\begin{matrix}\\frac{\\left(- r_{1} \\sin{\\left(a t \\right)} - r_{2} \\cos{\\left(a t \\right)}\\right) \\left(- a r_{1} x_{2 0} - a x_{1 0} + r_{2} u_{2}\\right)}{a r_{2}} + \\frac{\\left(- r_{1} \\cos{\\left(a t \\right)} + r_{2} \\sin{\\left(a t \\right)}\\right) \\left(a r_{2} x_{2 0} + r_{1} u_{2} + u_{1}\\right)}{a r_{2}} + \\frac{r_{1}^{2} u_{2} + r_{1} u_{1} + r_{2}^{2} u_{2}}{a r_{2}}\\\\- \\frac{r_{1} u_{2} + u_{1}}{a r_{2}} + \\frac{\\left(- a r_{1} x_{2 0} - a x_{1 0} + r_{2} u_{2}\\right) \\sin{\\left(a t \\right)}}{a r_{2}} + \\frac{\\left(a r_{2} x_{2 0} + r_{1} u_{2} + u_{1}\\right) \\cos{\\left(a t \\right)}}{a r_{2}}\\end{matrix}\\right]$"
      ],
      "text/plain": [
       "⎡                                                                             \n",
       "⎢(-r₁⋅sin(a⋅t) - r₂⋅cos(a⋅t))⋅(-a⋅r₁⋅x₂ ₀ - a⋅x₁ ₀ + r₂⋅u₂)   (-r₁⋅cos(a⋅t) + \n",
       "⎢────────────────────────────────────────────────────────── + ────────────────\n",
       "⎢                           a⋅r₂                                              \n",
       "⎢                                                                             \n",
       "⎢                           r₁⋅u₂ + u₁   (-a⋅r₁⋅x₂ ₀ - a⋅x₁ ₀ + r₂⋅u₂)⋅sin(a⋅t\n",
       "⎢                         - ────────── + ─────────────────────────────────────\n",
       "⎣                              a⋅r₂                       a⋅r₂                \n",
       "\n",
       "                                          2                2   ⎤\n",
       "r₂⋅sin(a⋅t))⋅(a⋅r₂⋅x₂ ₀ + r₁⋅u₂ + u₁)   r₁ ⋅u₂ + r₁⋅u₁ + r₂ ⋅u₂⎥\n",
       "───────────────────────────────────── + ───────────────────────⎥\n",
       "         a⋅r₂                                     a⋅r₂         ⎥\n",
       "                                                               ⎥\n",
       ")   (a⋅r₂⋅x₂ ₀ + r₁⋅u₂ + u₁)⋅cos(a⋅t)                          ⎥\n",
       "─ + ─────────────────────────────────                          ⎥\n",
       "                   a⋅r₂                                        ⎦"
      ]
     },
     "execution_count": 43,
     "metadata": {},
     "output_type": "execute_result"
    }
   ],
   "source": [
    "nonh_solution = nonh_solution.subs(cdct)\n",
    "nonh_solution"
   ]
  },
  {
   "cell_type": "code",
   "execution_count": 44,
   "metadata": {},
   "outputs": [
    {
     "data": {
      "text/latex": [
       "$\\displaystyle \\left[\\begin{matrix}1.59154943091895 \\sin{\\left(6.28318530717959 t \\right)} + 25.0637811150552 \\cos{\\left(6.28318530717959 t \\right)} - 24.0637811150552\\\\- 17.339587555367 \\sin{\\left(6.28318530717959 t \\right)} - 24.0637811150552 \\cos{\\left(6.28318530717959 t \\right)} + 34.0637811150552\\end{matrix}\\right]$"
      ],
      "text/plain": [
       "⎡1.59154943091895⋅sin(6.28318530717959⋅t) + 25.0637811150552⋅cos(6.28318530717\n",
       "⎢                                                                             \n",
       "⎣-17.339587555367⋅sin(6.28318530717959⋅t) - 24.0637811150552⋅cos(6.28318530717\n",
       "\n",
       "959⋅t) - 24.0637811150552⎤\n",
       "                         ⎥\n",
       "959⋅t) + 34.0637811150552⎦"
      ]
     },
     "execution_count": 44,
     "metadata": {},
     "output_type": "execute_result"
    }
   ],
   "source": [
    "nonh_solution.subs(DCT).subs(DCT)"
   ]
  },
  {
   "cell_type": "code",
   "execution_count": 45,
   "metadata": {},
   "outputs": [
    {
     "data": {
      "text/latex": [
       "$\\displaystyle \\left[\\begin{matrix}17.5070437401085 \\sin{\\left(6.28318530717959 t \\right)} + 1.0 \\cos{\\left(6.28318530717959 t \\right)}\\\\- 18.1353622708264 \\sin{\\left(6.28318530717959 t \\right)} + 10.0 \\cos{\\left(6.28318530717959 t \\right)}\\end{matrix}\\right]$"
      ],
      "text/plain": [
       "⎡ 17.5070437401085⋅sin(6.28318530717959⋅t) + 1.0⋅cos(6.28318530717959⋅t) ⎤\n",
       "⎢                                                                        ⎥\n",
       "⎣-18.1353622708264⋅sin(6.28318530717959⋅t) + 10.0⋅cos(6.28318530717959⋅t)⎦"
      ]
     },
     "execution_count": 45,
     "metadata": {},
     "output_type": "execute_result"
    }
   ],
   "source": [
    "nonh_solution.subs(u1, 0).subs(u2, 0).subs(DCT)"
   ]
  },
  {
   "cell_type": "code",
   "execution_count": 46,
   "metadata": {},
   "outputs": [
    {
     "name": "stderr",
     "output_type": "stream",
     "text": [
      "Traceback (most recent call last):\n",
      "  File \"/home/ubuntu/Oscillators/osc/lib/python3.10/site-packages/sympy/core/traversal.py\", line 125, in _preorder_traversal\n",
      "    if isinstance(node, Basic):\n",
      "RuntimeError: Object of type <class 'NamedArray'> appears to be C subclassed NumPy array, void scalar, or allocated in a non-standard way.NumPy reserves the right to change the size of these structures. Projects are required to take this into account by either recompiling against a specific NumPy version or padding the struct and enforcing a maximum NumPy version.\n",
      "Exception ignored in: 'PyDataMem_UserFREE'\n",
      "Traceback (most recent call last):\n",
      "  File \"/home/ubuntu/Oscillators/osc/lib/python3.10/site-packages/sympy/core/traversal.py\", line 125, in _preorder_traversal\n",
      "    if isinstance(node, Basic):\n",
      "ValueError: PyCapsule_GetPointer called with invalid PyCapsule object\n"
     ]
    },
    {
     "data": {
      "image/png": "[encoded data removed]",
      "text/plain": [
       "<Figure size 432x288 with 1 Axes>"
      ]
     },
     "metadata": {
      "needs_background": "light"
     },
     "output_type": "display_data"
    }
   ],
   "source": [
    "dct = dict(DCT)\n",
    "if False:\n",
    "    dct[u1] = 0\n",
    "    dct[u2] = 0\n",
    "result = simulateSymbol(nonh_solution, t, dct)"
   ]
  },
  {
   "cell_type": "code",
   "execution_count": 47,
   "metadata": {},
   "outputs": [
    {
     "data": {
      "image/png": "[encoded data removed]",
      "text/plain": [
       "<Figure size 432x288 with 1 Axes>"
      ]
     },
     "metadata": {
      "needs_background": "light"
     },
     "output_type": "display_data"
    }
   ],
   "source": [
    "dct = dict(PARAM_DCT)\n",
    "if False:\n",
    "    dct[\"u1\"] = 0\n",
    "    dct[\"u2\"] = 0\n",
    "simulateRR(dct=dct)"
   ]
  },
  {
   "cell_type": "markdown",
   "metadata": {
    "id": "BEYNotG5I8zg"
   },
   "source": [
    "# Designing an Oscillator"
   ]
  },
  {
   "cell_type": "markdown",
   "metadata": {
    "id": "3gd0ydcHJCo-"
   },
   "source": [
    "The parameters of the oscillator are:\n",
    "* kinetics parameters: $k_4$, $\\delta$ (which then determine $k_1$, $k_3$, and $k_2$ doesn't matter)\n",
    "* initial conditions for species: $x_n (0)$, $n \\in \\{1, 2\\}$\n",
    "* forced inputs: $u_1, u_2$\n",
    "\n",
    "Given a desired frequency $\\alpha$, amplitude $h_1, h_2$, and\n",
    "midpoint $m_1, m_2$, find values of the parameters that achieve this."
   ]
  },
  {
   "cell_type": "markdown",
   "metadata": {},
   "source": [
    "$r_1 = \\frac{k_4}{k_4 + \\delta}$\n",
    "and $r_2 = \\frac{\\alpha}{\\delta + k_4}$,\n",
    "where $\\alpha = \\sqrt{\\delta k_4}$."
   ]
  },
  {
   "cell_type": "code",
   "execution_count": 73,
   "metadata": {},
   "outputs": [
    {
     "data": {
      "text/latex": [
       "$\\displaystyle \\left[\\begin{matrix}\\frac{a d x_{1 0} \\cos{\\left(a t \\right)} + a x_{1 0} \\sqrt{d k_{4}} \\sin{\\left(a t \\right)} + a x_{2 0} \\sqrt{d k_{4}} \\sin{\\left(a t \\right)} + d u_{1} \\sin{\\left(a t \\right)} - u_{1} \\sqrt{d k_{4}} \\cos{\\left(a t \\right)} + u_{1} \\sqrt{d k_{4}} - u_{2} \\sqrt{d k_{4}} \\cos{\\left(a t \\right)} + u_{2} \\sqrt{d k_{4}}}{a d}\\\\\\frac{- k_{4} u_{2} - u_{1} \\left(d + k_{4}\\right) + \\left(- a k_{4} x_{2 0} - a x_{1 0} \\left(d + k_{4}\\right) + u_{2} \\sqrt{d k_{4}}\\right) \\sin{\\left(a t \\right)} + \\left(a x_{2 0} \\sqrt{d k_{4}} + k_{4} u_{2} + u_{1} \\left(d + k_{4}\\right)\\right) \\cos{\\left(a t \\right)}}{a \\sqrt{d k_{4}}}\\end{matrix}\\right]$"
      ],
      "text/plain": [
       "⎡                             ______                     ______               \n",
       "⎢a⋅d⋅x₁ ₀⋅cos(a⋅t) + a⋅x₁ ₀⋅╲╱ d⋅k₄ ⋅sin(a⋅t) + a⋅x₂ ₀⋅╲╱ d⋅k₄ ⋅sin(a⋅t) + d⋅u\n",
       "⎢─────────────────────────────────────────────────────────────────────────────\n",
       "⎢                                                                             \n",
       "⎢                                                                             \n",
       "⎢                                        ⎛                                    \n",
       "⎢                 -k₄⋅u₂ - u₁⋅(d + k₄) + ⎝-a⋅k₄⋅x₂ ₀ - a⋅x₁ ₀⋅(d + k₄) + u₂⋅╲╱\n",
       "⎢                 ────────────────────────────────────────────────────────────\n",
       "⎢                                                                             \n",
       "⎣                                                                            a\n",
       "\n",
       "                  ______                 ______        ______                 \n",
       "₁⋅sin(a⋅t) - u₁⋅╲╱ d⋅k₄ ⋅cos(a⋅t) + u₁⋅╲╱ d⋅k₄  - u₂⋅╲╱ d⋅k₄ ⋅cos(a⋅t) + u₂⋅╲╱\n",
       "──────────────────────────────────────────────────────────────────────────────\n",
       "  a⋅d                                                                         \n",
       "                                                                              \n",
       "______⎞            ⎛         ______                      ⎞                    \n",
       " d⋅k₄ ⎠⋅sin(a⋅t) + ⎝a⋅x₂ ₀⋅╲╱ d⋅k₄  + k₄⋅u₂ + u₁⋅(d + k₄)⎠⋅cos(a⋅t)           \n",
       "───────────────────────────────────────────────────────────────────           \n",
       "   ______                                                                     \n",
       "⋅╲╱ d⋅k₄                                                                      \n",
       "\n",
       "______⎤\n",
       " d⋅k₄ ⎥\n",
       "──────⎥\n",
       "      ⎥\n",
       "      ⎥\n",
       "      ⎥\n",
       "      ⎥\n",
       "      ⎥\n",
       "      ⎥\n",
       "      ⎦"
      ]
     },
     "execution_count": 73,
     "metadata": {},
     "output_type": "execute_result"
    }
   ],
   "source": [
    "dct = {r1: k4/(k4 + d), r2: a/ (d + k4), a: sympy.sqrt(d*k4)}\n",
    "xf = sympy.simplify(nonh_solution.subs(dct).subs(dct))\n",
    "xf"
   ]
  },
  {
   "cell_type": "markdown",
   "metadata": {},
   "source": [
    "## Solutions"
   ]
  },
  {
   "cell_type": "code",
   "execution_count": 56,
   "metadata": {},
   "outputs": [
    {
     "data": {
      "image/png": "[encoded data removed]",
      "text/latex": [
       "$\\displaystyle \\frac{\\sqrt{d} \\sqrt{k_{4}} \\left(\\sqrt{d} \\sqrt{k_{4}} \\cos{\\left(\\sqrt{d} \\sqrt{k_{4}} t \\right)} + k_{4} \\sin{\\left(\\sqrt{d} \\sqrt{k_{4}} t \\right)}\\right) \\left(k_{4} x_{2 0} - u_{2} + x_{1 0} \\left(d + k_{4}\\right)\\right) + k_{4} \\left(d + k_{4}\\right) \\left(u_{1} + u_{2}\\right) + \\left(\\sqrt{d} \\sqrt{k_{4}} \\sin{\\left(\\sqrt{d} \\sqrt{k_{4}} t \\right)} - k_{4} \\cos{\\left(\\sqrt{d} \\sqrt{k_{4}} t \\right)}\\right) \\left(d k_{4} x_{2 0} + k_{4} u_{2} + u_{1} \\left(d + k_{4}\\right)\\right)}{d k_{4} \\left(d + k_{4}\\right)}$"
      ],
      "text/plain": [
       "     ____ ⎛     ____    ⎛     ____  ⎞         ⎛     ____  ⎞⎞                  \n",
       "√d⋅╲╱ k₄ ⋅⎝√d⋅╲╱ k₄ ⋅cos⎝√d⋅╲╱ k₄ ⋅t⎠ + k₄⋅sin⎝√d⋅╲╱ k₄ ⋅t⎠⎠⋅(k₄⋅x₂ ₀ - u₂ + x\n",
       "──────────────────────────────────────────────────────────────────────────────\n",
       "                                                                              \n",
       "\n",
       "                                        ⎛     ____    ⎛     ____  ⎞         ⎛ \n",
       "₁ ₀⋅(d + k₄)) + k₄⋅(d + k₄)⋅(u₁ + u₂) + ⎝√d⋅╲╱ k₄ ⋅sin⎝√d⋅╲╱ k₄ ⋅t⎠ - k₄⋅cos⎝√\n",
       "──────────────────────────────────────────────────────────────────────────────\n",
       "                d⋅k₄⋅(d + k₄)                                                 \n",
       "\n",
       "    ____  ⎞⎞                                  \n",
       "d⋅╲╱ k₄ ⋅t⎠⎠⋅(d⋅k₄⋅x₂ ₀ + k₄⋅u₂ + u₁⋅(d + k₄))\n",
       "──────────────────────────────────────────────\n",
       "                                              "
      ]
     },
     "execution_count": 56,
     "metadata": {},
     "output_type": "execute_result"
    }
   ],
   "source": [
    "xf1 = xf[0]\n",
    "xf2 = xf[1]"
   ]
  },
  {
   "cell_type": "code",
   "execution_count": 70,
   "metadata": {},
   "outputs": [
    {
     "data": {
      "image/png": "[encoded data removed]",
      "text/latex": [
       "$\\displaystyle \\left[ - k_{4} \\left(d + k_{4}\\right) \\left(u_{1} + u_{2}\\right) + m_{1}, \\  a - \\sqrt{d k_{4}}, \\  h_{1} - \\max\\left(a^{2}, k_{4} \\cdot \\left(20 k_{4} - u_{2} + x_{1 0} \\left(d + k_{4}\\right)\\right), \\frac{k_{4} x_{2 0} - u_{2} + x_{1 0} \\left(d + k_{4}\\right)}{d \\left(d + k_{4}\\right)}, \\frac{a^{2}}{d k_{4} \\left(d + k_{4}\\right)}\\right)\\right]$"
      ],
      "text/plain": [
       "⎡                                   ______                                    \n",
       "⎣-k₄⋅(d + k₄)⋅(u₁ + u₂) + m₁, a - ╲╱ d⋅k₄ , h₁ - Max(a**2, k4*(20*k4 - u2 + x1\n",
       "\n",
       "                                                                              \n",
       "_0*(d + k4)), (k4*x2_0 - u2 + x1_0*(d + k4))/(d*(d + k4)), a**2/(d*k4*(d + k4)\n",
       "\n",
       "  ⎤\n",
       "))⎦"
      ]
     },
     "execution_count": 70,
     "metadata": {},
     "output_type": "execute_result"
    }
   ],
   "source": [
    "eqns = [m1 - (𝑘4*(𝑑+𝑘4)*(𝑢1+𝑢2)), a - sympy.sqrt(d*k4),\n",
    "       h1 - sympy.Max(a**2, k4*(𝑘4*20 - 𝑢2+ 𝑥1_0*(𝑑+𝑘4)), \n",
    "                     a**2/(d*k4*(d + k4)), k4*(𝑘4*𝑥2_0 - \n",
    "                                               𝑢2+𝑥1_0*(𝑑+𝑘4))/(d*k4*(d + k4)))]\n",
    "eqns"
   ]
  },
  {
   "cell_type": "code",
   "execution_count": 84,
   "metadata": {},
   "outputs": [
    {
     "data": {
      "image/png": "[encoded data removed]",
      "text/latex": [
       "$\\displaystyle \\left\\{ a : \\sqrt{d k_{4}}, \\  h_{1} : \\max\\left(a^{2}, k_{4} \\left(k_{4} x_{2 0} - u_{2} + x_{1 0} \\left(d + k_{4}\\right)\\right), \\frac{k_{4} x_{2 0} - u_{2} + x_{1 0} \\left(d + k_{4}\\right)}{d \\left(d + k_{4}\\right)}, \\frac{1}{d + k_{4}}\\right), \\  m_{1} : k_{4} \\left(d + k_{4}\\right) \\left(u_{1} + u_{2}\\right)\\right\\}$"
      ],
      "text/plain": [
       "⎧     ______                                                                  \n",
       "⎨a: ╲╱ d⋅k₄ , h₁: Max(a**2, k4*(k4*x2_0 - u2 + x1_0*(d + k4)), (k4*x2_0 - u2 +\n",
       "⎩                                                                             \n",
       "\n",
       "                                                                    ⎫\n",
       " x1_0*(d + k4))/(d*(d + k4)), 1/(d + k4)), m₁: k₄⋅(d + k₄)⋅(u₁ + u₂)⎬\n",
       "                                                                    ⎭"
      ]
     },
     "execution_count": 84,
     "metadata": {},
     "output_type": "execute_result"
    }
   ],
   "source": [
    "design_solutions = {a: sympy.sqrt(d*k4),\n",
    "                    h1: sympy.Max(a**2, k4*(𝑘4*x2_0 - 𝑢2+ 𝑥1_0*(𝑑+𝑘4)), \n",
    "                     1/(d + k4), \n",
    "                    k4*(𝑘4*𝑥2_0 - 𝑢2+𝑥1_0*(𝑑+𝑘4))/(d*k4*(d + k4))),\n",
    "                    m1: (𝑘4*(𝑑+𝑘4)*(𝑢1+𝑢2))}\n",
    "design_solutions"
   ]
  },
  {
   "cell_type": "code",
   "execution_count": 78,
   "metadata": {},
   "outputs": [],
   "source": [
    "# Cannot calculate this automatically\n",
    "#sympy.solve(eqns, [d, k1, k2, k3, k4, x1_0, x2_0, u1, u2])"
   ]
  },
  {
   "cell_type": "markdown",
   "metadata": {},
   "source": [
    "**Double check equations to make sure correct translations between steps**"
   ]
  },
  {
   "cell_type": "markdown",
   "metadata": {},
   "source": [
    "**Approach**\n",
    "1. $\\delta = \\frac{\\alpha^2}{k_4}$\n",
    "1. Choose $u_1, u_2$ to calculate $m_1$"
   ]
  },
  {
   "cell_type": "markdown",
   "metadata": {
    "id": "Df5mxawDyUuV"
   },
   "source": [
    "# Notes\n",
    "1. Develop the idea of a UMRA approximation to a non-linear network.\n",
    "  1. For mas action networks with two reactants, create two separate uni-reactant reactions. How select the kinetics constants in the approximation to most accurate estimate the original network. The kinetics constants can be approximated using a Taylor's series or by an orthogonal projection for an appropriately defined inner product space.\n",
    "\n",
    "1. Note that the eigenvalues are ${\\bf e} = \\{ \\lambda |  det \\left( {\\bf A} - \\lambda {\\bf I} \\right) = 0 \\}$.\n",
    "Since ${\\bf A} = {\\bf H} + {\\bf K}$,\n",
    "$ {\\bf A} - \\lambda {\\bf I}  = {\\bf H} + {\\bf K} - \\lambda {\\bf I}$.\n",
    "\n",
    "1. Note that $det \\left( {\\bf A} - \\lambda {\\bf I} \\right)\n",
    "= \\left( {\\bf N V} - \\lambda {\\bf I} \\right)$.\n",
    "Further, $det \\left( {\\bf N} - \\lambda {\\bf I} \\right) \\left(\n",
    " {\\bf V} - \\lambda {\\bf I} \\right)$\n",
    " $= det \\left[ {\\bf N}{\\bf V} - \\lambda {\\bf N} - \\lambda {\\bf V} + I \\right]$. Can I use information about the [sum of determinants](https://www.geeksforgeeks.org/eigen-values-and-eigen-vectors/) to figure out\n",
    " how $\\lambda$ changes if $k_m$ changes?\n",
    "\n",
    "1. From [\"Facts about Eigenvalues\"](https://www.adelaide.edu.au/mathslearning/ua/media/120/evalue-magic-tricks-handout.pdf), I know that for a polynomial function $g(x)$, $g({\\bf A})$ has eigenvalues $g(\\lambda_1), \\cdots, g(\\lambda_n)$ for the matrix ${\\bf A}$ with eigenvalues $\\lambda_1, \\cdots, \\lambda_n$.\n",
    "So, it's easy to transform ${\\bf A}$ in a way that preserves\n",
    "UMRN so that the dominant eigenvalue is at 0 by subtracting along\n",
    "the diagonal.\n",
    "The challenge is making the this eigenvalue have a non-zero imaginary component.\n",
    "\n",
    "1. Note that in the decomposition into Hermitian and skew Hermitian matrices ${\\bf A} = {\\bf H} + {\\bf K}$, the diagonal of ${\\bf K}$ must be zero if ${\\bf A}$ is real valued.\n",
    "So, how can ${\\bf K}$ be transformed to create imaginary eigenvalues?\n",
    "\n",
    "1. Might consider using the polar decomposition, where ${\\bf A} = {\\bf U} {\\bf P}$, where ${\\bf U}$ is unitary and ${\\bf P}$ is positiv semidefinite. My hypothesis is that if ${\\bf U}$ is a rotation other than $n \\pi$, then ${\\bf A}$ has at least one imaginary eigenvalue. I still have the challenge of making the *dominant* eigenvalue have a non-zero imaginary part.\n",
    "\n",
    "1. Try exploring matrices and their decompositions to understand the criteria for obtaining eigenvalues with a non-zero imaginary part.\n",
    "\n",
    "1. **Issue**: Not getting the correct period\n"
   ]
  },
  {
   "cell_type": "markdown",
   "metadata": {
    "id": "N8-s-ZG4g5iK"
   },
   "source": [
    "# Other Oscilators"
   ]
  },
  {
   "cell_type": "code",
   "execution_count": 49,
   "metadata": {
    "colab": {
     "base_uri": "https://localhost:8080/",
     "height": 265
    },
    "id": "qRQKI37Kg7-J",
    "outputId": "260f0e7a-950c-42ba-9933-6b5b1055f152"
   },
   "outputs": [
    {
     "data": {
      "image/png": "[encoded data removed]",
      "text/plain": [
       "<Figure size 432x288 with 1 Axes>"
      ]
     },
     "metadata": {},
     "output_type": "display_data"
    },
    {
     "name": "stderr",
     "output_type": "stream",
     "text": [
      "Traceback (most recent call last):\n",
      "  File \"/tmp/ipykernel_1589239/1829626470.py\", line 17, in <cell line: 17>\n",
      "RuntimeError: Object of type <class 'NamedArray'> appears to be C subclassed NumPy array, void scalar, or allocated in a non-standard way.NumPy reserves the right to change the size of these structures. Projects are required to take this into account by either recompiling against a specific NumPy version or padding the struct and enforcing a maximum NumPy version.\n"
     ]
    }
   ],
   "source": [
    "# Evolved oscillator\n",
    "r = te.loada ('''\n",
    "var S0\n",
    "var S1\n",
    "ext S2\n",
    "S1 -> S1+S1; k0*S1\n",
    "S1 + S0 -> S0 + S0; k1*S1*S0\n",
    "S0 -> ; k2*S0\n",
    "k0 = 54\n",
    "k1 = 22\n",
    "k2 = 340\n",
    "S0 = 1.0\n",
    "S1 = 5.0\n",
    "S2 = 9.0\n",
    "''')\n",
    "m = r.simulate (0, 0.5, 400)\n",
    "r.plot()"
   ]
  },
  {
   "cell_type": "code",
   "execution_count": 50,
   "metadata": {
    "colab": {
     "base_uri": "https://localhost:8080/",
     "height": 265
    },
    "id": "evdOpZCI9vy_",
    "outputId": "3ae53190-b82b-458a-d171-11ab65573fdb"
   },
   "outputs": [
    {
     "name": "stderr",
     "output_type": "stream",
     "text": [
      "Traceback (most recent call last):\n",
      "  File \"/tmp/ipykernel_1589239/4172634683.py\", line 25, in <cell line: 25>\n",
      "RuntimeError: Object of type <class 'NamedArray'> appears to be C subclassed NumPy array, void scalar, or allocated in a non-standard way.NumPy reserves the right to change the size of these structures. Projects are required to take this into account by either recompiling against a specific NumPy version or padding the struct and enforcing a maximum NumPy version.\n",
      "Exception ignored in: 'PyDataMem_UserFREE'\n",
      "Traceback (most recent call last):\n",
      "  File \"/tmp/ipykernel_1589239/4172634683.py\", line 25, in <cell line: 25>\n",
      "ValueError: PyCapsule_GetPointer called with invalid PyCapsule object\n"
     ]
    },
    {
     "data": {
      "image/png": "[encoded data removed]",
      "text/plain": [
       "<Figure size 432x288 with 1 Axes>"
      ]
     },
     "metadata": {},
     "output_type": "display_data"
    },
    {
     "name": "stderr",
     "output_type": "stream",
     "text": [
      "Traceback (most recent call last):\n",
      "  File \"/tmp/ipykernel_1589239/4172634683.py\", line 26, in <cell line: 26>\n",
      "RuntimeError: Object of type <class 'NamedArray'> appears to be C subclassed NumPy array, void scalar, or allocated in a non-standard way.NumPy reserves the right to change the size of these structures. Projects are required to take this into account by either recompiling against a specific NumPy version or padding the struct and enforcing a maximum NumPy version.\n"
     ]
    }
   ],
   "source": [
    "model = \"\"\"\n",
    "// Oscillator (Heinrich model)\n",
    "// From the review:\n",
    "// Metabolic Regulation and Mathematical Models\n",
    "// R.HEINRICH, S.M.RAPOPORT, T.A.RAPOPORT\n",
    "// In Progress in Biophysics and Molecular Biology\n",
    "// 1977, Vol 32, p1-82\n",
    "\n",
    "// Reactions:\n",
    "J0: $X0 -> S1; v0\n",
    "J1: S1 -> ; k3*S1\n",
    "J2: S1 -> S2; (k1*S1 - k_1*S2)*(1 + c*S2^q)\n",
    "J3: S2 ->; k2*S2\n",
    "\n",
    "// Species initializations\n",
    "S1 = 0; S2 = 1; X0 = 1\n",
    "\n",
    "// Variable initializations\n",
    "v0 = 8; k3 = 0\n",
    "k1 = 1; k_1 = 0\n",
    "c = 1;  q = 3\n",
    "k2 = 5;\n",
    "\"\"\"\n",
    "rr = te.loada(model)\n",
    "rr.simulate(0, 20)\n",
    "rr.plot()"
   ]
  },
  {
   "cell_type": "markdown",
   "metadata": {},
   "source": [
    "# Save"
   ]
  },
  {
   "cell_type": "markdown",
   "metadata": {
    "tags": []
   },
   "source": [
    "The homogeneous system is $\\dot{\\bf x} = {\\bf A} {\\bf x}$.\n",
    "Consider\n",
    "Its solution has the for\n",
    "${\\bf x}(t) = \\sum _{n=1}^2 c_n {\\bf e}_n e^{\\lambda_n t}$."
   ]
  },
  {
   "cell_type": "markdown",
   "metadata": {},
   "source": [
    "The homogeneous system is $\\dot{\\bf x} = {\\bf A} {\\bf x}$.\n",
    "Its solution has the for\n",
    "${\\bf x}(t) = \\sum _{n=1}^2 c_n {\\bf e}_n e^{\\lambda_n t}$."
   ]
  },
  {
   "cell_type": "markdown",
   "metadata": {},
   "source": [
    "Note that $e^{\\pm \\alpha i } = cos(\\alpha ) \\pm i sin(\\alpha )$.\n",
    "In the following, $\\alpha = \\sqrt{\\delta k_4}$.\n",
    "So\n",
    "\n",
    "$\n",
    "\\begin{eqnarray}\n",
    "{\\bf x} (t) & = & c_1 {\\bf e}_1 e^{\\lambda_1 t} + c_2 {\\bf e}_2 e^{\\lambda_2 t} \\\\\n",
    "& = & c_1 {\\bf e}_1 \\left[ cos (\\alpha t) - i sin(\\alpha t) \\right] \n",
    "+ c_2 {\\bf e}_2 [ cos (\\alpha t) + i sin(\\alpha t) ]  \\\\\n",
    "& = &\n",
    "c_1 \\left[\\begin{matrix} - \\frac{k_{4}}{\\delta - k_{4}} [cos(\\alpha) - i sin(\\alpha)]  -\n",
    "\\frac{\\alpha i}{d + k_{4}}[cos(\\alpha) - i sin(\\alpha)]\\\\\n",
    "cos(\\alpha) - i sin(\\alpha)\n",
    "\\end{matrix}\\right] +\n",
    "c_2 \\left[\\begin{matrix} - \\frac{k_{4}}{\\delta + k_{4}} [cos(\\alpha) + i sin(\\alpha)]  + \\frac{\\alpha i}{d + k_{4}}[cos(\\alpha) + i sin(\\alpha)]\\\\\n",
    "cos(\\alpha) + i sin(\\alpha)\n",
    "\\end{matrix}\\right] \\\\\n",
    "& = &\n",
    "2c \\left[ \\begin{matrix} -\\frac{k_4}{\\delta + k_4}cos(\\alpha t) -\\frac{\\alpha}{\\delta + k_4}sin(\\alpha t) \\\\\n",
    "  cos(\\alpha t)\n",
    "\\end{matrix} \\right]\n",
    "\\end{eqnarray}\n",
    "$.\n",
    "\n",
    "There is no solution that is consistent with the assumption that the\n",
    "eigenvalues are pure imaginary.\n",
    "Note that in order to get real values for the solution, we must have $c_1 = c = c_2$.\n",
    "So, $c = \\frac{x_2(0)}{2}$.\n",
    "But $c = -\\frac{x_1(0) [k_4 + \\delta]}{2 k_4}$."
   ]
  },
  {
   "cell_type": "markdown",
   "metadata": {},
   "source": [
    "Make this into a sum of real and imaginary values.\n",
    "$\n",
    "\\begin{eqnarray}\n",
    "& = &\n",
    " \\left[\\begin{matrix} - \\frac{k_{4}}{\\delta - k_{4}} [c_1 + c_2] cos(\\alpha) +\n",
    "\\frac{\\alpha i}{d + k_{4}}[c_2 - c_1]\\\\\n",
    "c_1 + c_2\n",
    "\\end{matrix}\\right]  \\\\\n",
    "& ~~ + &\n",
    " \\left[\\begin{matrix} - \\frac{k_{4}}{\\delta - k_{4}} [- c_1 + c_2]  +\n",
    "\\frac{\\alpha i}{d + k_{4}}[c_2 + c_1]\\\\\n",
    "- c_1 + c_2\n",
    "\\end{matrix}\\right] i sin(\\alpha) \n",
    "\\end{eqnarray}\n",
    "$.\n"
   ]
  }
 ],
 "metadata": {
  "colab": {
   "collapsed_sections": [],
   "name": "Linear Algebra Analysis of Oscillations.ipynb",
   "provenance": [],
   "toc_visible": true
  },
  "kernelspec": {
   "display_name": "Python 3 (ipykernel)",
   "language": "python",
   "name": "python3"
  },
  "language_info": {
   "codemirror_mode": {
    "name": "ipython",
    "version": 3
   },
   "file_extension": ".py",
   "mimetype": "text/x-python",
   "name": "python",
   "nbconvert_exporter": "python",
   "pygments_lexer": "ipython3",
   "version": "3.10.4"
  },
  "toc-showtags": true
 },
 "nbformat": 4,
 "nbformat_minor": 4
}
