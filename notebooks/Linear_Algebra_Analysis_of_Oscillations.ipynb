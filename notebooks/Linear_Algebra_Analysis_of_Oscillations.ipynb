{
  "nbformat": 4,
  "nbformat_minor": 0,
  "metadata": {
    "colab": {
      "name": "Linear Algebra Analysis of Oscillations.ipynb",
      "provenance": [],
      "collapsed_sections": [],
      "toc_visible": true
    },
    "kernelspec": {
      "name": "python3",
      "display_name": "Python 3"
    },
    "language_info": {
      "name": "python"
    }
  },
  "cells": [
    {
      "cell_type": "markdown",
      "source": [
        "# LINEAR ALGEBRA ANALYSIS OF OSCILLATIONS"
      ],
      "metadata": {
        "id": "YX_GiD-6pqvS"
      }
    },
    {
      "cell_type": "code",
      "source": [
        "!pip install -q tellurium\n",
        "import tellurium as te\n",
        "import sympy\n",
        "from sympy import init_printing\n",
        "import numpy as np\n",
        "import pandas as pd\n",
        "\n",
        "init_printing()"
      ],
      "metadata": {
        "colab": {
          "base_uri": "https://localhost:8080/"
        },
        "id": "fwyR8MQxcT0z",
        "outputId": "e143ffc1-d580-4694-8a30-1698f02416f1"
      },
      "execution_count": null,
      "outputs": [
        {
          "output_type": "stream",
          "name": "stdout",
          "text": [
            "\u001b[K     |████████████████████████████████| 121 kB 5.7 MB/s \n",
            "\u001b[K     |████████████████████████████████| 3.3 MB 36.3 MB/s \n",
            "\u001b[K     |████████████████████████████████| 36.7 MB 45.0 MB/s \n",
            "\u001b[K     |████████████████████████████████| 38.1 MB 42.0 MB/s \n",
            "\u001b[K     |████████████████████████████████| 6.8 MB 16.9 MB/s \n",
            "\u001b[K     |████████████████████████████████| 121 kB 35.8 MB/s \n",
            "\u001b[K     |████████████████████████████████| 5.6 MB 31.8 MB/s \n",
            "\u001b[K     |████████████████████████████████| 2.6 MB 37.6 MB/s \n",
            "\u001b[K     |████████████████████████████████| 54.8 MB 1.3 MB/s \n",
            "\u001b[K     |████████████████████████████████| 2.1 MB 33.4 MB/s \n",
            "\u001b[K     |████████████████████████████████| 3.2 MB 34.7 MB/s \n",
            "\u001b[K     |████████████████████████████████| 4.3 MB 39.6 MB/s \n",
            "\u001b[31mERROR: pip's dependency resolver does not currently take into account all the packages that are installed. This behaviour is the source of the following dependency conflicts.\n",
            "albumentations 0.1.12 requires imgaug<0.2.7,>=0.2.5, but you have imgaug 0.2.9 which is incompatible.\u001b[0m\n",
            "\u001b[?25h"
          ]
        }
      ]
    },
    {
      "cell_type": "markdown",
      "source": [
        "# Notation"
      ],
      "metadata": {
        "id": "nzmEWXSarUu1"
      }
    },
    {
      "cell_type": "markdown",
      "source": [
        "**Scalars**\n",
        "\n",
        "* $N$ is the number of chemical species (state variables)\n",
        "* $n$ indexes chemical species\n",
        "* $M$ is the number of reactions\n",
        "* $m$ indexes reactions"
      ],
      "metadata": {
        "id": "-frlvR2JuKgm"
      }
    },
    {
      "cell_type": "markdown",
      "source": [
        "**Vectors and Matrices**\n",
        "\n",
        "* ${\\bf x}$ ($N \\times 1$) is the state vector\n",
        "* ${\\bf k}$ ($M \\times 1$) is a vector of parameters\n",
        "* ${\\bf u}$ is the input vector\n",
        "* ${\\bf B}$ is the constant input matrix\n",
        "* ${\\bf A}$ is the constant state transition matrix\n",
        "* ${\\bf N}$ ($N \\times M$) is the constant stoichiometry matrix\n",
        "* ${\\bf V}$ ($M \\times N$) is the flux vector\n",
        "* $\\dot{ {\\bf x}} = {\\bf A} {\\bf x} + {\\bf B}{\\bf u}$ is the time derivative of state\n"
      ],
      "metadata": {
        "id": "930iyzY5rWZ3"
      }
    },
    {
      "cell_type": "markdown",
      "source": [
        "# Definitions"
      ],
      "metadata": {
        "id": "K34Byqz0pxyr"
      }
    },
    {
      "cell_type": "markdown",
      "source": [
        "* A **reaction network** is a system of ODEs that can be realized by a collection of reactions where the concentration of chemical species are the state variables.\n",
        "\n",
        "* A **linear reaction network (LRN)** is a reaction network with kinetics that form a system of linear ODEs.\n",
        "\n",
        "* A **uni-reactant, mass action reaction network (UMRN)** is a reaction network in which all reactions have a single reactant and the kinetics are mass action.\n",
        "\n",
        "* Two networks are **compatible** if they have the same chemical species. We can always make two networks compatible by including missing species, although there will be no reactions with those species."
      ],
      "metadata": {
        "id": "YpaiobF6p2Np"
      }
    },
    {
      "cell_type": "markdown",
      "source": [
        "# Preliminary Results"
      ],
      "metadata": {
        "id": "JtGi_K7lq4lj"
      }
    },
    {
      "cell_type": "markdown",
      "source": [
        "The goal of this analysis is to characterize how changes in reaction rates and/or structure affect eigenvalues, especially: (a) stability and (b) oscillations."
      ],
      "metadata": {
        "id": "mMgtFosj09FT"
      }
    },
    {
      "cell_type": "markdown",
      "source": [
        "**Claim**: ${\\bf A}$ specifies a UMRN system iff\n",
        "there are ${\\bf A} = {\\bf N} {\\bf V}$ such that:\n",
        "* Every column in ${\\bf N}$ has exactly one negative value.\n",
        "* Every row in ${\\bf V}$ has exactly one non-zero value."
      ],
      "metadata": {
        "id": "jtn4ClXNx76l"
      }
    },
    {
      "cell_type": "markdown",
      "source": [
        "**Observations for a UMRN**\n",
        "* If ${\\bf A}$ specifies a UMRA, then $r {\\bf A}$ is a UMRA for $r \\geq 0$.\n",
        "* If ${\\bf A}$, ${\\bf A}^{\\prime}$ are for compatible UMRN systems, then ${\\bf A} + {\\bf A}^{\\prime}$ specifies a UMRA system."
      ],
      "metadata": {
        "id": "pp5WHqoCrIHC"
      }
    },
    {
      "cell_type": "markdown",
      "source": [
        "**Possible Claim**: If ${\\bf A}$ specifies a LRA, then exists UMRA matrices ${\\bf N}$, ${\\bf V}$ such that ${\\bf A} = {\\bf N} {\\bf V}$."
      ],
      "metadata": {
        "id": "n27V57kEvuf1"
      }
    },
    {
      "cell_type": "markdown",
      "source": [
        ""
      ],
      "metadata": {
        "id": "XwaJVgoRs2Tl"
      }
    },
    {
      "cell_type": "markdown",
      "source": [
        "**Claim**: A UMRA is an LRA.\n",
        "\n",
        "**Proof**: "
      ],
      "metadata": {
        "id": "29541g5Lq9f2"
      }
    },
    {
      "cell_type": "markdown",
      "source": [
        "**Claim**: Consider an UMRA with state variable Jacobian ${\\bf A}$\n",
        "and eigenvalues $\\lambda_1, \\cdots, \\lambda_N$.\n",
        "Consider a second UMRA that consists entirely of autocatyltic reactions\n",
        "so that $\\dot{x} = a x$, $a > 0$ for all state variables $x$.\n",
        "Then, the combination of these two networks has the eigenvalues\n",
        "$\\lambda_1 + a, \\cdots, \\lambda_N +a$.\n",
        "\n",
        "This claim allows us to change the real part of the eigenvalues."
      ],
      "metadata": {
        "id": "yTG8B1i86aCF"
      }
    },
    {
      "cell_type": "markdown",
      "source": [
        "# Analysis of Characteristic Equations"
      ],
      "metadata": {
        "id": "ZejTS6aR77x_"
      }
    },
    {
      "cell_type": "markdown",
      "source": [
        "For the Jacobian ${\\bf A}$, the characteristic equation is\n",
        "$p(\\lambda) = |{\\bf A} - \\lambda {\\bf I}| = 0$.\n",
        "\n",
        "$p(\\lambda)$ can be expressed in the following ways.\n",
        "1. $p(\\lambda) = \\sum_{n=0}^N \\alpha_n \\lambda^n$\n",
        "1. $p(\\lambda) = \\Pi_{n=1}^N (\\lambda - \\lambda_n)$\n",
        "1. $p(\\lambda) = \\sum_{\\sigma} sign(\\sigma) \\Pi_{n=1}^N (a_{n, \\sigma(n)} - \\phi_{n, \\sigma(n)} \\lambda)$, where $\\phi_{n_1, n_2} = 1 \\iff n_1 = n_2$.\n",
        "\n",
        "In the foregoing, $\\sigma$ is a permutation of $(1, \\cdots, N)$,\n",
        "and $sign(\\sigma)$ is $(-1)^n$, where $n$ is the number of pairwise exchanges to construct the permutation from the identity permutation.\n",
        "\n",
        "Suppose that initially ${\\bf A}$ is diagonal with $a_{nn} < 0$.\n",
        "That is, the network consists entirely of degradation reactions,\n",
        "and let $p$ be the characteristic polynomial for this network.\n",
        "Now consider ${\\bf A}^{\\prime}$ that adds to this network\n",
        "the reactions\n",
        "$x_1 \\rightarrow m_2 x_2$ at rate $k_1$, where $m_2$ is the stoichiometry of the species $x_2$,\n",
        "and $x_2 \\rightarrow m_1 x_1$ at rate $k_2$.\n",
        "Let $p^{\\prime}$ be the characteristic polynomial for this network.\n",
        "${\\bf A}^D = {\\bf A}^{\\prime} - {\\bf A}$ has 3 non-zero entries:\n",
        "* $a^D_{1,1} = -k_1$\n",
        "* $a^D_{1,2} = m_2 k_1$\n",
        "* $a^D_{2, 1} = m_1 k_2$\n",
        "* $a^D_{2,2} = -k_2$\n",
        "\n",
        "Further, define $p_{1,2} (\\lambda) = \\Pi_{n\\neq1,2} (\\lambda - \\lambda_n)$.\n",
        "$p(\\lambda) = p_{1,2}(\\lambda) (\\lambda - \\lambda_1)(\\lambda - \\lambda_2) $.\n",
        "$p^{\\prime} (\\lambda) = p_{1,2}(\\lambda)\n",
        "\\left( (\\lambda - \\lambda_1)(\\lambda - \\lambda_2) - a^D_{1,2} a^D_{2,1} \\right)$.\n",
        "\n",
        "[Is this correct? I should get an imaginary result?]"
      ],
      "metadata": {
        "id": "TmLekx8d7__f"
      }
    },
    {
      "cell_type": "markdown",
      "source": [
        "A key consideration is determining if a cubic equation has a pure imaginary root.\n",
        "\n",
        "Consider \n",
        "\\begin{eqnarray}\n",
        "p(\\lambda) & = & (\\lambda - r)(\\lambda - ib)(\\lambda + ib) \\\\\n",
        "& = & (\\lambda -r)(\\lambda^2 + b^2) \\\\\n",
        "& = & \\lambda^3 - r \\lambda^2 + b^2 \\lambda - r b^2 \\\\\n",
        "& = & A \\lambda^3 - B \\lambda^2 + C \\lambda - D \\\\\n",
        "\\end{eqnarray}\n",
        "where $A = 1$.\n",
        "\n",
        "Observed that the roots are easily determined from the coefficients of the terms.\n",
        "A simple check is that $D = BC$, and $B, C, D$ are functions of ${\\bf k}$.\n",
        "\n",
        "Consider the objective function $min_{\\bf k} |D - BC|$. The one concern here is that all eigenvalues are non-positive.\n"
      ],
      "metadata": {
        "id": "0ay5JlwzVmUF"
      }
    },
    {
      "cell_type": "markdown",
      "source": [
        "Construct a explicit expression for the cubic equation for a 3 state system."
      ],
      "metadata": {
        "id": "s2bDr3tEaoi3"
      }
    },
    {
      "cell_type": "markdown",
      "source": [
        "# Two Species System"
      ],
      "metadata": {
        "id": "4O1oKxl23qCR"
      }
    },
    {
      "cell_type": "markdown",
      "source": [
        "Consider an URMA network consisting of $S_1$, $S_2$.\n",
        "\n",
        "Let ${\\bf A} =\n",
        "\\begin{pmatrix}\n",
        "a_{11} & a_{12} \\\\\n",
        "a_{21} & a_{22} \\\\\n",
        "\\end{pmatrix}\n",
        "$\n",
        "Denote the determinant by $D = a_{11} a_{22} - a_{12} a_{21}$\n",
        "and the trace by $T = a_{11} + a_{22}$. The eigenvalues are\n",
        "$\\lambda = \\frac{1}{2} \\left( - T \\pm \\sqrt{T^2 - 4 D} \\right)$.\n",
        "So, to get pure imaginary eigenvalues, $T = 0$\n",
        "and $D > 0$.\n",
        "\n",
        "$T = 0$ implies that either the diagonal is zero or\n",
        "one diagonal term is positive and the other is negative.\n",
        "In either case, it must be that one of the off-diagonal terms is negative.\n",
        "\n",
        "We can obtain a positive value for a diagonal term by having self-catlytic reactions, such as $S_1 \\rightarrow S_1 + S_1$\n",
        "with mass action kinetics $k S_1$.\n",
        "We can obtain a negative value for an off-diagonal term by having\n",
        "degrading reactions catlyzed by the other element, such as\n",
        "$S_2 \\rightarrow ∅$ with kinetics $k S_1 S_2$. Note that these are non-linear kinetics that might be approximated by linear kinetics. "
      ],
      "metadata": {
        "id": "a2tb3L7U3uS5"
      }
    },
    {
      "cell_type": "code",
      "source": [
        "model = \"\"\"\n",
        "S1 -> 2 S1; k1*S1\n",
        "S1 -> S2; k2*S1\n",
        "S2 -> ; k3*S1\n",
        "S2 -> S1; k4*S2\n",
        "S1 -> ; 50\n",
        "-> S2; 10\n",
        "\n",
        "k2 = 1\n",
        "k4 = 0.2\n",
        "delta = 1\n",
        "k1 = k2 + k4\n",
        "k3 = k1 + delta\n",
        "\n",
        "S1 = 1\n",
        "S2 = 10\n",
        "\n",
        "\"\"\"\n",
        "rr = te.loada(model)\n",
        "rr.simulate(1,20, 1000)\n",
        "rr.plot()"
      ],
      "metadata": {
        "colab": {
          "base_uri": "https://localhost:8080/",
          "height": 268
        },
        "id": "nSyCk8FwbrIO",
        "outputId": "931ae82c-6628-40cc-e68c-7e32b37b6cd8"
      },
      "execution_count": null,
      "outputs": [
        {
          "output_type": "display_data",
          "data": {
            "text/plain": [
              "<Figure size 432x288 with 1 Axes>"
            ],
            "image/png": "[encoded data removed]"
          },
          "metadata": {}
        }
      ]
    },
    {
      "cell_type": "markdown",
      "source": [
        "## System Equations"
      ],
      "metadata": {
        "id": "tEICDsJlIV35"
      }
    },
    {
      "cell_type": "markdown",
      "source": [
        "This system equations are:\n",
        "$\n",
        "\\begin{eqnarray}\n",
        "\\dot{S}_1 & = & k_1 S_1 + k_4 S_2 - k_2 S_1 \\\\\n",
        "\\dot{S}_2 & = & - k_3 S_1 + k_2 S_1 - k_4 S_2 \\\\\n",
        "\\end{eqnarray}\n",
        "$\n",
        "\n",
        "Let ${\\bf x} = \n",
        "\\begin{pmatrix}\n",
        "S_1 \\\\\n",
        "S_2 \\\\\n",
        "\\end{pmatrix}\n",
        "$, and\n",
        "$\n",
        "{\\bf A} = \n",
        "\\begin{pmatrix}\n",
        "k_1 - k_2 & k_4 \\\\\n",
        "k_2 - k_3 & -k_4 \\\\\n",
        "\\end{pmatrix}\n",
        "$.\n",
        "\n",
        "The full model is:\n",
        "$\\dot{\\bf x} = {\\bf A} {\\bf x} + {\\bf u}$."
      ],
      "metadata": {
        "id": "LuLZN4yqGSrb"
      }
    },
    {
      "cell_type": "markdown",
      "source": [
        "Note that\n",
        "\\begin{eqnarray}\n",
        "T & = & tr(A) = k_1 -k_2 - k_4 \\\\\n",
        "D & = & det(A) = (k_1 - k_2)(-k_4) - k_4 (k_2 - k_3) \\\\\n",
        "& = & k_4 (k_3 - k_1) \\\\\n",
        "& = & k_4 \\delta,\n",
        "\\end{eqnarray}\n",
        "where $\\delta = k_3 - k_1$.\n",
        "\n",
        "Note that if $tr({\\bf A}) = 0$, then $k_1 = k_2 + k_4$.\n",
        "And so, $\\delta = k_3 - k_1 = k_3 - k_2 - k_4$.\n",
        "That is,\n",
        "$k_3 = \\delta + k_2 + k_4$."
      ],
      "metadata": {
        "id": "RSqoaNmbIiMZ"
      }
    },
    {
      "cell_type": "code",
      "source": [
        "S1, S2, k1, k2, k3, k4, d, T, D = sympy.symbols(\"S1, S2, k1, k2, k3, k4, d, T, D\")\n",
        "A = sympy.Matrix([ [k4 , k4], [-d-k4, -k4]])\n",
        "A"
      ],
      "metadata": {
        "colab": {
          "base_uri": "https://localhost:8080/",
          "height": 58
        },
        "id": "ZuXpcTiuLbFt",
        "outputId": "cfef06c0-a41a-4afc-dc37-459be05387e1"
      },
      "execution_count": null,
      "outputs": [
        {
          "output_type": "execute_result",
          "data": {
            "text/plain": [
              "⎡  k₄     k₄ ⎤\n",
              "⎢            ⎥\n",
              "⎣-d - k₄  -k₄⎦"
            ],
            "text/latex": "$\\displaystyle \\left[\\begin{matrix}k_{4} & k_{4}\\\\- d - k_{4} & - k_{4}\\end{matrix}\\right]$"
          },
          "metadata": {},
          "execution_count": 5
        }
      ]
    },
    {
      "cell_type": "code",
      "source": [
        "A.eigenvects()"
      ],
      "metadata": {
        "colab": {
          "base_uri": "https://localhost:8080/",
          "height": 62
        },
        "id": "mUSyPDttoPo-",
        "outputId": "8e990ca3-167d-47d7-a7b1-1da12066a446"
      },
      "execution_count": null,
      "outputs": [
        {
          "output_type": "execute_result",
          "data": {
            "text/plain": [
              "⎡⎛               ⎡⎡     -k₄      ⎤⎤⎞  ⎛              ⎡⎡     -k₄      ⎤⎤⎞⎤\n",
              "⎢⎜               ⎢⎢──────────────⎥⎥⎟  ⎜              ⎢⎢──────────────⎥⎥⎟⎥\n",
              "⎢⎜   _______     ⎢⎢       _______⎥⎥⎟  ⎜  _______     ⎢⎢       _______⎥⎥⎟⎥\n",
              "⎢⎜-╲╱ -d⋅k₄ , 1, ⎢⎢k₄ + ╲╱ -d⋅k₄ ⎥⎥⎟, ⎜╲╱ -d⋅k₄ , 1, ⎢⎢k₄ - ╲╱ -d⋅k₄ ⎥⎥⎟⎥\n",
              "⎢⎜               ⎢⎢              ⎥⎥⎟  ⎜              ⎢⎢              ⎥⎥⎟⎥\n",
              "⎣⎝               ⎣⎣      1       ⎦⎦⎠  ⎝              ⎣⎣      1       ⎦⎦⎠⎦"
            ],
            "text/latex": "$\\displaystyle \\left[ \\left( - \\sqrt{- d k_{4}}, \\  1, \\  \\left[ \\left[\\begin{matrix}- \\frac{k_{4}}{k_{4} + \\sqrt{- d k_{4}}}\\\\1\\end{matrix}\\right]\\right]\\right), \\  \\left( \\sqrt{- d k_{4}}, \\  1, \\  \\left[ \\left[\\begin{matrix}- \\frac{k_{4}}{k_{4} - \\sqrt{- d k_{4}}}\\\\1\\end{matrix}\\right]\\right]\\right)\\right]$"
          },
          "metadata": {},
          "execution_count": 7
        }
      ]
    },
    {
      "cell_type": "markdown",
      "source": [
        "To do\n",
        "1. IVP for homogeneous\n",
        "1. Forced inputs"
      ],
      "metadata": {
        "id": "6FI8GlXCnFN3"
      }
    },
    {
      "cell_type": "markdown",
      "source": [
        "## Criteria for Imaginary Poles"
      ],
      "metadata": {
        "id": "5ZOBrG1TIqp0"
      }
    },
    {
      "cell_type": "markdown",
      "source": [
        "Note that the eigenvalues a $2 \\times 2$ matrix are\n",
        "\n",
        "$\\lambda = - \\frac{T \\pm \\sqrt{T^2 - 4 D}}{2}$.\n",
        "\n",
        "The pole $\\lambda$ is pure imaginary (i.e., $\\sqrt{D}i$) if:\n",
        "1. $T = 0$. That is, $k_1 = k_2 + k_4$.\n",
        "1. $D > 0$. That is, $k_3 > k_1$.\n",
        "\n",
        "$D > 0 \\iff (k_1 - k_2)(-k_4) - k_4 (k_2 - k_3) > 0$.\n",
        "Clearly $k_4 > 0$ if $D>0$, and so we can divide by $k_4$.\n",
        "So, we have the criteria is $k_3 = k_1 + \\delta$ for $\\delta >0$.\n",
        "\n",
        "${\\bf A} = \n",
        "\\begin{pmatrix}\n",
        "k_4 & k_4 \\\\\n",
        "-\\delta -k_4 & -k_4 \\\\\n",
        "\\end{pmatrix}\n",
        "$."
      ],
      "metadata": {
        "id": "C3jvIGM-IxQu"
      }
    },
    {
      "cell_type": "markdown",
      "source": [
        "Let ${\\bf e}$ be an eigenvector for ${\\bf A}$.\n",
        "That is, $\\left( {\\bf A} - {\\bf I} \\sqrt{D}i   \\right) {\\bf e} = 0$.\n",
        "So, \n",
        "\\begin{eqnarray}\n",
        "(k_4 - \\sqrt{D}i) e_1 & + & k_4 e_2 & = & 0 \\\\\n",
        "-(\\delta + k_4) e_1 & - & (k_4 + \\sqrt{D}i) e_2 & = & 0 \\\\\n",
        "\\end{eqnarray}\n",
        "and so\n",
        "\\begin{eqnarray}\n",
        "\\frac{k^2_4 + D}{k_4} e_1 + (k_4 + \\sqrt{D}i) e_2 & = & 0 \\\\\n",
        "-(\\delta + k_4) e_1 -(k_4 + D) e_2 & = & 0 \\\\\n",
        "\\end{eqnarray}\n",
        "Substituting and simplifying\n",
        "\\begin{eqnarray}\n",
        "(k_4 + \\delta) e_1 + (k_4 + \\sqrt{D}i) e_2 & = & 0 \\\\\n",
        "-(\\delta + k_4) e_1 -(k_4 + \\sqrt{D}i) e_2 & = & 0 \\\\\n",
        "\\end{eqnarray}\n",
        "and adding\n",
        "\\begin{eqnarray}\n",
        "k_4 (1 - \\delta) e_1 + (k_4 + D) e_2 & = & 0 \\\\\n",
        "e_1  & = & 2 \\delta - 1 \\\\\n",
        "\\end{eqnarray}"
      ],
      "metadata": {
        "id": "i_wsuQnyf9cL"
      }
    },
    {
      "cell_type": "markdown",
      "source": [
        "## Designing the Oscillator"
      ],
      "metadata": {
        "id": "BEYNotG5I8zg"
      }
    },
    {
      "cell_type": "markdown",
      "source": [
        "Considerations in the design\n",
        "1. Frequency of oscillation. By design, this is $\\sqrt{D}$.\n",
        "1. Amplitude of oscillation\n",
        "1. Center point of oscillation"
      ],
      "metadata": {
        "id": "3gd0ydcHJCo-"
      }
    },
    {
      "cell_type": "markdown",
      "source": [
        "### Amplitude of oscillation"
      ],
      "metadata": {
        "id": "ThjJhXGNJbBI"
      }
    },
    {
      "cell_type": "markdown",
      "source": [
        "Let ${\\bf x}$ be the state vector.\n",
        "Then the Laplace transform for the initial conditions ${\\bf x}(0)$\n",
        "is \n",
        "$s {\\bf x} (s) = {\\bf A} {\\bf x} + {\\bf x} (0)$ or\n",
        "${\\bf x} (s) = \\left( s {\\bf I} - {\\bf A} \\right)^{-1} {\\bf x}(0)$.\n",
        "\n",
        "$\n",
        "\\begin{eqnarray}\n",
        "det \\left( s {\\bf I} - {\\bf A} \\right) & = &\n",
        "(s + k_4)(s-k_1 +k_2) - k_4(k_2 - k_3) \\\\\n",
        "& = & s^2 + (k_4 -k_1 + k_2)s + D \\\\\n",
        "& = & s^2 + D\\\\\n",
        "\\end{eqnarray}\n",
        "$ by design.\n",
        "\n",
        "$\n",
        "\\left( s {\\bf I} - {\\bf A} \\right)^{-1}\n",
        "=\n",
        "\\frac{1}{s^2 + D}\n",
        "\\begin{pmatrix}\n",
        "s + k_4  & -k_4 \\\\\n",
        "k_4 + \\delta & s - k_4 \\\\\n",
        "\\end{pmatrix}$."
      ],
      "metadata": {
        "id": "M0jhkTut8W4N"
      }
    },
    {
      "cell_type": "markdown",
      "source": [
        "### Center point of oscillation"
      ],
      "metadata": {
        "id": "9WEdtnCdJhJR"
      }
    },
    {
      "cell_type": "markdown",
      "source": [
        "This will depend on ${\\bf u}$.\n",
        "Solve the differential equation in the time domain."
      ],
      "metadata": {
        "id": "UTVJ6rlLJ6ad"
      }
    },
    {
      "cell_type": "markdown",
      "source": [
        "**Notes**\n",
        "1. Can translate the position of the cycles using external inputs. Explain why.\n",
        "1. Calculating $| {\\bf x}(0) |$ as $s \\rightarrow \\sqrt{D}$ indicates that we can control amplitude by: (a) having different initial values for the state variables and (b) adjusting $k_4$. But the latter must be done in concert with changes to $k_3 - k_1$ so as not to change frequency."
      ],
      "metadata": {
        "id": "vAecubn8HLQB"
      }
    },
    {
      "cell_type": "markdown",
      "source": [
        "# Notes\n",
        "1. Develop the idea of a UMRA approximation to a non-linear network.\n",
        "  1. For mas action networks with two reactants, create two separate uni-reactant reactions. How select the kinetics constants in the approximation to most accurate estimate the original network. The kinetics constants can be approximated using a Taylor's series or by an orthogonal projection for an appropriately defined inner product space.\n",
        "\n",
        "1. Note that the eigenvalues are ${\\bf e} = \\{ \\lambda |  det \\left( {\\bf A} - \\lambda {\\bf I} \\right) = 0 \\}$.\n",
        "Since ${\\bf A} = {\\bf H} + {\\bf K}$,\n",
        "$ {\\bf A} - \\lambda {\\bf I}  = {\\bf H} + {\\bf K} - \\lambda {\\bf I}$.\n",
        "\n",
        "1. Note that $det \\left( {\\bf A} - \\lambda {\\bf I} \\right)\n",
        "= \\left( {\\bf N V} - \\lambda {\\bf I} \\right)$.\n",
        "Further, $det \\left( {\\bf N} - \\lambda {\\bf I} \\right) \\left(\n",
        " {\\bf V} - \\lambda {\\bf I} \\right)$\n",
        " $= det \\left[ {\\bf N}{\\bf V} - \\lambda {\\bf N} - \\lambda {\\bf V} + I \\right]$. Can I use information about the [sum of determinants](https://www.geeksforgeeks.org/eigen-values-and-eigen-vectors/) to figure out\n",
        " how $\\lambda$ changes if $k_m$ changes?\n",
        "\n",
        "1. From [\"Facts about Eigenvalues\"](https://www.adelaide.edu.au/mathslearning/ua/media/120/evalue-magic-tricks-handout.pdf), I know that for a polynomial function $g(x)$, $g({\\bf A})$ has eigenvalues $g(\\lambda_1), \\cdots, g(\\lambda_n)$ for the matrix ${\\bf A}$ with eigenvalues $\\lambda_1, \\cdots, \\lambda_n$.\n",
        "So, it's easy to transform ${\\bf A}$ in a way that preserves\n",
        "UMRN so that the dominant eigenvalue is at 0 by subtracting along\n",
        "the diagonal.\n",
        "The challenge is making the this eigenvalue have a non-zero imaginary component.\n",
        "\n",
        "1. Note that in the decomposition into Hermitian and skew Hermitian matrices ${\\bf A} = {\\bf H} + {\\bf K}$, the diagonal of ${\\bf K}$ must be zero if ${\\bf A}$ is real valued.\n",
        "So, how can ${\\bf K}$ be transformed to create imaginary eigenvalues?\n",
        "\n",
        "1. Might consider using the polar decomposition, where ${\\bf A} = {\\bf U} {\\bf P}$, where ${\\bf U}$ is unitary and ${\\bf P}$ is positiv semidefinite. My hypothesis is that if ${\\bf U}$ is a rotation other than $n \\pi$, then ${\\bf A}$ has at least one imaginary eigenvalue. I still have the challenge of making the *dominant* eigenvalue have a non-zero imaginary part.\n",
        "\n",
        "1. Try exploring matrices and their decompositions to understand the criteria for obtaining eigenvalues with a non-zero imaginary part.\n"
      ],
      "metadata": {
        "id": "Df5mxawDyUuV"
      }
    },
    {
      "cell_type": "markdown",
      "source": [
        "# Other Oscilators"
      ],
      "metadata": {
        "id": "N8-s-ZG4g5iK"
      }
    },
    {
      "cell_type": "code",
      "source": [
        "# Evolved oscillator\n",
        "r = te.loada ('''\n",
        "var S0\n",
        "var S1\n",
        "ext S2\n",
        "S1 -> S1+S1; k0*S1\n",
        "S1 + S0 -> S0 + S0; k1*S1*S0\n",
        "S0 -> ; k2*S0\n",
        "k0 = 54\n",
        "k1 = 22\n",
        "k2 = 340\n",
        "S0 = 1.0\n",
        "S1 = 5.0\n",
        "S2 = 9.0\n",
        "''')\n",
        "m = r.simulate (0, 0.5, 400)\n",
        "r.plot()"
      ],
      "metadata": {
        "colab": {
          "base_uri": "https://localhost:8080/",
          "height": 265
        },
        "id": "qRQKI37Kg7-J",
        "outputId": "260f0e7a-950c-42ba-9933-6b5b1055f152"
      },
      "execution_count": null,
      "outputs": [
        {
          "output_type": "display_data",
          "data": {
            "text/plain": [
              "<Figure size 432x288 with 1 Axes>"
            ],
            "image/png": "[encoded data removed]"
          },
          "metadata": {}
        }
      ]
    },
    {
      "cell_type": "code",
      "source": [
        "model = \"\"\"\n",
        "// Oscillator (Heinrich model)\n",
        "// From the review:\n",
        "// Metabolic Regulation and Mathematical Models\n",
        "// R.HEINRICH, S.M.RAPOPORT, T.A.RAPOPORT\n",
        "// In Progress in Biophysics and Molecular Biology\n",
        "// 1977, Vol 32, p1-82\n",
        "\n",
        "// Reactions:\n",
        "J0: $X0 -> S1; v0\n",
        "J1: S1 -> ; k3*S1\n",
        "J2: S1 -> S2; (k1*S1 - k_1*S2)*(1 + c*S2^q)\n",
        "J3: S2 ->; k2*S2\n",
        "\n",
        "// Species initializations\n",
        "S1 = 0; S2 = 1; X0 = 1\n",
        "\n",
        "// Variable initializations\n",
        "v0 = 8; k3 = 0\n",
        "k1 = 1; k_1 = 0\n",
        "c = 1;  q = 3\n",
        "k2 = 5;\n",
        "\"\"\"\n",
        "rr = te.loada(model)\n",
        "rr.simulate(0, 20)\n",
        "rr.plot()"
      ],
      "metadata": {
        "colab": {
          "base_uri": "https://localhost:8080/",
          "height": 265
        },
        "id": "evdOpZCI9vy_",
        "outputId": "3ae53190-b82b-458a-d171-11ab65573fdb"
      },
      "execution_count": null,
      "outputs": [
        {
          "output_type": "display_data",
          "data": {
            "text/plain": [
              "<Figure size 432x288 with 1 Axes>"
            ],
            "image/png": "[encoded data removed]"
          },
          "metadata": {}
        }
      ]
    }
  ]
}