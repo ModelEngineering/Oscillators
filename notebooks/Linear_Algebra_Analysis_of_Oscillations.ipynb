{
 "cells": [
  {
   "cell_type": "markdown",
   "metadata": {
    "id": "YX_GiD-6pqvS"
   },
   "source": [
    "# LINEAR ALGEBRA ANALYSIS OF OSCILLATIONS"
   ]
  },
  {
   "cell_type": "code",
   "execution_count": 1,
   "metadata": {
    "colab": {
     "base_uri": "https://localhost:8080/"
    },
    "id": "fwyR8MQxcT0z",
    "outputId": "e143ffc1-d580-4694-8a30-1698f02416f1"
   },
   "outputs": [],
   "source": [
    "import tellurium as te\n",
    "import sympy\n",
    "from sympy import init_printing\n",
    "import matplotlib.pyplot as plt\n",
    "import numpy as np\n",
    "import pandas as pd\n",
    "import control\n",
    "\n",
    "init_printing()"
   ]
  },
  {
   "cell_type": "code",
   "execution_count": 2,
   "metadata": {},
   "outputs": [],
   "source": [
    "TIMES = [0.01*n for n in range(500)]"
   ]
  },
  {
   "cell_type": "code",
   "execution_count": 3,
   "metadata": {},
   "outputs": [],
   "source": [
    "S1, S2, k1, k2, k3, k4, d, T, D, r1, r2, a, t, x1_0, x2_0, u1, u2, b1, b2 =   \\\n",
    "   sympy.symbols(\"S1, S2, k1, k2, k3, k4, d, T, D, r1, r2, a, t, x1_0, x2_0, u1, u2, b1, b2\", real=True)\n",
    "c1, c2 = sympy.symbols(\"c1, c2\")"
   ]
  },
  {
   "cell_type": "code",
   "execution_count": 65,
   "metadata": {},
   "outputs": [],
   "source": [
    "S1, S2, k1, k2, k3, k4,a =  sympy.symbols(\"S1, S2, k1, k2, k3, k4, a\", real=True, positive=True)"
   ]
  },
  {
   "cell_type": "code",
   "execution_count": 4,
   "metadata": {},
   "outputs": [
    {
     "data": {
      "image/png": "[encoded data removed]",
      "text/latex": [
       "$\\displaystyle -1$"
      ],
      "text/plain": [
       "-1"
      ]
     },
     "execution_count": 4,
     "metadata": {},
     "output_type": "execute_result"
    }
   ],
   "source": [
    "I = sympy.sqrt(-1)\n",
    "sympy.simplify(I*I)"
   ]
  },
  {
   "cell_type": "markdown",
   "metadata": {
    "id": "nzmEWXSarUu1",
    "jp-MarkdownHeadingCollapsed": true,
    "tags": []
   },
   "source": [
    "# Notation"
   ]
  },
  {
   "cell_type": "markdown",
   "metadata": {
    "id": "-frlvR2JuKgm"
   },
   "source": [
    "**Scalars**\n",
    "\n",
    "* $N$ is the number of chemical species (state variables)\n",
    "* $n$ indexes chemical species\n",
    "* $M$ is the number of reactions\n",
    "* $m$ indexes reactions"
   ]
  },
  {
   "cell_type": "markdown",
   "metadata": {
    "id": "930iyzY5rWZ3"
   },
   "source": [
    "**Vectors and Matrices**\n",
    "\n",
    "* ${\\bf x}$ ($N \\times 1$) is the state vector\n",
    "* ${\\bf k}$ ($M \\times 1$) is a vector of parameters\n",
    "* ${\\bf u}$ is the input vector\n",
    "* ${\\bf B}$ is the constant input matrix\n",
    "* ${\\bf A}$ is the constant state transition matrix\n",
    "* ${\\bf N}$ ($N \\times M$) is the constant stoichiometry matrix\n",
    "* ${\\bf V}$ ($M \\times N$) is the flux vector\n",
    "* $\\dot{ {\\bf x}} = {\\bf A} {\\bf x} + {\\bf B}{\\bf u}$ is the time derivative of state\n"
   ]
  },
  {
   "cell_type": "markdown",
   "metadata": {
    "id": "K34Byqz0pxyr"
   },
   "source": [
    "# Definitions"
   ]
  },
  {
   "cell_type": "markdown",
   "metadata": {
    "id": "YpaiobF6p2Np"
   },
   "source": [
    "* A **reaction network** is a system of ODEs that can be realized by a collection of reactions where the concentration of chemical species are the state variables.\n",
    "\n",
    "* A **linear reaction network (LRN)** is a reaction network with kinetics that form a system of linear ODEs.\n",
    "\n",
    "* A **uni-reactant, mass action reaction network (UMRN)** is a reaction network in which all reactions have a single reactant and the kinetics are mass action.\n",
    "\n",
    "* Two networks are **compatible** if they have the same chemical species. We can always make two networks compatible by including missing species, although there will be no reactions with those species."
   ]
  },
  {
   "cell_type": "markdown",
   "metadata": {
    "id": "JtGi_K7lq4lj"
   },
   "source": [
    "# Preliminary Results"
   ]
  },
  {
   "cell_type": "markdown",
   "metadata": {
    "id": "mMgtFosj09FT"
   },
   "source": [
    "The goal of this analysis is to characterize how changes in reaction rates and/or structure affect eigenvalues, especially: (a) stability and (b) oscillations."
   ]
  },
  {
   "cell_type": "markdown",
   "metadata": {
    "id": "jtn4ClXNx76l"
   },
   "source": [
    "**Claim**: ${\\bf A}$ specifies a UMRN system iff\n",
    "there are ${\\bf A} = {\\bf N} {\\bf V}$ such that:\n",
    "* Every column in ${\\bf N}$ has exactly one negative value.\n",
    "* Every row in ${\\bf V}$ has exactly one non-zero value."
   ]
  },
  {
   "cell_type": "markdown",
   "metadata": {
    "id": "pp5WHqoCrIHC"
   },
   "source": [
    "**Observations for a UMRN**\n",
    "* If ${\\bf A}$ specifies a UMRA, then $r {\\bf A}$ is a UMRA for $r \\geq 0$.\n",
    "* If ${\\bf A}$, ${\\bf A}^{\\prime}$ are for compatible UMRN systems, then ${\\bf A} + {\\bf A}^{\\prime}$ specifies a UMRA system."
   ]
  },
  {
   "cell_type": "markdown",
   "metadata": {
    "id": "n27V57kEvuf1"
   },
   "source": [
    "**Possible Claim**: If ${\\bf A}$ specifies a LRA, then exists UMRA matrices ${\\bf N}$, ${\\bf V}$ such that ${\\bf A} = {\\bf N} {\\bf V}$."
   ]
  },
  {
   "cell_type": "markdown",
   "metadata": {
    "id": "XwaJVgoRs2Tl"
   },
   "source": []
  },
  {
   "cell_type": "markdown",
   "metadata": {
    "id": "29541g5Lq9f2"
   },
   "source": [
    "**Claim**: A UMRA is an LRA.\n",
    "\n",
    "**Proof**: "
   ]
  },
  {
   "cell_type": "markdown",
   "metadata": {
    "id": "yTG8B1i86aCF"
   },
   "source": [
    "**Claim**: Consider an UMRA with state variable Jacobian ${\\bf A}$\n",
    "and eigenvalues $\\lambda_1, \\cdots, \\lambda_N$.\n",
    "Consider a second UMRA that consists entirely of autocatyltic reactions\n",
    "so that $\\dot{x} = a x$, $a > 0$ for all state variables $x$.\n",
    "Then, the combination of these two networks has the eigenvalues\n",
    "$\\lambda_1 + a, \\cdots, \\lambda_N +a$.\n",
    "\n",
    "This claim allows us to change the real part of the eigenvalues."
   ]
  },
  {
   "cell_type": "markdown",
   "metadata": {
    "id": "ZejTS6aR77x_"
   },
   "source": [
    "# Analysis of Characteristic Equations"
   ]
  },
  {
   "cell_type": "markdown",
   "metadata": {
    "id": "TmLekx8d7__f"
   },
   "source": [
    "For the Jacobian ${\\bf A}$, the characteristic equation is\n",
    "$p(\\lambda) = |{\\bf A} - \\lambda {\\bf I}| = 0$.\n",
    "\n",
    "$p(\\lambda)$ can be expressed in the following ways.\n",
    "1. $p(\\lambda) = \\sum_{n=0}^N \\alpha_n \\lambda^n$\n",
    "1. $p(\\lambda) = \\Pi_{n=1}^N (\\lambda - \\lambda_n)$\n",
    "1. $p(\\lambda) = \\sum_{\\sigma} sign(\\sigma) \\Pi_{n=1}^N (a_{n, \\sigma(n)} - \\phi_{n, \\sigma(n)} \\lambda)$, where $\\phi_{n_1, n_2} = 1 \\iff n_1 = n_2$.\n",
    "\n",
    "In the foregoing, $\\sigma$ is a permutation of $(1, \\cdots, N)$,\n",
    "and $sign(\\sigma)$ is $(-1)^n$, where $n$ is the number of pairwise exchanges to construct the permutation from the identity permutation.\n",
    "\n",
    "Suppose that initially ${\\bf A}$ is diagonal with $a_{nn} < 0$.\n",
    "That is, the network consists entirely of degradation reactions,\n",
    "and let $p$ be the characteristic polynomial for this network.\n",
    "Now consider ${\\bf A}^{\\prime}$ that adds to this network\n",
    "the reactions\n",
    "$x_1 \\rightarrow m_2 x_2$ at rate $k_1$, where $m_2$ is the stoichiometry of the species $x_2$,\n",
    "and $x_2 \\rightarrow m_1 x_1$ at rate $k_2$.\n",
    "Let $p^{\\prime}$ be the characteristic polynomial for this network.\n",
    "${\\bf A}^D = {\\bf A}^{\\prime} - {\\bf A}$ has 3 non-zero entries:\n",
    "* $a^D_{1,1} = -k_1$\n",
    "* $a^D_{1,2} = m_2 k_1$\n",
    "* $a^D_{2, 1} = m_1 k_2$\n",
    "* $a^D_{2,2} = -k_2$\n",
    "\n",
    "Further, define $p_{1,2} (\\lambda) = \\Pi_{n\\neq1,2} (\\lambda - \\lambda_n)$.\n",
    "$p(\\lambda) = p_{1,2}(\\lambda) (\\lambda - \\lambda_1)(\\lambda - \\lambda_2) $.\n",
    "$p^{\\prime} (\\lambda) = p_{1,2}(\\lambda)\n",
    "\\left( (\\lambda - \\lambda_1)(\\lambda - \\lambda_2) - a^D_{1,2} a^D_{2,1} \\right)$.\n",
    "\n",
    "[Is this correct? I should get an imaginary result?]"
   ]
  },
  {
   "cell_type": "markdown",
   "metadata": {
    "id": "0ay5JlwzVmUF"
   },
   "source": [
    "A key consideration is determining if a cubic equation has a pure imaginary root.\n",
    "\n",
    "Consider \n",
    "\\begin{eqnarray}\n",
    "p(\\lambda) & = & (\\lambda - r)(\\lambda - ib)(\\lambda + ib) \\\\\n",
    "& = & (\\lambda -r)(\\lambda^2 + b^2) \\\\\n",
    "& = & \\lambda^3 - r \\lambda^2 + b^2 \\lambda - r b^2 \\\\\n",
    "& = & A \\lambda^3 - B \\lambda^2 + C \\lambda - D \\\\\n",
    "\\end{eqnarray}\n",
    "where $A = 1$.\n",
    "\n",
    "Observed that the roots are easily determined from the coefficients of the terms.\n",
    "A simple check is that $D = BC$, and $B, C, D$ are functions of ${\\bf k}$.\n",
    "\n",
    "Consider the objective function $min_{\\bf k} |D - BC|$. The one concern here is that all eigenvalues are non-positive.\n"
   ]
  },
  {
   "cell_type": "markdown",
   "metadata": {
    "id": "s2bDr3tEaoi3"
   },
   "source": [
    "Construct a explicit expression for the cubic equation for a 3 state system."
   ]
  },
  {
   "cell_type": "markdown",
   "metadata": {},
   "source": [
    "# Simulation"
   ]
  },
  {
   "cell_type": "code",
   "execution_count": 94,
   "metadata": {
    "colab": {
     "base_uri": "https://localhost:8080/",
     "height": 268
    },
    "id": "nSyCk8FwbrIO",
    "outputId": "931ae82c-6628-40cc-e68c-7e32b37b6cd8"
   },
   "outputs": [
    {
     "name": "stderr",
     "output_type": "stream",
     "text": [
      "Traceback (most recent call last):\n",
      "  File \"/tmp/ipykernel_1285556/2333049667.py\", line 33, in <cell line: 33>\n",
      "RuntimeError: Object of type <class 'NamedArray'> appears to be C subclassed NumPy array, void scalar, or allocated in a non-standard way.NumPy reserves the right to change the size of these structures. Projects are required to take this into account by either recompiling against a specific NumPy version or padding the struct and enforcing a maximum NumPy version.\n",
      "Exception ignored in: 'PyDataMem_UserFREE'\n",
      "Traceback (most recent call last):\n",
      "  File \"/tmp/ipykernel_1285556/2333049667.py\", line 33, in <cell line: 33>\n",
      "ValueError: PyCapsule_GetPointer called with invalid PyCapsule object\n"
     ]
    },
    {
     "data": {
      "image/png": "[encoded data removed]",
      "text/plain": [
       "<Figure size 432x288 with 1 Axes>"
      ]
     },
     "metadata": {},
     "output_type": "display_data"
    }
   ],
   "source": [
    "model = \"\"\"\n",
    "S1 -> 2 S1; k1*S1\n",
    "S1 -> S2; k2*S1\n",
    "S2 -> ; k3*S1\n",
    "S2 -> S1; k4*S2\n",
    "//S1 -> ; 1\n",
    "//-> S2; 1\n",
    "\n",
    "k2 = 1\n",
    "k4 = -1     # assigned externally\n",
    "delta = -1  # assigned externally\n",
    "k1 = k2 + k4\n",
    "k3 = k1 + delta\n",
    "\n",
    "S1 = 40\n",
    "S2 = 80\n",
    "\n",
    "\"\"\"\n",
    "# a: alpha, d: delta\n",
    "period = 1\n",
    "frequency_in_time = 1/period\n",
    "frequency_in_radians = frequency_in_time*2*np.pi\n",
    "PARAM_DCT = {\"k2\": 1.0, \"k4\": 10.0, \"a\": frequency_in_radians}\n",
    "PARAM_DCT[\"k1\"] = PARAM_DCT[\"k2\"] + PARAM_DCT[\"k4\"]\n",
    "PARAM_DCT[\"d\"] = (frequency_in_radians**2)/PARAM_DCT[\"k4\"]\n",
    "PARAM_DCT[\"k3\"] = PARAM_DCT[\"k1\"] + PARAM_DCT[\"d\"]\n",
    "rr = te.loada(model)\n",
    "PARAM_DCT[\"x1_0\"] = rr[\"S1\"]\n",
    "PARAM_DCT[\"x2_0\"] = rr[\"S2\"]\n",
    "for k, v in PARAM_DCT.items():\n",
    "    if k in rr.keys():\n",
    "        rr[k] = v\n",
    "data = rr.simulate(0, 5, 1000)\n",
    "rr.plot(data)"
   ]
  },
  {
   "cell_type": "code",
   "execution_count": 6,
   "metadata": {},
   "outputs": [
    {
     "data": {
      "text/plain": [
       "(time     0.000000\n",
       " [S1]   -53.270631\n",
       " [S2]   -68.104067\n",
       " dtype: float64,\n",
       " time      5.000000\n",
       " [S1]    113.049669\n",
       " [S2]    128.325561\n",
       " dtype: float64)"
      ]
     },
     "execution_count": 6,
     "metadata": {},
     "output_type": "execute_result"
    }
   ],
   "source": [
    "df = pd.DataFrame(data, columns=data.colnames)\n",
    "df.min(), df.max()"
   ]
  },
  {
   "cell_type": "code",
   "execution_count": 7,
   "metadata": {},
   "outputs": [
    {
     "data": {
      "text/plain": [
       "{'k2': 1.0,\n",
       " 'k4': 10.0,\n",
       " 'a': 6.283185307179586,\n",
       " 'k1': 11.0,\n",
       " 'd': 3.947841760435743,\n",
       " 'k3': 14.947841760435743,\n",
       " 'x1_0': 1.0,\n",
       " 'x2_0': 10.0}"
      ]
     },
     "execution_count": 7,
     "metadata": {},
     "output_type": "execute_result"
    }
   ],
   "source": [
    "PARAM_DCT"
   ]
  },
  {
   "cell_type": "code",
   "execution_count": 8,
   "metadata": {},
   "outputs": [
    {
     "data": {
      "image/png": "[encoded data removed]",
      "text/latex": [
       "$\\displaystyle \\left( 6.28318530717959, \\  6.28318530717959\\right)$"
      ],
      "text/plain": [
       "(6.283185307179586, 6.283185307179586)"
      ]
     },
     "execution_count": 8,
     "metadata": {},
     "output_type": "execute_result"
    }
   ],
   "source": [
    "np.sqrt(PARAM_DCT[\"k4\"]*PARAM_DCT[\"d\"]), PARAM_DCT[\"a\"]"
   ]
  },
  {
   "cell_type": "markdown",
   "metadata": {},
   "source": [
    "# Helpers"
   ]
  },
  {
   "cell_type": "code",
   "execution_count": 9,
   "metadata": {
    "tags": []
   },
   "outputs": [],
   "source": [
    "def pp(arr):\n",
    "    print(pd.DataFrame(arr))"
   ]
  },
  {
   "cell_type": "code",
   "execution_count": 10,
   "metadata": {},
   "outputs": [],
   "source": [
    "def makeTimes(start_time=0, end_time=5, point_density=10):\n",
    "    return [1/point_density*n for n in range(start_time, point_density*end_time+1)]\n",
    "# TESTS\n",
    "end_time = 10\n",
    "point_density = 2\n",
    "times = makeTimes(end_time=end_time, point_density=point_density)\n",
    "assert(len(times) == point_density*end_time+1)"
   ]
  },
  {
   "cell_type": "code",
   "execution_count": 11,
   "metadata": {},
   "outputs": [],
   "source": [
    "# Simulation of the model\n",
    "def simulateLinearSystem(A=None, B=None, is_plot=True):\n",
    "    \"\"\"\n",
    "    Simulates the linear system specified by A and B\n",
    "    \"\"\"\n",
    "    if A is None:\n",
    "        A = np.array([ [PARAM_DCT[\"k1\"] - PARAM_DCT[\"k2\"], PARAM_DCT[\"k4\"]],\n",
    "                           [PARAM_DCT[\"k2\"] - PARAM_DCT[\"k3\"], - PARAM_DCT[\"k4\"] ] ])\n",
    "    if B is None:\n",
    "        B = np.eye(2)\n",
    "    C = np.eye(2)\n",
    "    D = 0*np.eye(2)\n",
    "    sys = control.StateSpace(A, B, C, D)\n",
    "    sys = control.LinearIOSystem(sys, inputs=[\"S1\", \"S2\"], outputs=[\"S1\", \"S2\"])\n",
    "    X0 = [1, 10]\n",
    "    times = makeTimes(end_time=20)\n",
    "    response = control.input_output_response(sys, T=times, X0=X0)\n",
    "    plt.plot(response.t, response.y[0])\n",
    "    plt.plot(response.t, response.y[1])\n",
    "    plt.legend([\"S1\", \"S2\"], loc=\"upper left\")\n",
    "    if not is_plot:\n",
    "        plt.close()\n",
    "    \n",
    "# Tests\n",
    "simulateLinearSystem(is_plot=False)"
   ]
  },
  {
   "cell_type": "markdown",
   "metadata": {
    "id": "4O1oKxl23qCR"
   },
   "source": [
    "# Two Species System"
   ]
  },
  {
   "cell_type": "markdown",
   "metadata": {
    "id": "a2tb3L7U3uS5"
   },
   "source": [
    "Consider an URMA network consisting of $S_1$, $S_2$.\n",
    "\n",
    "Let ${\\bf A} =\n",
    "\\begin{pmatrix}\n",
    "a_{11} & a_{12} \\\\\n",
    "a_{21} & a_{22} \\\\\n",
    "\\end{pmatrix}\n",
    "$\n",
    "Denote the determinant by $D = a_{11} a_{22} - a_{12} a_{21}$\n",
    "and the trace by $T = a_{11} + a_{22}$. The eigenvalues are\n",
    "$\\lambda = \\frac{1}{2} \\left( - T \\pm \\sqrt{T^2 - 4 D} \\right)$.\n",
    "So, to get pure imaginary eigenvalues, $T = 0$\n",
    "and $D > 0$.\n",
    "\n",
    "$T = 0$ implies that either the diagonal is zero or\n",
    "one diagonal term is positive and the other is negative.\n",
    "In either case, it must be that one of the off-diagonal terms is negative.\n",
    "\n",
    "We can obtain a positive value for a diagonal term by having self-catlytic reactions, such as $S_1 \\rightarrow S_1 + S_1$\n",
    "with mass action kinetics $k S_1$.\n",
    "We can obtain a negative value for an off-diagonal term by having\n",
    "degrading reactions catlyzed by the other element, such as\n",
    "$S_2 \\rightarrow ∅$ with kinetics $k S_1 S_2$. Note that these are non-linear kinetics that might be approximated by linear kinetics. "
   ]
  },
  {
   "cell_type": "markdown",
   "metadata": {},
   "source": [
    "**Issue**\n",
    "1. Why is period 10 instead of 5?"
   ]
  },
  {
   "cell_type": "markdown",
   "metadata": {
    "id": "tEICDsJlIV35"
   },
   "source": [
    "## System Equations"
   ]
  },
  {
   "cell_type": "markdown",
   "metadata": {
    "id": "LuLZN4yqGSrb"
   },
   "source": [
    "This system equations are:\n",
    "$\n",
    "\\begin{eqnarray}\n",
    "\\dot{S}_1 & = & k_1 S_1 + k_4 S_2 - k_2 S_1 \\\\\n",
    "\\dot{S}_2 & = & - k_3 S_1 + k_2 S_1 - k_4 S_2 \\\\\n",
    "\\end{eqnarray}\n",
    "$\n",
    "\n",
    "Let ${\\bf x} = \n",
    "\\begin{pmatrix}\n",
    "S_1 \\\\\n",
    "S_2 \\\\\n",
    "\\end{pmatrix}\n",
    "$, and\n",
    "$\n",
    "{\\bf A} = \n",
    "\\begin{pmatrix}\n",
    "k_1 - k_2 & k_4 \\\\\n",
    "k_2 - k_3 & -k_4 \\\\\n",
    "\\end{pmatrix}\n",
    "$.\n",
    "\n",
    "The full model is:\n",
    "$\\dot{\\bf x} = {\\bf A} {\\bf x} + {\\bf u}$."
   ]
  },
  {
   "cell_type": "markdown",
   "metadata": {
    "id": "RSqoaNmbIiMZ"
   },
   "source": [
    "Note that\n",
    "\\begin{eqnarray}\n",
    "T & = & tr(A) = k_1 -k_2 - k_4 \\\\\n",
    "D & = & det(A) = (k_1 - k_2)(-k_4) - k_4 (k_2 - k_3) \\\\\n",
    "& = & k_4 (k_3 - k_1) \\\\\n",
    "\\end{eqnarray}"
   ]
  },
  {
   "cell_type": "code",
   "execution_count": 12,
   "metadata": {},
   "outputs": [
    {
     "data": {
      "image/png": "[encoded data removed]",
      "text/plain": [
       "<Figure size 432x288 with 1 Axes>"
      ]
     },
     "metadata": {
      "needs_background": "light"
     },
     "output_type": "display_data"
    }
   ],
   "source": [
    "# Valiation plot that should be identical with simulation\n",
    "simulateLinearSystem()"
   ]
  },
  {
   "cell_type": "markdown",
   "metadata": {},
   "source": [
    "## Jacobian for Pure Imaginary Eigenvalues"
   ]
  },
  {
   "cell_type": "markdown",
   "metadata": {},
   "source": [
    "The eigenvalues a $2 \\times 2$ matrix are\n",
    "\n",
    "$\\lambda = - \\frac{T \\pm \\sqrt{T^2 - 4 D}}{2}$.\n",
    "\n",
    "The pole $\\lambda$ is pure imaginary (i.e., $\\sqrt{D}i$) if:\n",
    "1. $T = 0$. That is, $k_1 = k_2 + k_4$.\n",
    "1. $D > 0$. That is, $k_3 > k_1$.\n",
    "\n",
    "$D > 0 \\iff k_4(k_3 - k_1) > 0$.\n",
    "Clearly $k_4 > 0$ since $D>0$, and so we can divide by $k_4$.\n",
    "So, we have the criteria is $k_3 = k_1 + \\delta$ for $\\delta >0$."
   ]
  },
  {
   "cell_type": "markdown",
   "metadata": {},
   "source": [
    "\n",
    "Note that if $tr({\\bf A}) = 0$ and $D >0$:\n",
    "1. $k_1 = k_2 + k_4$.\n",
    "1. $k_3 = \\delta + k_2 + k_4$, $\\delta > 0$."
   ]
  },
  {
   "cell_type": "markdown",
   "metadata": {},
   "source": [
    "$\n",
    "{\\bf A} =\n",
    "\\begin{pmatrix}\n",
    "k_1 - k_2 & k_4 \\\\\n",
    "k_2 - k_3 & -k_4 \\\\\n",
    "\\end{pmatrix}\n",
    "$.\n",
    "\n",
    "Substituting,\n",
    "${\\bf A} =\n",
    "\\begin{pmatrix}\n",
    "k_2 + k_4 - k_2 & k_4 \\\\\n",
    "k_2 - \\delta - k_2 - k_4 & -k_4 \\\\\n",
    "\\end{pmatrix}\n",
    "=\n",
    "\\begin{pmatrix}\n",
    "k_4 & k_4 \\\\\n",
    "-\\delta -k_4 & -k_4 \\\\\n",
    "\\end{pmatrix}\n",
    "$."
   ]
  },
  {
   "cell_type": "code",
   "execution_count": 13,
   "metadata": {},
   "outputs": [
    {
     "data": {
      "image/png": "[encoded data removed]",
      "text/plain": [
       "<Figure size 432x288 with 1 Axes>"
      ]
     },
     "metadata": {
      "needs_background": "light"
     },
     "output_type": "display_data"
    }
   ],
   "source": [
    "# Validation plot\n",
    "A = np.array([ [PARAM_DCT[\"k4\"], PARAM_DCT[\"k4\"]],\n",
    "                           [-PARAM_DCT[\"d\"] - PARAM_DCT[\"k4\"], - PARAM_DCT[\"k4\"] ] ])\n",
    "simulateLinearSystem(A=A)"
   ]
  },
  {
   "cell_type": "code",
   "execution_count": 14,
   "metadata": {},
   "outputs": [
    {
     "data": {
      "image/png": "[encoded data removed]",
      "text/latex": [
       "$\\displaystyle 1.0$"
      ],
      "text/plain": [
       "1.0"
      ]
     },
     "execution_count": 14,
     "metadata": {},
     "output_type": "execute_result"
    }
   ],
   "source": [
    "# Period requires converting from radians\n",
    "1/(np.sqrt(PARAM_DCT[\"d\"]*PARAM_DCT[\"k4\"])/(2*np.pi))"
   ]
  },
  {
   "cell_type": "markdown",
   "metadata": {},
   "source": [
    "## Eigenvectors for Pure Imaginary Eigenvalues"
   ]
  },
  {
   "cell_type": "code",
   "execution_count": 15,
   "metadata": {
    "colab": {
     "base_uri": "https://localhost:8080/",
     "height": 58
    },
    "id": "ZuXpcTiuLbFt",
    "outputId": "cfef06c0-a41a-4afc-dc37-459be05387e1"
   },
   "outputs": [
    {
     "data": {
      "text/latex": [
       "$\\displaystyle \\left[\\begin{matrix}k_{4} & k_{4}\\\\- d - k_{4} & - k_{4}\\end{matrix}\\right]$"
      ],
      "text/plain": [
       "⎡  k₄     k₄ ⎤\n",
       "⎢            ⎥\n",
       "⎣-d - k₄  -k₄⎦"
      ]
     },
     "execution_count": 15,
     "metadata": {},
     "output_type": "execute_result"
    }
   ],
   "source": [
    "\n",
    "A = sympy.Matrix([ [k4 , k4], [-d-k4, -k4]])\n",
    "A"
   ]
  },
  {
   "cell_type": "markdown",
   "metadata": {},
   "source": [
    "Note that since $\\delta > 0$, ${\\bf A}$ is nonsingular."
   ]
  },
  {
   "cell_type": "code",
   "execution_count": 16,
   "metadata": {},
   "outputs": [
    {
     "data": {
      "text/latex": [
       "$\\displaystyle \\left[\\begin{matrix}- \\frac{1}{d} & - \\frac{1}{d}\\\\\\frac{1}{k_{4}} + \\frac{1}{d} & \\frac{1}{d}\\end{matrix}\\right]$"
      ],
      "text/plain": [
       "⎡ -1     -1 ⎤\n",
       "⎢ ───    ───⎥\n",
       "⎢  d      d ⎥\n",
       "⎢           ⎥\n",
       "⎢1    1   1 ⎥\n",
       "⎢── + ─   ─ ⎥\n",
       "⎣k₄   d   d ⎦"
      ]
     },
     "execution_count": 16,
     "metadata": {},
     "output_type": "execute_result"
    }
   ],
   "source": [
    "A.inv()"
   ]
  },
  {
   "cell_type": "code",
   "execution_count": 17,
   "metadata": {},
   "outputs": [
    {
     "data": {
      "text/latex": [
       "$\\displaystyle \\left[ \\left( - \\sqrt{- d k_{4}}, \\  1, \\  \\left[ \\left[\\begin{matrix}- \\frac{k_{4}}{d + k_{4}} + \\frac{\\sqrt{- d k_{4}}}{d + k_{4}}\\\\1\\end{matrix}\\right]\\right]\\right), \\  \\left( \\sqrt{- d k_{4}}, \\  1, \\  \\left[ \\left[\\begin{matrix}- \\frac{k_{4}}{d + k_{4}} - \\frac{\\sqrt{- d k_{4}}}{d + k_{4}}\\\\1\\end{matrix}\\right]\\right]\\right)\\right]$"
      ],
      "text/plain": [
       "⎡⎛               ⎡⎡             _______⎤⎤⎞  ⎛              ⎡⎡             ____\n",
       "⎢⎜               ⎢⎢    k₄     ╲╱ -d⋅k₄ ⎥⎥⎟  ⎜              ⎢⎢    k₄     ╲╱ -d⋅\n",
       "⎢⎜   _______     ⎢⎢- ────── + ─────────⎥⎥⎟  ⎜  _______     ⎢⎢- ────── - ──────\n",
       "⎢⎜-╲╱ -d⋅k₄ , 1, ⎢⎢  d + k₄     d + k₄ ⎥⎥⎟, ⎜╲╱ -d⋅k₄ , 1, ⎢⎢  d + k₄     d + \n",
       "⎢⎜               ⎢⎢                    ⎥⎥⎟  ⎜              ⎢⎢                 \n",
       "⎣⎝               ⎣⎣         1          ⎦⎦⎠  ⎝              ⎣⎣         1       \n",
       "\n",
       "___⎤⎤⎞⎤\n",
       "k₄ ⎥⎥⎟⎥\n",
       "───⎥⎥⎟⎥\n",
       "k₄ ⎥⎥⎟⎥\n",
       "   ⎥⎥⎟⎥\n",
       "   ⎦⎦⎠⎦"
      ]
     },
     "execution_count": 17,
     "metadata": {},
     "output_type": "execute_result"
    }
   ],
   "source": [
    "A.eigenvects()"
   ]
  },
  {
   "cell_type": "markdown",
   "metadata": {},
   "source": [
    "### Validate the eigenvectors"
   ]
  },
  {
   "cell_type": "code",
   "execution_count": 18,
   "metadata": {},
   "outputs": [
    {
     "data": {
      "text/latex": [
       "$\\displaystyle \\left[\\begin{matrix}- \\frac{k_{4}}{d + k_{4}} + \\frac{\\sqrt{- d k_{4}}}{d + k_{4}}\\\\1\\end{matrix}\\right]$"
      ],
      "text/plain": [
       "⎡             _______⎤\n",
       "⎢    k₄     ╲╱ -d⋅k₄ ⎥\n",
       "⎢- ────── + ─────────⎥\n",
       "⎢  d + k₄     d + k₄ ⎥\n",
       "⎢                    ⎥\n",
       "⎣         1          ⎦"
      ]
     },
     "execution_count": 18,
     "metadata": {},
     "output_type": "execute_result"
    }
   ],
   "source": [
    "vec = A.eigenvects()[0][2][0]\n",
    "vec"
   ]
  },
  {
   "cell_type": "code",
   "execution_count": 19,
   "metadata": {},
   "outputs": [
    {
     "data": {
      "text/latex": [
       "$\\displaystyle \\left[\\begin{matrix}0\\\\0\\end{matrix}\\right]$"
      ],
      "text/plain": [
       "⎡0⎤\n",
       "⎢ ⎥\n",
       "⎣0⎦"
      ]
     },
     "execution_count": 19,
     "metadata": {},
     "output_type": "execute_result"
    }
   ],
   "source": [
    "# First eigenvalue, eigenvector\n",
    "vec = A.eigenvects()[0][2][0]\n",
    "sympy.simplify((-sympy.eye(2)*sympy.sqrt(-d *k4) - A)*vec)"
   ]
  },
  {
   "cell_type": "code",
   "execution_count": 20,
   "metadata": {},
   "outputs": [
    {
     "data": {
      "text/latex": [
       "$\\displaystyle \\left[\\begin{matrix}0\\\\0\\end{matrix}\\right]$"
      ],
      "text/plain": [
       "⎡0⎤\n",
       "⎢ ⎥\n",
       "⎣0⎦"
      ]
     },
     "execution_count": 20,
     "metadata": {},
     "output_type": "execute_result"
    }
   ],
   "source": [
    "# Second eigenvalue, eigenvector\n",
    "vec = A.eigenvects()[1][2][0]\n",
    "sympy.simplify((sympy.eye(2)*sympy.sqrt(-d *k4) - A)*vec)"
   ]
  },
  {
   "cell_type": "markdown",
   "metadata": {},
   "source": [
    "### Format eigenvectors"
   ]
  },
  {
   "cell_type": "code",
   "execution_count": 21,
   "metadata": {},
   "outputs": [
    {
     "name": "stdout",
     "output_type": "stream",
     "text": [
      "⎡             _______⎤\n",
      "⎢    k₄     ╲╱ -d⋅k₄ ⎥\n",
      "⎢- ────── + ─────────⎥\n",
      "⎢  d + k₄     d + k₄ ⎥\n",
      "⎢                    ⎥\n",
      "⎣         1          ⎦\n",
      "⎡             _______⎤\n",
      "⎢    k₄     ╲╱ -d⋅k₄ ⎥\n",
      "⎢- ────── - ─────────⎥\n",
      "⎢  d + k₄     d + k₄ ⎥\n",
      "⎢                    ⎥\n",
      "⎣         1          ⎦\n"
     ]
    }
   ],
   "source": [
    "sympy.pretty_print(A.eigenvects()[0][2][0])\n",
    "sympy.pretty_print(A.eigenvects()[1][2][0])"
   ]
  },
  {
   "cell_type": "markdown",
   "metadata": {},
   "source": [
    "The eigenvalues are:\n",
    "\n",
    "$\n",
    "\\begin{eqnarray}\n",
    "\\lambda_1 &=& - \\sqrt{\\delta k_4} i \\\\\n",
    "\\lambda_2 &=&  + \\sqrt{\\delta k_4} i\n",
    "\\end{eqnarray}\n",
    "$\n",
    "\n",
    "We define $\\alpha = \\sqrt{\\delta k_4}$, and so\n",
    "$\\lambda_n = (-1)^n \\alpha i$.\n",
    "\n",
    "The eigenvectors are:\n",
    "\n",
    "$\n",
    "\\begin{eqnarray}\n",
    "{\\bf e}_1 & = &\n",
    "\\left[\\begin{matrix}- \\frac{k_{4}}{\\delta + k_{4}} - \\frac{\\alpha i}{\\delta + k_{4}}\\\\1\\end{matrix}\\right] \\\\\n",
    "{\\bf e}_2 & = &\n",
    "\\left[\\begin{matrix} - \\frac{k_{4}}{\\delta + k_{4}} + \\frac{\\alpha i}{d + k_{4}}\\\\1\\end{matrix}\\right] \\\\\n",
    "\\end{eqnarray}\n",
    "$"
   ]
  },
  {
   "cell_type": "markdown",
   "metadata": {},
   "source": [
    "## Solution to Homogeneous IVP"
   ]
  },
  {
   "cell_type": "markdown",
   "metadata": {},
   "source": [
    "Note that if the eigenvalue ${\\bf e}$ and/or\n",
    "vector $\\lambda$ are complex, then\n",
    "${\\bf e} e^{\\lambda} = {\\bf v}_1 + i {\\bf v}_2$ for\n",
    "some real vectors ${\\bf v}_n$.\n",
    "By theorem, the ${\\bf v}_n$ are independent solutions to\n",
    "the differential equation\n",
    "and so the solution to the IVP\n",
    "is $\\sum_{n=1}^2 c_n v_n$ for $c_n$ chosen\n",
    "based on the initial values.\n",
    "\n",
    "Let $r_1 = \\frac{k_4}{k_4 + \\delta}$\n",
    "and $r_2 = \\frac{\\alpha}{\\delta + k_4}$,\n",
    "where $\\alpha = \\sqrt{\\delta k_4}$."
   ]
  },
  {
   "cell_type": "code",
   "execution_count": 22,
   "metadata": {},
   "outputs": [
    {
     "data": {
      "image/png": "[encoded data removed]",
      "text/latex": [
       "$\\displaystyle \\left\\{ r_{1} : \\frac{k_{4}}{d + k_{4}}, \\  r_{2} : \\frac{a}{d + k_{4}}\\right\\}$"
      ],
      "text/plain": [
       "⎧      k₄          a   ⎫\n",
       "⎨r₁: ──────, r₂: ──────⎬\n",
       "⎩    d + k₄      d + k₄⎭"
      ]
     },
     "execution_count": 22,
     "metadata": {},
     "output_type": "execute_result"
    }
   ],
   "source": [
    "DCT = {r1: k4/(d + k4), r2: a/(d + k4)}\n",
    "DCT"
   ]
  },
  {
   "cell_type": "code",
   "execution_count": 23,
   "metadata": {},
   "outputs": [
    {
     "data": {
      "text/latex": [
       "$\\displaystyle \\left[\\begin{matrix}\\left(- r_{1} - i r_{2}\\right) e^{i a t}\\\\e^{i a t}\\end{matrix}\\right]$"
      ],
      "text/plain": [
       "⎡              ⅈ⋅a⋅t⎤\n",
       "⎢(-r₁ - ⅈ⋅r₂)⋅ℯ     ⎥\n",
       "⎢                   ⎥\n",
       "⎢       ⅈ⋅a⋅t       ⎥\n",
       "⎣      ℯ            ⎦"
      ]
     },
     "execution_count": 23,
     "metadata": {},
     "output_type": "execute_result"
    }
   ],
   "source": [
    "# Using the second eigenvector\n",
    "e_vec = sympy.Matrix([ [-r1 - r2*I], [1]])*(sympy.exp(I*a*t))\n",
    "e_vec"
   ]
  },
  {
   "cell_type": "code",
   "execution_count": 50,
   "metadata": {},
   "outputs": [
    {
     "data": {
      "text/latex": [
       "$\\displaystyle \\left[\\begin{matrix}- r_{1} \\cos{\\left(a t \\right)} + r_{2} \\sin{\\left(a t \\right)} & - r_{1} \\sin{\\left(a t \\right)} - r_{2} \\cos{\\left(a t \\right)}\\\\\\cos{\\left(a t \\right)} & \\sin{\\left(a t \\right)}\\end{matrix}\\right]$"
      ],
      "text/plain": [
       "⎡-r₁⋅cos(a⋅t) + r₂⋅sin(a⋅t)  -r₁⋅sin(a⋅t) - r₂⋅cos(a⋅t)⎤\n",
       "⎢                                                      ⎥\n",
       "⎣         cos(a⋅t)                    sin(a⋅t)         ⎦"
      ]
     },
     "execution_count": 50,
     "metadata": {},
     "output_type": "execute_result"
    }
   ],
   "source": [
    "vecs = e_vec.as_real_imag()\n",
    "FUND_MAT = sympy.Matrix([ [vecs[0][0], vecs[1][0]], [vecs[0][1], vecs[1][1]]])\n",
    "FUND_MAT  # Fundamental matrix"
   ]
  },
  {
   "cell_type": "code",
   "execution_count": 48,
   "metadata": {},
   "outputs": [
    {
     "data": {
      "text/latex": [
       "$\\displaystyle \\left( \\left[\\begin{matrix}- r_{1} \\cos{\\left(a t \\right)} + r_{2} \\sin{\\left(a t \\right)}\\\\\\cos{\\left(a t \\right)}\\end{matrix}\\right], \\  \\left[\\begin{matrix}- r_{1} \\sin{\\left(a t \\right)} - r_{2} \\cos{\\left(a t \\right)}\\\\\\sin{\\left(a t \\right)}\\end{matrix}\\right]\\right)$"
      ],
      "text/plain": [
       "⎛⎡-r₁⋅cos(a⋅t) + r₂⋅sin(a⋅t)⎤  ⎡-r₁⋅sin(a⋅t) - r₂⋅cos(a⋅t)⎤⎞\n",
       "⎜⎢                          ⎥, ⎢                          ⎥⎟\n",
       "⎝⎣         cos(a⋅t)         ⎦  ⎣         sin(a⋅t)         ⎦⎠"
      ]
     },
     "execution_count": 48,
     "metadata": {},
     "output_type": "execute_result"
    }
   ],
   "source": [
    "vecs"
   ]
  },
  {
   "cell_type": "markdown",
   "metadata": {},
   "source": [
    "The solution to the homogenous equation has the form:"
   ]
  },
  {
   "cell_type": "code",
   "execution_count": 25,
   "metadata": {},
   "outputs": [
    {
     "data": {
      "text/latex": [
       "$\\displaystyle \\left[\\begin{matrix}c_{1} \\left(- r_{1} \\cos{\\left(a t \\right)} + r_{2} \\sin{\\left(a t \\right)}\\right) + c_{2} \\left(- r_{1} \\sin{\\left(a t \\right)} - r_{2} \\cos{\\left(a t \\right)}\\right)\\\\c_{1} \\cos{\\left(a t \\right)} + c_{2} \\sin{\\left(a t \\right)}\\end{matrix}\\right]$"
      ],
      "text/plain": [
       "⎡c₁⋅(-r₁⋅cos(a⋅t) + r₂⋅sin(a⋅t)) + c₂⋅(-r₁⋅sin(a⋅t) - r₂⋅cos(a⋅t))⎤\n",
       "⎢                                                                 ⎥\n",
       "⎣                    c₁⋅cos(a⋅t) + c₂⋅sin(a⋅t)                    ⎦"
      ]
     },
     "execution_count": 25,
     "metadata": {},
     "output_type": "execute_result"
    }
   ],
   "source": [
    "c1*vecs[0] + c2*vecs[1]"
   ]
  },
  {
   "cell_type": "code",
   "execution_count": 26,
   "metadata": {},
   "outputs": [
    {
     "data": {
      "text/latex": [
       "$\\displaystyle \\left[\\begin{matrix}x_{1 0}\\\\x_{2 0}\\end{matrix}\\right]$"
      ],
      "text/plain": [
       "⎡x₁ ₀⎤\n",
       "⎢    ⎥\n",
       "⎣x₂ ₀⎦"
      ]
     },
     "execution_count": 26,
     "metadata": {},
     "output_type": "execute_result"
    }
   ],
   "source": [
    "x = sympy.Matrix([ [x1_0], [x2_0]])\n",
    "x"
   ]
  },
  {
   "cell_type": "code",
   "execution_count": 27,
   "metadata": {},
   "outputs": [
    {
     "data": {
      "text/latex": [
       "$\\displaystyle \\left[\\begin{matrix}c_{1} r_{1} + c_{2} r_{2} + x_{1 0}\\\\- c_{1} + x_{2 0}\\end{matrix}\\right]$"
      ],
      "text/plain": [
       "⎡c₁⋅r₁ + c₂⋅r₂ + x₁ ₀⎤\n",
       "⎢                    ⎥\n",
       "⎣     -c₁ + x₂ ₀     ⎦"
      ]
     },
     "execution_count": 27,
     "metadata": {},
     "output_type": "execute_result"
    }
   ],
   "source": [
    "# Solve for c1, c2\n",
    "expr = x - c1*vecs[0] - c2*vecs[1]\n",
    "expr.subs(t, 0)"
   ]
  },
  {
   "cell_type": "code",
   "execution_count": 28,
   "metadata": {},
   "outputs": [
    {
     "data": {
      "image/png": "[encoded data removed]",
      "text/latex": [
       "$\\displaystyle \\left\\{ c_{1} : x_{2 0}, \\  c_{2} : \\frac{- r_{1} x_{2 0} - x_{1 0}}{r_{2}}\\right\\}$"
      ],
      "text/plain": [
       "⎧              -r₁⋅x₂ ₀ - x₁ ₀⎫\n",
       "⎨c₁: x₂ ₀, c₂: ───────────────⎬\n",
       "⎩                     r₂      ⎭"
      ]
     },
     "execution_count": 28,
     "metadata": {},
     "output_type": "execute_result"
    }
   ],
   "source": [
    "constant_dct = sympy.simplify(sympy.solve(expr.subs(t, 0), [c1, c2]))\n",
    "constants = list(constant_dct.values())\n",
    "constant_dct"
   ]
  },
  {
   "cell_type": "code",
   "execution_count": 29,
   "metadata": {},
   "outputs": [
    {
     "data": {
      "image/png": "[encoded data removed]",
      "text/latex": [
       "$\\displaystyle \\left\\{ a : 6.28318530717959, \\  d : 3.94784176043574, \\  k_{1} : 11.0, \\  k_{2} : 1.0, \\  k_{3} : 14.9478417604357, \\  k_{4} : 10.0, \\  r_{1} : 0.716956800324898, \\  r_{2} : 0.450477243368389, \\  x_{1 0} : 1.0, \\  x_{2 0} : 10.0\\right\\}$"
      ],
      "text/plain": [
       "{a: 6.283185307179586, d: 3.947841760435743, k₁: 11.0, k₂: 1.0, k₃: 14.9478417\n",
       "60435743, k₄: 10.0, r₁: 0.716956800324898, r₂: 0.450477243368389, x₁ ₀: 1.0, x\n",
       "₂ ₀: 10.0}"
      ]
     },
     "execution_count": 29,
     "metadata": {},
     "output_type": "execute_result"
    }
   ],
   "source": [
    "for k, v in PARAM_DCT.items():\n",
    "    DCT[eval(k)] = v\n",
    "DCT = {k: v.subs(DCT) if not isinstance(v, float) else v for k, v in DCT.items()}\n",
    "DCT"
   ]
  },
  {
   "cell_type": "code",
   "execution_count": 30,
   "metadata": {},
   "outputs": [
    {
     "data": {
      "image/png": "[encoded data removed]",
      "text/latex": [
       "$\\displaystyle \\left( 10.0, \\  -18.1353622708264\\right)$"
      ],
      "text/plain": [
       "(10.0, -18.1353622708264)"
      ]
     },
     "execution_count": 30,
     "metadata": {},
     "output_type": "execute_result"
    }
   ],
   "source": [
    "constant_dct[c1].subs(DCT), constant_dct[c2].subs(DCT)"
   ]
  },
  {
   "cell_type": "markdown",
   "metadata": {},
   "source": [
    "### Explicit IVP Solution"
   ]
  },
  {
   "cell_type": "code",
   "execution_count": 90,
   "metadata": {},
   "outputs": [
    {
     "data": {
      "text/latex": [
       "$\\displaystyle \\left[\\begin{matrix}x_{2 0} \\left(- r_{1} \\cos{\\left(a t \\right)} + r_{2} \\sin{\\left(a t \\right)}\\right) + \\frac{\\left(- r_{1} x_{2 0} - x_{1 0}\\right) \\left(- r_{1} \\sin{\\left(a t \\right)} - r_{2} \\cos{\\left(a t \\right)}\\right)}{r_{2}}\\\\x_{2 0} \\cos{\\left(a t \\right)} + \\frac{\\left(- r_{1} x_{2 0} - x_{1 0}\\right) \\sin{\\left(a t \\right)}}{r_{2}}\\end{matrix}\\right]$"
      ],
      "text/plain": [
       "⎡                                    (-r₁⋅x₂ ₀ - x₁ ₀)⋅(-r₁⋅sin(a⋅t) - r₂⋅cos(\n",
       "⎢x₂ ₀⋅(-r₁⋅cos(a⋅t) + r₂⋅sin(a⋅t)) + ─────────────────────────────────────────\n",
       "⎢                                                          r₂                 \n",
       "⎢                                                                             \n",
       "⎢                                    (-r₁⋅x₂ ₀ - x₁ ₀)⋅sin(a⋅t)               \n",
       "⎢                    x₂ ₀⋅cos(a⋅t) + ──────────────────────────               \n",
       "⎣                                                r₂                           \n",
       "\n",
       "a⋅t))⎤\n",
       "─────⎥\n",
       "     ⎥\n",
       "     ⎥\n",
       "     ⎥\n",
       "     ⎥\n",
       "     ⎦"
      ]
     },
     "execution_count": 90,
     "metadata": {},
     "output_type": "execute_result"
    }
   ],
   "source": [
    "\n",
    "ivp_solution = constants[0]*vecs[0] + constants[1]*vecs[1]\n",
    "xh = ivp_solution\n",
    "xh"
   ]
  },
  {
   "cell_type": "markdown",
   "metadata": {},
   "source": [
    "### Evaluation of IVP Solution"
   ]
  },
  {
   "cell_type": "code",
   "execution_count": 95,
   "metadata": {},
   "outputs": [
    {
     "data": {
      "image/png": "[encoded data removed]",
      "text/plain": [
       "<Figure size 432x288 with 1 Axes>"
      ]
     },
     "metadata": {
      "needs_background": "light"
     },
     "output_type": "display_data"
    }
   ],
   "source": [
    "# Simulation of ivp_solution\n",
    "s1_vals = [sympy.N(xh.subs(DCT).subs(t, v))[0] for v in TIMES]\n",
    "s2_vals = [sympy.N(xh.subs(DCT).subs(t, v))[1] for v in TIMES]\n",
    "plt.plot(TIMES, s1_vals)\n",
    "plt.plot(TIMES, s2_vals)\n",
    "_ = plt.legend([\"S1\", \"S2\"])"
   ]
  },
  {
   "cell_type": "code",
   "execution_count": 96,
   "metadata": {},
   "outputs": [
    {
     "data": {
      "image/png": "[encoded data removed]",
      "text/plain": [
       "<Figure size 432x288 with 1 Axes>"
      ]
     },
     "metadata": {},
     "output_type": "display_data"
    },
    {
     "name": "stderr",
     "output_type": "stream",
     "text": [
      "Traceback (most recent call last):\n",
      "  File \"/tmp/ipykernel_1285556/698005043.py\", line 1, in <cell line: 1>\n",
      "RuntimeError: Object of type <class 'NamedArray'> appears to be C subclassed NumPy array, void scalar, or allocated in a non-standard way.NumPy reserves the right to change the size of these structures. Projects are required to take this into account by either recompiling against a specific NumPy version or padding the struct and enforcing a maximum NumPy version.\n"
     ]
    }
   ],
   "source": [
    "rr.plot()"
   ]
  },
  {
   "cell_type": "markdown",
   "metadata": {},
   "source": [
    "### Amplitude of IVP Solution"
   ]
  },
  {
   "cell_type": "code",
   "execution_count": 34,
   "metadata": {},
   "outputs": [
    {
     "data": {
      "text/latex": [
       "$\\displaystyle \\left[\\begin{matrix}x_{2 0} \\left(- r_{1} \\cos{\\left(a t \\right)} + r_{2} \\sin{\\left(a t \\right)}\\right) + \\frac{\\left(- r_{1} x_{2 0} - x_{1 0}\\right) \\left(- r_{1} \\sin{\\left(a t \\right)} - r_{2} \\cos{\\left(a t \\right)}\\right)}{r_{2}}\\\\x_{2 0} \\cos{\\left(a t \\right)} + \\frac{\\left(- r_{1} x_{2 0} - x_{1 0}\\right) \\sin{\\left(a t \\right)}}{r_{2}}\\end{matrix}\\right]$"
      ],
      "text/plain": [
       "⎡                                    (-r₁⋅x₂ ₀ - x₁ ₀)⋅(-r₁⋅sin(a⋅t) - r₂⋅cos(\n",
       "⎢x₂ ₀⋅(-r₁⋅cos(a⋅t) + r₂⋅sin(a⋅t)) + ─────────────────────────────────────────\n",
       "⎢                                                          r₂                 \n",
       "⎢                                                                             \n",
       "⎢                                    (-r₁⋅x₂ ₀ - x₁ ₀)⋅sin(a⋅t)               \n",
       "⎢                    x₂ ₀⋅cos(a⋅t) + ──────────────────────────               \n",
       "⎣                                                r₂                           \n",
       "\n",
       "a⋅t))⎤\n",
       "─────⎥\n",
       "     ⎥\n",
       "     ⎥\n",
       "     ⎥\n",
       "     ⎥\n",
       "     ⎦"
      ]
     },
     "execution_count": 34,
     "metadata": {},
     "output_type": "execute_result"
    }
   ],
   "source": [
    "ivp_solution"
   ]
  },
  {
   "cell_type": "markdown",
   "metadata": {},
   "source": [
    "Recall that\n",
    "Let $r_1 = \\frac{k_4}{k_4 + \\delta}$\n",
    "and $r_2 = \\frac{\\alpha}{\\delta + k_4}$,\n",
    "where $\\alpha = \\sqrt{\\delta k_4}$.\n",
    "\n",
    "So, $r_1 < 1$ since $\\delta > 0$.\n",
    "$r_2 = \\frac{\\sqrt{\\delta k_4}}{\\delta + k_4}$,"
   ]
  },
  {
   "cell_type": "markdown",
   "metadata": {},
   "source": [
    "Suppose $\\delta k_4 < 1, \\delta + k_4 > 1$.\n",
    "That is, $\\delta < \\frac{1}{k_4}$.\n",
    "Then, $\\sqrt{\\delta k_4} < \\delta + k_4$\n",
    "and hence $r_2 < 1$."
   ]
  },
  {
   "cell_type": "markdown",
   "metadata": {},
   "source": [
    "A better approach is likely to assume that $r_1 << r_2$\n",
    "so that terms with $a r_1 + b r_2 \\approx b r_2$.\n",
    "Maybe, also assume that $x_2(0) >> x_1(0)$.\n",
    "These are design decisions to simplify the construction of the oscillator."
   ]
  },
  {
   "cell_type": "markdown",
   "metadata": {
    "id": "6FI8GlXCnFN3"
   },
   "source": [
    "## Solution for Nonhomogeneous System"
   ]
  },
  {
   "cell_type": "markdown",
   "metadata": {},
   "source": [
    "Here we consider forced inputs.\n",
    "The solution with forced inputs has the form\n",
    "${\\bf x}^H + {\\bf x}^P$, where ${\\bf x}^H$\n",
    "is a solution to the homogeneous system and ${\\bf x}^P$ is a particular solution."
   ]
  },
  {
   "cell_type": "markdown",
   "metadata": {},
   "source": [
    "Recall the following for solutions of nonhomogeneous systems.\n",
    "Let ${\\bf X}$ be the fundamental matrix for $\\dot{\\bf x} = {\\bf A} {\\bf x} + {\\bf u}$.\n",
    "We want to construct a particular solution\n",
    "${\\bf x}^P = {\\bf X} {\\bf v}$, for the unknown vector ${\\bf v}$.\n",
    "\n",
    "Substituting,\n",
    "\n",
    "\\begin{eqnarray}\n",
    "\\dot{\\bf X} {\\bf v} + {\\bf X} \\dot{\\bf v} & = & {\\bf A} {\\bf X} {\\bf v} + {\\bf u} \\\\\n",
    "{\\bf A} {\\bf X} {\\bf v} + {\\bf X} \\dot{\\bf v} & = & {\\bf A} {\\bf X} {\\bf v} + {\\bf u} \\\\\n",
    "{\\bf X} \\dot{\\bf v} & = & {\\bf u} \\\\\n",
    "{\\bf v} = \\int \\left( {\\bf X}^{-1} {\\bf u} \\right)dt\n",
    "\\end{eqnarray}\n",
    "\n",
    "Note that there is an integration constant as well, but this need not be considered\n",
    "since all values of the constant still result in a valid particular solution."
   ]
  },
  {
   "cell_type": "code",
   "execution_count": 86,
   "metadata": {},
   "outputs": [
    {
     "data": {
      "text/latex": [
       "$\\displaystyle \\left[\\begin{matrix}\\frac{\\begin{cases} - \\frac{r_{1} u_{2} \\cos{\\left(a t \\right)}}{a} + \\frac{r_{2} u_{2} \\sin{\\left(a t \\right)}}{a} - \\frac{u_{1} \\cos{\\left(a t \\right)}}{a} & \\text{for}\\: a \\neq 0 \\\\r_{2} t u_{2} & \\text{otherwise} \\end{cases}}{r_{2}}\\\\\\frac{\\begin{cases} - \\frac{r_{1} u_{2} \\sin{\\left(a t \\right)}}{a} - \\frac{r_{2} u_{2} \\cos{\\left(a t \\right)}}{a} - \\frac{u_{1} \\sin{\\left(a t \\right)}}{a} & \\text{for}\\: a \\neq 0 \\\\t \\left(- r_{1} u_{2} - u_{1}\\right) & \\text{otherwise} \\end{cases}}{r_{2}}\\end{matrix}\\right]$"
      ],
      "text/plain": [
       "⎡⎧  r₁⋅u₂⋅cos(a⋅t)   r₂⋅u₂⋅sin(a⋅t)   u₁⋅cos(a⋅t)           ⎤\n",
       "⎢⎪- ────────────── + ────────────── - ───────────  for a ≠ 0⎥\n",
       "⎢⎨        a                a               a                ⎥\n",
       "⎢⎪                                                          ⎥\n",
       "⎢⎩                    r₂⋅t⋅u₂                      otherwise⎥\n",
       "⎢───────────────────────────────────────────────────────────⎥\n",
       "⎢                             r₂                            ⎥\n",
       "⎢                                                           ⎥\n",
       "⎢⎧  r₁⋅u₂⋅sin(a⋅t)   r₂⋅u₂⋅cos(a⋅t)   u₁⋅sin(a⋅t)           ⎥\n",
       "⎢⎪- ────────────── - ────────────── - ───────────  for a ≠ 0⎥\n",
       "⎢⎨        a                a               a                ⎥\n",
       "⎢⎪                                                          ⎥\n",
       "⎢⎩                t⋅(-r₁⋅u₂ - u₁)                  otherwise⎥\n",
       "⎢───────────────────────────────────────────────────────────⎥\n",
       "⎣                             r₂                            ⎦"
      ]
     },
     "execution_count": 86,
     "metadata": {},
     "output_type": "execute_result"
    }
   ],
   "source": [
    "rhs = sympy.simplify(FUND_MAT.inv()*sympy.Matrix([[u1], [u2]]))\n",
    "rhs = sympy.integrate(rhs, t)\n",
    "rhs"
   ]
  },
  {
   "cell_type": "code",
   "execution_count": 88,
   "metadata": {},
   "outputs": [
    {
     "data": {
      "text/latex": [
       "$\\displaystyle \\left[\\begin{matrix}- r_{1} \\cos{\\left(a t \\right)} + r_{2} \\sin{\\left(a t \\right)} & - r_{1} \\sin{\\left(a t \\right)} - r_{2} \\cos{\\left(a t \\right)}\\\\\\cos{\\left(a t \\right)} & \\sin{\\left(a t \\right)}\\end{matrix}\\right]$"
      ],
      "text/plain": [
       "⎡-r₁⋅cos(a⋅t) + r₂⋅sin(a⋅t)  -r₁⋅sin(a⋅t) - r₂⋅cos(a⋅t)⎤\n",
       "⎢                                                      ⎥\n",
       "⎣         cos(a⋅t)                    sin(a⋅t)         ⎦"
      ]
     },
     "execution_count": 88,
     "metadata": {},
     "output_type": "execute_result"
    }
   ],
   "source": [
    "FUND_MAT"
   ]
  },
  {
   "cell_type": "code",
   "execution_count": 110,
   "metadata": {},
   "outputs": [
    {
     "data": {
      "text/latex": [
       "$\\displaystyle \\left[\\begin{matrix}\\begin{cases} \\frac{r_{1}^{2} u_{2} + r_{1} u_{1} + r_{2}^{2} u_{2}}{a r_{2}} & \\text{for}\\: a > 0 \\vee a < 0 \\\\\\frac{t \\left(- r_{2} u_{2} \\left(r_{1} \\cos{\\left(a t \\right)} - r_{2} \\sin{\\left(a t \\right)}\\right) + \\left(r_{1} u_{2} + u_{1}\\right) \\left(r_{1} \\sin{\\left(a t \\right)} + r_{2} \\cos{\\left(a t \\right)}\\right)\\right)}{r_{2}} & \\text{otherwise} \\end{cases}\\\\\\begin{cases} - \\frac{r_{1} u_{2} + u_{1}}{a r_{2}} & \\text{for}\\: a > 0 \\vee a < 0 \\\\\\frac{t \\left(r_{2} u_{2} \\cos{\\left(a t \\right)} - \\left(r_{1} u_{2} + u_{1}\\right) \\sin{\\left(a t \\right)}\\right)}{r_{2}} & \\text{otherwise} \\end{cases}\\end{matrix}\\right]$"
      ],
      "text/plain": [
       "⎡⎧                               2                2                           \n",
       "⎢⎪                             r₁ ⋅u₂ + r₁⋅u₁ + r₂ ⋅u₂                        \n",
       "⎢⎪                             ───────────────────────                        \n",
       "⎢⎪                                       a⋅r₂                                 \n",
       "⎢⎨                                                                            \n",
       "⎢⎪t⋅(-r₂⋅u₂⋅(r₁⋅cos(a⋅t) - r₂⋅sin(a⋅t)) + (r₁⋅u₂ + u₁)⋅(r₁⋅sin(a⋅t) + r₂⋅cos(a\n",
       "⎢⎪────────────────────────────────────────────────────────────────────────────\n",
       "⎢⎪                                        r₂                                  \n",
       "⎢⎩                                                                            \n",
       "⎢                                                                             \n",
       "⎢                   ⎧              -(r₁⋅u₂ + u₁)                              \n",
       "⎢                   ⎪              ──────────────                for a > 0 ∨ a\n",
       "⎢                   ⎪                   a⋅r₂                                  \n",
       "⎢                   ⎨                                                         \n",
       "⎢                   ⎪t⋅(r₂⋅u₂⋅cos(a⋅t) - (r₁⋅u₂ + u₁)⋅sin(a⋅t))               \n",
       "⎢                   ⎪──────────────────────────────────────────      otherwise\n",
       "⎣                   ⎩                    r₂                                   \n",
       "\n",
       "                        ⎤\n",
       "                        ⎥\n",
       "       for a > 0 ∨ a < 0⎥\n",
       "                        ⎥\n",
       "                        ⎥\n",
       "⋅t)))                   ⎥\n",
       "─────      otherwise    ⎥\n",
       "                        ⎥\n",
       "                        ⎥\n",
       "                        ⎥\n",
       "                        ⎥\n",
       " < 0                    ⎥\n",
       "                        ⎥\n",
       "                        ⎥\n",
       "                        ⎥\n",
       "                        ⎥\n",
       "                        ⎦"
      ]
     },
     "execution_count": 110,
     "metadata": {},
     "output_type": "execute_result"
    }
   ],
   "source": [
    "full_xp = sympy.simplify(FUND_MAT*rhs)\n",
    "full_xp"
   ]
  },
  {
   "cell_type": "code",
   "execution_count": 113,
   "metadata": {},
   "outputs": [
    {
     "data": {
      "text/latex": [
       "$\\displaystyle \\left[\\begin{matrix}\\frac{r_{1}^{2} u_{2} + r_{1} u_{1} + r_{2}^{2} u_{2}}{a r_{2}}\\\\- \\frac{r_{1} u_{2} + u_{1}}{a r_{2}}\\end{matrix}\\right]$"
      ],
      "text/plain": [
       "⎡  2                2   ⎤\n",
       "⎢r₁ ⋅u₂ + r₁⋅u₁ + r₂ ⋅u₂⎥\n",
       "⎢───────────────────────⎥\n",
       "⎢          a⋅r₂         ⎥\n",
       "⎢                       ⎥\n",
       "⎢    -(r₁⋅u₂ + u₁)      ⎥\n",
       "⎢    ──────────────     ⎥\n",
       "⎣         a⋅r₂          ⎦"
      ]
     },
     "execution_count": 113,
     "metadata": {},
     "output_type": "execute_result"
    }
   ],
   "source": [
    "xp = sympy.Matrix([[full_xp[0].args[0][0]], [full_xp[1].args[0][0]]])\n",
    "xp"
   ]
  },
  {
   "cell_type": "code",
   "execution_count": 114,
   "metadata": {},
   "outputs": [
    {
     "data": {
      "text/latex": [
       "$\\displaystyle \\left[\\begin{matrix}x_{2 0} \\left(- r_{1} \\cos{\\left(a t \\right)} + r_{2} \\sin{\\left(a t \\right)}\\right) + \\frac{\\left(- r_{1} x_{2 0} - x_{1 0}\\right) \\left(- r_{1} \\sin{\\left(a t \\right)} - r_{2} \\cos{\\left(a t \\right)}\\right)}{r_{2}} + \\frac{r_{1}^{2} u_{2} + r_{1} u_{1} + r_{2}^{2} u_{2}}{a r_{2}}\\\\x_{2 0} \\cos{\\left(a t \\right)} + \\frac{\\left(- r_{1} x_{2 0} - x_{1 0}\\right) \\sin{\\left(a t \\right)}}{r_{2}} - \\frac{r_{1} u_{2} + u_{1}}{a r_{2}}\\end{matrix}\\right]$"
      ],
      "text/plain": [
       "⎡                                                                             \n",
       "⎢                                    (-r₁⋅x₂ ₀ - x₁ ₀)⋅(-r₁⋅sin(a⋅t) - r₂⋅cos(\n",
       "⎢x₂ ₀⋅(-r₁⋅cos(a⋅t) + r₂⋅sin(a⋅t)) + ─────────────────────────────────────────\n",
       "⎢                                                          r₂                 \n",
       "⎢                                                                             \n",
       "⎢                                          (-r₁⋅x₂ ₀ - x₁ ₀)⋅sin(a⋅t)   r₁⋅u₂ \n",
       "⎢                          x₂ ₀⋅cos(a⋅t) + ────────────────────────── - ──────\n",
       "⎣                                                      r₂                  a⋅r\n",
       "\n",
       "          2                2   ⎤\n",
       "a⋅t))   r₁ ⋅u₂ + r₁⋅u₁ + r₂ ⋅u₂⎥\n",
       "───── + ───────────────────────⎥\n",
       "                  a⋅r₂         ⎥\n",
       "                               ⎥\n",
       "+ u₁                           ⎥\n",
       "────                           ⎥\n",
       "₂                              ⎦"
      ]
     },
     "execution_count": 114,
     "metadata": {},
     "output_type": "execute_result"
    }
   ],
   "source": [
    "nonh_solution = xh + xp\n",
    "nonh_solution"
   ]
  },
  {
   "cell_type": "markdown",
   "metadata": {},
   "source": [
    "## Validations With Simulations"
   ]
  },
  {
   "cell_type": "markdown",
   "metadata": {
    "id": "C3jvIGM-IxQu"
   },
   "source": [
    "Note that the eigenvalues a $2 \\times 2$ matrix are\n",
    "\n",
    "$\\lambda = - \\frac{T \\pm \\sqrt{T^2 - 4 D}}{2}$.\n",
    "\n",
    "The pole $\\lambda$ is pure imaginary (i.e., $\\sqrt{D}i$) if:\n",
    "1. $T = 0$. That is, $k_1 = k_2 + k_4$.\n",
    "1. $D > 0$. That is, $k_3 > k_1$.\n",
    "\n",
    "$D > 0 \\iff (k_1 - k_2)(-k_4) - k_4 (k_2 - k_3) > 0$.\n",
    "Clearly $k_4 > 0$ if $D>0$, and so we can divide by $k_4$.\n",
    "So, we have the criteria is $k_3 = k_1 + \\delta$ for $\\delta >0$.\n",
    "\n",
    "${\\bf A} = \n",
    "\\begin{pmatrix}\n",
    "k_4 & k_4 \\\\\n",
    "-\\delta -k_4 & -k_4 \\\\\n",
    "\\end{pmatrix}\n",
    "$."
   ]
  },
  {
   "cell_type": "markdown",
   "metadata": {
    "id": "i_wsuQnyf9cL"
   },
   "source": [
    "Let ${\\bf e}$ be an eigenvector for ${\\bf A}$.\n",
    "That is, $\\left( {\\bf A} - {\\bf I} \\sqrt{D}i   \\right) {\\bf e} = 0$.\n",
    "So, \n",
    "\\begin{eqnarray}\n",
    "(k_4 - \\sqrt{D}i) e_1 & + & k_4 e_2 & = & 0 \\\\\n",
    "-(\\delta + k_4) e_1 & - & (k_4 + \\sqrt{D}i) e_2 & = & 0 \\\\\n",
    "\\end{eqnarray}\n",
    "and so\n",
    "\\begin{eqnarray}\n",
    "\\frac{k^2_4 + D}{k_4} e_1 + (k_4 + \\sqrt{D}i) e_2 & = & 0 \\\\\n",
    "-(\\delta + k_4) e_1 -(k_4 + D) e_2 & = & 0 \\\\\n",
    "\\end{eqnarray}\n",
    "Substituting and simplifying\n",
    "\\begin{eqnarray}\n",
    "(k_4 + \\delta) e_1 + (k_4 + \\sqrt{D}i) e_2 & = & 0 \\\\\n",
    "-(\\delta + k_4) e_1 -(k_4 + \\sqrt{D}i) e_2 & = & 0 \\\\\n",
    "\\end{eqnarray}\n",
    "and adding\n",
    "\\begin{eqnarray}\n",
    "k_4 (1 - \\delta) e_1 + (k_4 + D) e_2 & = & 0 \\\\\n",
    "e_1  & = & 2 \\delta - 1 \\\\\n",
    "\\end{eqnarray}"
   ]
  },
  {
   "cell_type": "markdown",
   "metadata": {
    "id": "BEYNotG5I8zg"
   },
   "source": [
    "## Designing the Oscillator"
   ]
  },
  {
   "cell_type": "markdown",
   "metadata": {
    "id": "3gd0ydcHJCo-"
   },
   "source": [
    "Considerations in the design\n",
    "1. Frequency of oscillation. By design, this is $\\sqrt{D}$.\n",
    "1. Amplitude of oscillation\n",
    "1. Center point of oscillation"
   ]
  },
  {
   "cell_type": "markdown",
   "metadata": {
    "id": "ThjJhXGNJbBI"
   },
   "source": [
    "### Amplitude of oscillation"
   ]
  },
  {
   "cell_type": "markdown",
   "metadata": {
    "id": "M0jhkTut8W4N"
   },
   "source": [
    "Let ${\\bf x}$ be the state vector.\n",
    "Then the Laplace transform for the initial conditions ${\\bf x}(0)$\n",
    "is \n",
    "$s {\\bf x} (s) = {\\bf A} {\\bf x} + {\\bf x} (0)$ or\n",
    "${\\bf x} (s) = \\left( s {\\bf I} - {\\bf A} \\right)^{-1} {\\bf x}(0)$.\n",
    "\n",
    "$\n",
    "\\begin{eqnarray}\n",
    "det \\left( s {\\bf I} - {\\bf A} \\right) & = &\n",
    "(s + k_4)(s-k_1 +k_2) - k_4(k_2 - k_3) \\\\\n",
    "& = & s^2 + (k_4 -k_1 + k_2)s + D \\\\\n",
    "& = & s^2 + D\\\\\n",
    "\\end{eqnarray}\n",
    "$ by design.\n",
    "\n",
    "$\n",
    "\\left( s {\\bf I} - {\\bf A} \\right)^{-1}\n",
    "=\n",
    "\\frac{1}{s^2 + D}\n",
    "\\begin{pmatrix}\n",
    "s + k_4  & -k_4 \\\\\n",
    "k_4 + \\delta & s - k_4 \\\\\n",
    "\\end{pmatrix}$."
   ]
  },
  {
   "cell_type": "markdown",
   "metadata": {
    "id": "9WEdtnCdJhJR"
   },
   "source": [
    "### Center point of oscillation"
   ]
  },
  {
   "cell_type": "markdown",
   "metadata": {
    "id": "UTVJ6rlLJ6ad"
   },
   "source": [
    "This will depend on ${\\bf u}$.\n",
    "Solve the differential equation in the time domain."
   ]
  },
  {
   "cell_type": "markdown",
   "metadata": {
    "id": "vAecubn8HLQB"
   },
   "source": [
    "**Notes**\n",
    "1. Can translate the position of the cycles using external inputs. Explain why.\n",
    "1. Calculating $| {\\bf x}(0) |$ as $s \\rightarrow \\sqrt{D}$ indicates that we can control amplitude by: (a) having different initial values for the state variables and (b) adjusting $k_4$. But the latter must be done in concert with changes to $k_3 - k_1$ so as not to change frequency."
   ]
  },
  {
   "cell_type": "markdown",
   "metadata": {
    "id": "Df5mxawDyUuV"
   },
   "source": [
    "# Notes\n",
    "1. Develop the idea of a UMRA approximation to a non-linear network.\n",
    "  1. For mas action networks with two reactants, create two separate uni-reactant reactions. How select the kinetics constants in the approximation to most accurate estimate the original network. The kinetics constants can be approximated using a Taylor's series or by an orthogonal projection for an appropriately defined inner product space.\n",
    "\n",
    "1. Note that the eigenvalues are ${\\bf e} = \\{ \\lambda |  det \\left( {\\bf A} - \\lambda {\\bf I} \\right) = 0 \\}$.\n",
    "Since ${\\bf A} = {\\bf H} + {\\bf K}$,\n",
    "$ {\\bf A} - \\lambda {\\bf I}  = {\\bf H} + {\\bf K} - \\lambda {\\bf I}$.\n",
    "\n",
    "1. Note that $det \\left( {\\bf A} - \\lambda {\\bf I} \\right)\n",
    "= \\left( {\\bf N V} - \\lambda {\\bf I} \\right)$.\n",
    "Further, $det \\left( {\\bf N} - \\lambda {\\bf I} \\right) \\left(\n",
    " {\\bf V} - \\lambda {\\bf I} \\right)$\n",
    " $= det \\left[ {\\bf N}{\\bf V} - \\lambda {\\bf N} - \\lambda {\\bf V} + I \\right]$. Can I use information about the [sum of determinants](https://www.geeksforgeeks.org/eigen-values-and-eigen-vectors/) to figure out\n",
    " how $\\lambda$ changes if $k_m$ changes?\n",
    "\n",
    "1. From [\"Facts about Eigenvalues\"](https://www.adelaide.edu.au/mathslearning/ua/media/120/evalue-magic-tricks-handout.pdf), I know that for a polynomial function $g(x)$, $g({\\bf A})$ has eigenvalues $g(\\lambda_1), \\cdots, g(\\lambda_n)$ for the matrix ${\\bf A}$ with eigenvalues $\\lambda_1, \\cdots, \\lambda_n$.\n",
    "So, it's easy to transform ${\\bf A}$ in a way that preserves\n",
    "UMRN so that the dominant eigenvalue is at 0 by subtracting along\n",
    "the diagonal.\n",
    "The challenge is making the this eigenvalue have a non-zero imaginary component.\n",
    "\n",
    "1. Note that in the decomposition into Hermitian and skew Hermitian matrices ${\\bf A} = {\\bf H} + {\\bf K}$, the diagonal of ${\\bf K}$ must be zero if ${\\bf A}$ is real valued.\n",
    "So, how can ${\\bf K}$ be transformed to create imaginary eigenvalues?\n",
    "\n",
    "1. Might consider using the polar decomposition, where ${\\bf A} = {\\bf U} {\\bf P}$, where ${\\bf U}$ is unitary and ${\\bf P}$ is positiv semidefinite. My hypothesis is that if ${\\bf U}$ is a rotation other than $n \\pi$, then ${\\bf A}$ has at least one imaginary eigenvalue. I still have the challenge of making the *dominant* eigenvalue have a non-zero imaginary part.\n",
    "\n",
    "1. Try exploring matrices and their decompositions to understand the criteria for obtaining eigenvalues with a non-zero imaginary part.\n",
    "\n",
    "1. **Issue**: Not getting the correct period\n"
   ]
  },
  {
   "cell_type": "markdown",
   "metadata": {
    "id": "N8-s-ZG4g5iK"
   },
   "source": [
    "# Other Oscilators"
   ]
  },
  {
   "cell_type": "code",
   "execution_count": 39,
   "metadata": {
    "colab": {
     "base_uri": "https://localhost:8080/",
     "height": 265
    },
    "id": "qRQKI37Kg7-J",
    "outputId": "260f0e7a-950c-42ba-9933-6b5b1055f152"
   },
   "outputs": [
    {
     "data": {
      "image/png": "[encoded data removed]",
      "text/plain": [
       "<Figure size 432x288 with 1 Axes>"
      ]
     },
     "metadata": {},
     "output_type": "display_data"
    },
    {
     "name": "stderr",
     "output_type": "stream",
     "text": [
      "Traceback (most recent call last):\n",
      "  File \"/tmp/ipykernel_1285556/1829626470.py\", line 17, in <cell line: 17>\n",
      "RuntimeError: Object of type <class 'NamedArray'> appears to be C subclassed NumPy array, void scalar, or allocated in a non-standard way.NumPy reserves the right to change the size of these structures. Projects are required to take this into account by either recompiling against a specific NumPy version or padding the struct and enforcing a maximum NumPy version.\n"
     ]
    }
   ],
   "source": [
    "# Evolved oscillator\n",
    "r = te.loada ('''\n",
    "var S0\n",
    "var S1\n",
    "ext S2\n",
    "S1 -> S1+S1; k0*S1\n",
    "S1 + S0 -> S0 + S0; k1*S1*S0\n",
    "S0 -> ; k2*S0\n",
    "k0 = 54\n",
    "k1 = 22\n",
    "k2 = 340\n",
    "S0 = 1.0\n",
    "S1 = 5.0\n",
    "S2 = 9.0\n",
    "''')\n",
    "m = r.simulate (0, 0.5, 400)\n",
    "r.plot()"
   ]
  },
  {
   "cell_type": "code",
   "execution_count": 40,
   "metadata": {
    "colab": {
     "base_uri": "https://localhost:8080/",
     "height": 265
    },
    "id": "evdOpZCI9vy_",
    "outputId": "3ae53190-b82b-458a-d171-11ab65573fdb"
   },
   "outputs": [
    {
     "name": "stderr",
     "output_type": "stream",
     "text": [
      "Traceback (most recent call last):\n",
      "  File \"/tmp/ipykernel_1285556/4172634683.py\", line 25, in <cell line: 25>\n",
      "RuntimeError: Object of type <class 'NamedArray'> appears to be C subclassed NumPy array, void scalar, or allocated in a non-standard way.NumPy reserves the right to change the size of these structures. Projects are required to take this into account by either recompiling against a specific NumPy version or padding the struct and enforcing a maximum NumPy version.\n",
      "Exception ignored in: 'PyDataMem_UserFREE'\n",
      "Traceback (most recent call last):\n",
      "  File \"/tmp/ipykernel_1285556/4172634683.py\", line 25, in <cell line: 25>\n",
      "ValueError: PyCapsule_GetPointer called with invalid PyCapsule object\n"
     ]
    },
    {
     "data": {
      "image/png": "[encoded data removed]",
      "text/plain": [
       "<Figure size 432x288 with 1 Axes>"
      ]
     },
     "metadata": {},
     "output_type": "display_data"
    },
    {
     "name": "stderr",
     "output_type": "stream",
     "text": [
      "Traceback (most recent call last):\n",
      "  File \"/tmp/ipykernel_1285556/4172634683.py\", line 26, in <cell line: 26>\n",
      "RuntimeError: Object of type <class 'NamedArray'> appears to be C subclassed NumPy array, void scalar, or allocated in a non-standard way.NumPy reserves the right to change the size of these structures. Projects are required to take this into account by either recompiling against a specific NumPy version or padding the struct and enforcing a maximum NumPy version.\n"
     ]
    }
   ],
   "source": [
    "model = \"\"\"\n",
    "// Oscillator (Heinrich model)\n",
    "// From the review:\n",
    "// Metabolic Regulation and Mathematical Models\n",
    "// R.HEINRICH, S.M.RAPOPORT, T.A.RAPOPORT\n",
    "// In Progress in Biophysics and Molecular Biology\n",
    "// 1977, Vol 32, p1-82\n",
    "\n",
    "// Reactions:\n",
    "J0: $X0 -> S1; v0\n",
    "J1: S1 -> ; k3*S1\n",
    "J2: S1 -> S2; (k1*S1 - k_1*S2)*(1 + c*S2^q)\n",
    "J3: S2 ->; k2*S2\n",
    "\n",
    "// Species initializations\n",
    "S1 = 0; S2 = 1; X0 = 1\n",
    "\n",
    "// Variable initializations\n",
    "v0 = 8; k3 = 0\n",
    "k1 = 1; k_1 = 0\n",
    "c = 1;  q = 3\n",
    "k2 = 5;\n",
    "\"\"\"\n",
    "rr = te.loada(model)\n",
    "rr.simulate(0, 20)\n",
    "rr.plot()"
   ]
  },
  {
   "cell_type": "markdown",
   "metadata": {},
   "source": [
    "# Save"
   ]
  },
  {
   "cell_type": "markdown",
   "metadata": {
    "tags": []
   },
   "source": [
    "The homogeneous system is $\\dot{\\bf x} = {\\bf A} {\\bf x}$.\n",
    "Consider\n",
    "Its solution has the for\n",
    "${\\bf x}(t) = \\sum _{n=1}^2 c_n {\\bf e}_n e^{\\lambda_n t}$."
   ]
  },
  {
   "cell_type": "markdown",
   "metadata": {},
   "source": [
    "The homogeneous system is $\\dot{\\bf x} = {\\bf A} {\\bf x}$.\n",
    "Its solution has the for\n",
    "${\\bf x}(t) = \\sum _{n=1}^2 c_n {\\bf e}_n e^{\\lambda_n t}$."
   ]
  },
  {
   "cell_type": "markdown",
   "metadata": {},
   "source": [
    "Note that $e^{\\pm \\alpha i } = cos(\\alpha ) \\pm i sin(\\alpha )$.\n",
    "In the following, $\\alpha = \\sqrt{\\delta k_4}$.\n",
    "So\n",
    "\n",
    "$\n",
    "\\begin{eqnarray}\n",
    "{\\bf x} (t) & = & c_1 {\\bf e}_1 e^{\\lambda_1 t} + c_2 {\\bf e}_2 e^{\\lambda_2 t} \\\\\n",
    "& = & c_1 {\\bf e}_1 \\left[ cos (\\alpha t) - i sin(\\alpha t) \\right] \n",
    "+ c_2 {\\bf e}_2 [ cos (\\alpha t) + i sin(\\alpha t) ]  \\\\\n",
    "& = &\n",
    "c_1 \\left[\\begin{matrix} - \\frac{k_{4}}{\\delta - k_{4}} [cos(\\alpha) - i sin(\\alpha)]  -\n",
    "\\frac{\\alpha i}{d + k_{4}}[cos(\\alpha) - i sin(\\alpha)]\\\\\n",
    "cos(\\alpha) - i sin(\\alpha)\n",
    "\\end{matrix}\\right] +\n",
    "c_2 \\left[\\begin{matrix} - \\frac{k_{4}}{\\delta + k_{4}} [cos(\\alpha) + i sin(\\alpha)]  + \\frac{\\alpha i}{d + k_{4}}[cos(\\alpha) + i sin(\\alpha)]\\\\\n",
    "cos(\\alpha) + i sin(\\alpha)\n",
    "\\end{matrix}\\right] \\\\\n",
    "& = &\n",
    "2c \\left[ \\begin{matrix} -\\frac{k_4}{\\delta + k_4}cos(\\alpha t) -\\frac{\\alpha}{\\delta + k_4}sin(\\alpha t) \\\\\n",
    "  cos(\\alpha t)\n",
    "\\end{matrix} \\right]\n",
    "\\end{eqnarray}\n",
    "$.\n",
    "\n",
    "There is no solution that is consistent with the assumption that the\n",
    "eigenvalues are pure imaginary.\n",
    "Note that in order to get real values for the solution, we must have $c_1 = c = c_2$.\n",
    "So, $c = \\frac{x_2(0)}{2}$.\n",
    "But $c = -\\frac{x_1(0) [k_4 + \\delta]}{2 k_4}$."
   ]
  },
  {
   "cell_type": "markdown",
   "metadata": {},
   "source": [
    "Make this into a sum of real and imaginary values.\n",
    "$\n",
    "\\begin{eqnarray}\n",
    "& = &\n",
    " \\left[\\begin{matrix} - \\frac{k_{4}}{\\delta - k_{4}} [c_1 + c_2] cos(\\alpha) +\n",
    "\\frac{\\alpha i}{d + k_{4}}[c_2 - c_1]\\\\\n",
    "c_1 + c_2\n",
    "\\end{matrix}\\right]  \\\\\n",
    "& ~~ + &\n",
    " \\left[\\begin{matrix} - \\frac{k_{4}}{\\delta - k_{4}} [- c_1 + c_2]  +\n",
    "\\frac{\\alpha i}{d + k_{4}}[c_2 + c_1]\\\\\n",
    "- c_1 + c_2\n",
    "\\end{matrix}\\right] i sin(\\alpha) \n",
    "\\end{eqnarray}\n",
    "$.\n"
   ]
  }
 ],
 "metadata": {
  "colab": {
   "collapsed_sections": [],
   "name": "Linear Algebra Analysis of Oscillations.ipynb",
   "provenance": [],
   "toc_visible": true
  },
  "kernelspec": {
   "display_name": "Python 3 (ipykernel)",
   "language": "python",
   "name": "python3"
  },
  "language_info": {
   "codemirror_mode": {
    "name": "ipython",
    "version": 3
   },
   "file_extension": ".py",
   "mimetype": "text/x-python",
   "name": "python",
   "nbconvert_exporter": "python",
   "pygments_lexer": "ipython3",
   "version": "3.10.4"
  }
 },
 "nbformat": 4,
 "nbformat_minor": 4
}
