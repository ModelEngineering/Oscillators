{
 "cells": [
  {
   "cell_type": "markdown",
   "metadata": {
    "id": "YX_GiD-6pqvS"
   },
   "source": [
    "# Supplemental Material"
   ]
  },
  {
   "cell_type": "markdown",
   "metadata": {},
   "source": [
    "This write-up provides more details on the derivation of the closed-form time-domain solution to the reaction network displyed below."
   ]
  },
  {
   "cell_type": "markdown",
   "metadata": {},
   "source": [
    "<img src=\"Fig1.png\" alt=\"Reaction Network\" width=\"500\"/>\n",
    "The reaction has 8 parameters. There are 6 kinetic constants, $k_i,~ i\\in \\{1, 2, 3, 4, 5, 6\\}$. And there are two initial concentrations, $x_n (0),~ n \\in \\{1, 2 \\}$, where $x_n(0)$ is the initial concentration for $S_n$."
   ]
  },
  {
   "cell_type": "markdown",
   "metadata": {},
   "source": [
    "Because the reaction network is a linear system (by construction), we know that oscillations are sinusoids. Let $x_n (t)$ be concentration of species $S_n$ at time $t$. Then, an oscillating solution has the form\n",
    "\\begin{equation*}\n",
    "x_n(t) = \\alpha_n sin(\\theta_n t + \\phi_n) + \\omega_n,\n",
    "\\end{equation*}\n",
    "where $\\alpha_n$ is the amplitude of the sinusoid for $S_n$, $\\theta_n$ is its frequency,\n",
    "$\\phi_n$ is its phase, and $\\omega_n$ is the DC offset (the mean value of the sinusoid over time).\n",
    "We refer to $\\alpha_n, \\theta_n, \\phi_n, \\omega_n$ as the **oscillation characteristics (OC)**\n",
    "of an oscillating linear system."
   ]
  },
  {
   "cell_type": "markdown",
   "metadata": {},
   "source": [
    "We use the following notation:\n",
    "* ${\\bf A}$ - Jacobian matrix\n",
    "* $\\alpha_n$ - amplitude of oscillation for species $n$\n",
    "* $\\Delta$ - $det {\\bf A})$\n",
    "* $i$ - indexes constants\n",
    "* $k_i$, $k_d$ - positive constant\n",
    "* $K$ - number of constants\n",
    "* $\\lambda$ - eigenvalue\n",
    "* $n$ - indexes species\n",
    "* $N$ - number of species\n",
    "* $\\omega_n$ - offset of species $n$\n",
    "* $\\phi_n$ - phase in radians\n",
    "* $t$ - time\n",
    "* $\\tau$ - $tr({\\bf A})$\n",
    "* $\\theta$ - frequency in radians\n",
    "* ${\\bf u}$ - forced input (kinetic constants for zeroth order rates)\n",
    "* ${\\bf x}$ ($N \\times 1$) is the state vector\n",
    "* $\\dot{\\bf x} (t)$ - derivative w.r.t. time of ${\\bf x}$\n",
    "* $x_n$ (t) - time varying concentration of species $n$"
   ]
  },
  {
   "cell_type": "markdown",
   "metadata": {},
   "source": [
    "Since we have constructed the reaction network so that the dynamics can be described as a system of linear ODEs, it can be described using the vector differential equation:\n",
    "\\begin{equation}\n",
    "\\dot{\\bf x} = {\\bf A} {\\bf x} + {\\bf u}\\label{eq:linear}\n",
    "\\end{equation}\n",
    "where ${\\bf A} =\n",
    "\\begin{pmatrix}\n",
    "a_{11} & a_{12} \\\\\n",
    "a_{21} & a_{22} \\\\\n",
    "\\end{pmatrix}$"
   ]
  },
  {
   "cell_type": "markdown",
   "metadata": {
    "id": "a2tb3L7U3uS5"
   },
   "source": [
    "If there is an oscillating solution for this system, then the eigenvalues of ${\\bf A}$ must be pure imaginary. Since this is a two state system, this means that if $\\theta i$ is an eigenvalue,\n",
    "then $-\\theta i$ must also be an eigenvalue. This means that $\\theta_1 = \\theta = \\theta_2$. So, hereafter, we drop the subscript for $theta$.\n",
    "\n",
    "Next we develop the conditions for ${\\bf A}$ to have a pure imaginary eigenvalues.\n",
    "The determinant of ${\\bf A}$ is $det({\\bf A}) = a_{11} a_{22} - a_{12} a_{21} = \\Delta$.\n",
    "The trace of ${\\bf A}$ is $tr({\\bf A}) = a_{11} + a_{22} = \\tau$. The eigenvalues are\n",
    "$\\lambda_n = \\frac{1}{2} \\left( - \\tau \\pm \\sqrt{\\tau^2 - 4 \\Delta} \\right)$.\n",
    "So, to get pure imaginary eigenvalues, $\\tau = 0$\n",
    "and $\\Delta > 0$."
   ]
  },
  {
   "cell_type": "markdown",
   "metadata": {
    "id": "LuLZN4yqGSrb"
   },
   "source": [
    "Note that from the reaction network, we have:\n",
    "${\\bf A} = \n",
    "\\begin{pmatrix}\n",
    "k_3 - k_1 & k_2 \\\\\n",
    "k_1 - k_5 & -k_2 \\\\\n",
    "\\end{pmatrix}\n",
    "$, and\n",
    "${\\bf u} = \n",
    "\\begin{pmatrix}\n",
    "- k_4 \\\\\n",
    "k_6  \\\\\n",
    "\\end{pmatrix}$\n",
    "and so\n",
    "\\begin{eqnarray}\n",
    "\\tau & = & k_3 -k_1 - k_2 \\\\\n",
    "\\Delta & = & (k_3 - k_1)(-k_2) - k_2 (k_1 - k_5) \\\\\n",
    "& = & k_2 (k_5 - k_3) \\\\\n",
    "\\end{eqnarray}"
   ]
  },
  {
   "cell_type": "markdown",
   "metadata": {},
   "source": [
    "To obtain purely imaginary solutions, we require that $\\tau =0$ and $\\Delta > 0$.\n",
    "The former implies that $k_3 = k_1 + k_2$. The latter implies that\n",
    "that $k_5 > k_3$. We define $k_d = k_5 - k_3 > 0$"
   ]
  },
  {
   "cell_type": "markdown",
   "metadata": {},
   "source": [
    "Applying the foregoing to the ${\\bf A}$ matrix, we first note that\n",
    "\\begin{align*}\n",
    "k_1 - k_5 & = & k_1 - k_3 -k_d \\\\\n",
    "& = & k_3 - k_2 - k_3 - k_d \\\\\n",
    "& = & -k_2 - k_d \\\\\n",
    "\\end{align*}\n",
    "And so,\n",
    "$\n",
    "{\\bf A} =\n",
    "\\begin{pmatrix}\n",
    "k_2 & k_2 \\\\\n",
    "-k_2 - k_d & -k_2 \\\\\n",
    "\\end{pmatrix}\n",
    ".$\n",
    "Further, $\\Delta = k_2 k_d$. As a result $\\theta = \\pm \\sqrt{\\Delta} = \\pm \\sqrt{k_2 k_d}$. Hereafter, we drop the $\\pm$."
   ]
  },
  {
   "cell_type": "markdown",
   "metadata": {},
   "source": [
    "Next, we find the eigenvectors of ${\\bf A}$ as an intermediate step to finding the time domain solution.\n",
    "\n",
    "First, observe that that since $k_d > 0$, ${\\bf A}$ is nonsingular, and so we can calculate eigenvectors directly."
   ]
  },
  {
   "cell_type": "markdown",
   "metadata": {},
   "source": [
    "$ {\\bf w}_1 =\n",
    " \\left(\\begin{matrix}\\frac{i \\sqrt{k_{2}} \\sqrt{k_{d}}}{k_{2} + k_{d}} - \\frac{k_{2}}{k_{2} + k_{d}}\\\\1\\end{matrix}\\right)\n",
    "$, for the eigenvalue $\\lambda_1 = - \\sqrt{k_d k_2} i$.\n",
    "\n",
    "${\\bf w}_2 =\n",
    "\\left( \\begin{matrix}- \\frac{i \\sqrt{k_{2}} \\sqrt{k_{d}}}{k_{2} + k_{d}} - \\frac{k_{2}}{k_{2} + k_{d}}\\\\1\\end{matrix}\\right)\n",
    "$, for the eigenvalue $\\lambda_2 = \\sqrt{k_d k_2} i$.\n",
    "\n",
    "If the eigenvector ${\\bf w}$ and/or\n",
    "eigenvalue $\\lambda$ are complex, then\n",
    "${\\bf w} e^{\\lambda} = {\\bf v}_1 + i {\\bf v}_2$ for\n",
    "some real vectors ${\\bf v}_n$.\n",
    "By theorem, the ${\\bf v}_n$ are independent solutions to\n",
    "the differential equation. "
   ]
  },
  {
   "cell_type": "markdown",
   "metadata": {},
   "source": [
    "Using ${\\bf w}_2$ and applying the Euler formulas, we construct the fundamental matrix ${\\bf F}$.\n",
    "\n",
    "${\\bf F} (t) = \\left[\\begin{matrix}- \\frac{k_{2} \\cos{\\left(t \\theta \\right)}}{k_{2} + k_{d}} + \\frac{\\theta \\sin{\\left(t \\theta \\right)}}{k_{2} + k_{d}} & - \\frac{k_{2} \\sin{\\left(t \\theta \\right)}}{k_{2} + k_{d}} - \\frac{\\theta \\cos{\\left(t \\theta \\right)}}{k_{2} + k_{d}}\\\\\\cos{\\left(t \\theta \\right)} & \\sin{\\left(t \\theta \\right)}\\end{matrix}\\right]$"
   ]
  },
  {
   "cell_type": "markdown",
   "metadata": {},
   "source": [
    "We proceed in the usual way to construct a solution:\n",
    "1. Find the solution to the homogeneous system $\\dot{\\bf x}^H (t) = {\\bf A} {\\bf x}^H (t)$ using the eigenvectors.\n",
    "1. Find a particular solution such that $\\dot{x}^P (t) = {\\bf A} {\\bf x}^P (t)$\n",
    "1. ${\\bf x} (t) = {\\bf x}^H (t) + {\\bf x}^P (t)$\n",
    "\n",
    "${\\bf x}^H (t) = {\\bf F} {\\bf c} (t),$\n",
    "where ${\\bf c}$ is a vector of unknown constants that are determined based on initial conditions.\n",
    "\n",
    "We assume that ${\\bf x}^P (t) = {\\bf F}(t) {\\bf v}$. This means that\n",
    "\\begin{eqnarray}\n",
    "\\dot{\\bf x}^P (t) &= & \\dot{\\bf F} (t) {\\bf v} + {\\bf F} (t) \\dot{\\bf v} \\\\\n",
    "\\dot{\\bf F} (t) {\\bf v} + {\\bf F} (t) \\dot{\\bf v} & = & {\\bf A} {\\bf F}(t) {\\bf v} + {\\bf u} \\\\\n",
    "{\\bf A} {\\bf F} (t){\\bf v} + {\\bf F} (t) \\dot{\\bf v} & = & {\\bf A} {\\bf F} (t) {\\bf v} + {\\bf u} \\\\\n",
    "{\\bf F} (t) \\dot{\\bf v} & = & {\\bf u} \\\\\n",
    "{\\bf v} = \\int \\left( {\\bf F}^{-1} (t) {\\bf u} \\right)dt\n",
    "\\end{eqnarray}"
   ]
  },
  {
   "cell_type": "markdown",
   "metadata": {},
   "source": [
    "Solving, we have\n",
    "\n",
    "\\begin{eqnarray}\n",
    "{\\bf x}^P (t) & = & {\\bf F} (t) {\\bf v} \\\\\n",
    "& = & \\begin{pmatrix}\\frac{- k_{2}^{2} k_{4} \\cos{\\left(t \\theta \\right)} - k_{2}^{2} k_{4} + k_{2}^{2} k_{6} \\cos{\\left(t \\theta \\right)} + k_{2}^{2} k_{6} - k_{2} k_{4} k_{d} \\cos{\\left(t \\theta \\right)} - k_{2} k_{4} k_{d} + k_{2} k_{4} \\theta \\sin{\\left(t \\theta \\right)} - k_{2} k_{6} \\theta \\sin{\\left(t \\theta \\right)} + k_{4} k_{d} \\theta \\sin{\\left(t \\theta \\right)} + k_{6} \\theta^{2}}{\\theta^{2} \\left(k_{2} + k_{d}\\right)}\\\\\\frac{k_{2} k_{4} \\cos{\\left(t \\theta \\right)} + k_{2} k_{4} - k_{2} k_{6} \\cos{\\left(t \\theta \\right)} - k_{2} k_{6} + k_{4} k_{d} \\cos{\\left(t \\theta \\right)} + k_{4} k_{d}}{\\theta^{2}}\\end{pmatrix}\n",
    "\\end{eqnarray}"
   ]
  },
  {
   "cell_type": "markdown",
   "metadata": {},
   "source": [
    "\\begin{eqnarray}\n",
    "{\\bf x} (t) & = & {\\bf x}^H (t) + {\\bf x}^P (t) \\\\\n",
    "& = & \\begin{pmatrix}- \\frac{k_{2} \\cos{\\left(t \\theta \\right)}}{k_{2} + k_{d}} + \\frac{\\theta \\sin{\\left(t \\theta \\right)}}{k_{2} + k_{d}} & - \\frac{k_{2} \\sin{\\left(t \\theta \\right)}}{k_{2} + k_{d}} - \\frac{\\theta \\cos{\\left(t \\theta \\right)}}{k_{2} + k_{d}}\\\\\\cos{\\left(t \\theta \\right)} & \\sin{\\left(t \\theta \\right)}\\end{pmatrix}  \\begin{pmatrix} c_1 \\\\ c_2 \\end{pmatrix} \\\\\n",
    "&  & + \\begin{pmatrix}\\frac{- k_{2}^{2} k_{4} \\cos{\\left(t \\theta \\right)} - k_{2}^{2} k_{4} + k_{2}^{2} k_{6} \\cos{\\left(t \\theta \\right)} + k_{2}^{2} k_{6} - k_{2} k_{4} k_{d} \\cos{\\left(t \\theta \\right)} - k_{2} k_{4} k_{d} + k_{2} k_{4} \\theta \\sin{\\left(t \\theta \\right)} - k_{2} k_{6} \\theta \\sin{\\left(t \\theta \\right)} + k_{4} k_{d} \\theta \\sin{\\left(t \\theta \\right)} + k_{6} \\theta^{2}}{\\theta^{2} \\left(k_{2} + k_{d}\\right)}\\\\\\frac{k_{2} k_{4} \\cos{\\left(t \\theta \\right)} + k_{2} k_{4} - k_{2} k_{6} \\cos{\\left(t \\theta \\right)} - k_{2} k_{6} + k_{4} k_{d} \\cos{\\left(t \\theta \\right)} + k_{4} k_{d}}{\\theta^{2}}\\end{pmatrix}\n",
    "\\end{eqnarray}"
   ]
  },
  {
   "cell_type": "markdown",
   "metadata": {},
   "source": [
    "We find $c_1, c_2$ by\n",
    "\\begin{eqnarray}\n",
    "{\\bf x} (0) & = & \\begin{pmatrix} x_1 (0) \\\\ x_2 (0) \\end{pmatrix} \\\\\n",
    "& = & \\begin{pmatrix}- \\frac{k_{2} \\cos{\\left(t \\theta \\right)}}{k_{2} + k_{d}} + \\frac{\\theta \\sin{\\left(t \\theta \\right)}}{k_{2} + k_{d}} & - \\frac{k_{2} \\sin{\\left(t \\theta \\right)}}{k_{2} + k_{d}} - \\frac{\\theta \\cos{\\left(t \\theta \\right)}}{k_{2} + k_{d}}\\\\\\cos{\\left(t \\theta \\right)} & \\sin{\\left(t \\theta \\right)}\\end{pmatrix}  \\begin{pmatrix} c_1 \\\\ c_2 \\end{pmatrix} \\\\\n",
    "&  & + \\begin{pmatrix}\\frac{- k_{2}^{2} k_{4} \\cos{\\left(t \\theta \\right)} - k_{2}^{2} k_{4} + k_{2}^{2} k_{6} \\cos{\\left(t \\theta \\right)} + k_{2}^{2} k_{6} - k_{2} k_{4} k_{d} \\cos{\\left(t \\theta \\right)} - k_{2} k_{4} k_{d} + k_{2} k_{4} \\theta \\sin{\\left(t \\theta \\right)} - k_{2} k_{6} \\theta \\sin{\\left(t \\theta \\right)} + k_{4} k_{d} \\theta \\sin{\\left(t \\theta \\right)} + k_{6} \\theta^{2}}{\\theta^{2} \\left(k_{2} + k_{d}\\right)}\\\\\\frac{k_{2} k_{4} \\cos{\\left(t \\theta \\right)} + k_{2} k_{4} - k_{2} k_{6} \\cos{\\left(t \\theta \\right)} - k_{2} k_{6} + k_{4} k_{d} \\cos{\\left(t \\theta \\right)} + k_{4} k_{d}}{\\theta^{2}}\\end{pmatrix}\n",
    "\\end{eqnarray}\n",
    "\n",
    "Solving, we have\n",
    "${\\bf x} (t) =\n",
    "\\begin{pmatrix}\\frac{\\left(- \\frac{k_{2} \\sin{\\left(t \\theta \\right)}}{k_{2} + k_{d}} - \\frac{\\theta \\cos{\\left(t \\theta \\right)}}{k_{2} + k_{d}}\\right) \\left(- k_{2} x_{1 0} - k_{2} x_{2 0} + k_{6} - k_{d} x_{1 0}\\right)}{\\theta} + \\frac{\\left(- \\frac{k_{2} \\cos{\\left(t \\theta \\right)}}{k_{2} + k_{d}} + \\frac{\\theta \\sin{\\left(t \\theta \\right)}}{k_{2} + k_{d}}\\right) \\left(- 2 k_{2} k_{4} + 2 k_{2} k_{6} - 2 k_{4} k_{d} + \\theta^{2} x_{2 0}\\right)}{\\theta^{2}} + \\frac{- k_{2}^{2} k_{4} \\cos{\\left(t \\theta \\right)} - k_{2}^{2} k_{4} + k_{2}^{2} k_{6} \\cos{\\left(t \\theta \\right)} + k_{2}^{2} k_{6} - k_{2} k_{4} k_{d} \\cos{\\left(t \\theta \\right)} - k_{2} k_{4} k_{d} + k_{2} k_{4} \\theta \\sin{\\left(t \\theta \\right)} - k_{2} k_{6} \\theta \\sin{\\left(t \\theta \\right)} + k_{4} k_{d} \\theta \\sin{\\left(t \\theta \\right)} + k_{6} \\theta^{2}}{\\theta^{2} \\left(k_{2} + k_{d}\\right)}\\\\\n",
    "\\frac{\\left(- k_{2} x_{1 0} - k_{2} x_{2 0} + k_{6} - k_{d} x_{1 0}\\right) \\sin{\\left(t \\theta \\right)}}{\\theta} + \\frac{\\left(- 2 k_{2} k_{4} + 2 k_{2} k_{6} - 2 k_{4} k_{d} + \\theta^{2} x_{2 0}\\right) \\cos{\\left(t \\theta \\right)}}{\\theta^{2}} + \\frac{k_{2} k_{4} \\cos{\\left(t \\theta \\right)} + k_{2} k_{4} - k_{2} k_{6} \\cos{\\left(t \\theta \\right)} - k_{2} k_{6} + k_{4} k_{d} \\cos{\\left(t \\theta \\right)} + k_{4} k_{d}}{\\theta^{2}}\\end{pmatrix}$\n"
   ]
  },
  {
   "cell_type": "markdown",
   "metadata": {},
   "source": [
    "Our next task is to restructure ${\\bf x} (t)$ to isolate the oscillation characteristics $\\theta, \\alpha_n, \\phi_n, \\omega_n$.\n",
    "This is mostly a tedious factoring. $\\theta$ is the coefficient of time $t$.\n",
    "The $\\alpha_n$ are obtained from the coefficients of $cos(\\theta t)$ and $sin(\\theta t)$ in $x_n (t)$.\n",
    "And, $\\omega_n$ are terms in $x_n (t)$ that have no $sin$ or $cos$. We obtain $\\phi_n$ by applying the trigonometric equality\n",
    "$$a cos(t) + b sin(t) = \\sqrt{a^2 + b^2} sin(t + tan^{-1}\\frac{a}{b})\n",
    "$$."
   ]
  },
  {
   "cell_type": "markdown",
   "metadata": {},
   "source": [
    "The results are:\n",
    "\n",
    "* $\\theta = \\sqrt{k_2 k_d}$\n",
    "\n",
    "* $\\alpha_1 = \\frac{\\sqrt{\\theta^{2} \\left(k_{2}^{2} x_{1 0} + k_{2}^{2} x_{2 0} - k_{2} k_{4} + k_{2} k_{d} x_{1 0} - k_{4} k_{d} + \\theta^{2} x_{2 0}\\right)^{2} + \\left(k_{2}^{2} k_{4} - k_{2}^{2} k_{6} + k_{2} k_{4} k_{d} + k_{2} \\theta^{2} x_{1 0} - k_{6} \\theta^{2} + k_{d} \\theta^{2} x_{1 0}\\right)^{2}}}{\\theta^{2} \\left(k_{2} + k_{d}\\right)}$\n",
    "\n",
    "* $\\alpha_2 = \\frac{\\sqrt{\\theta^{2} \\left(k_{2} x_{1 0} + k_{2} x_{2 0} - k_{6} + k_{d} x_{1 0}\\right)^{2} + \\left(k_{2} k_{4} - k_{2} k_{6} + k_{4} k_{d} - \\theta^{2} x_{2 0}\\right)^{2}}}{\\theta^{2}}$\n",
    "\n",
    "* $\\phi_1 =\n",
    "\\operatorname{atan}{\\left(\\frac{k_{2}^{2} k_{4} - k_{2}^{2} k_{6} + k_{2} k_{4} k_{d} + k_{2} \\theta^{2} x_{1 0} - k_{6} \\theta^{2} + k_{d} \\theta^{2} x_{1 0}}{\\theta \\left(k_{2}^{2} x_{1 0} + k_{2}^{2} x_{2 0} - k_{2} k_{4} + k_{2} k_{d} x_{1 0} - k_{4} k_{d} + \\theta^{2} x_{2 0}\\right)} \\right)} + \\delta_1 \\pi,~\n",
    "$ where\n",
    "\\begin{eqnarray}\n",
    "\\delta_1 & = & \\frac{k_{2}^{2} x_{1 0}}{k_{2} \\theta + k_{d} \\theta} + \\frac{k_{2}^{2} x_{2 0}}{k_{2} \\theta + k_{d} \\theta} + \\frac{k_{2} k_{4} \\theta}{k_{2} \\theta^{2} + k_{d} \\theta^{2}} \n",
    "- \\frac{2 k_{2} k_{4}}{k_{2} \\theta + k_{d} \\theta} - \\frac{k_{2} k_{6} \\theta}{k_{2} \\theta^{2}\n",
    " + k_{d} \\theta^{2}} \n",
    " \\\\\n",
    "& & \n",
    " + \\frac{k_{2} k_{6}}{k_{2} \\theta + k_{d} \\theta} + \\frac{k_{2} k_{d} x_{1 0}}{k_{2} \\theta + k_{d} \\theta} + \\frac{k_{4} k_{d} \\theta}{k_{2} \\theta^{2} + k_{d} \n",
    "\\theta^{2}} - \\frac{2 k_{4} k_{d}}{k_{2} \\theta + k_{d} \\theta} + \\frac{\\theta x_{2 0}}{k_{2} + k_{d}}\n",
    "< 0\n",
    "\\end{eqnarray}\n",
    "\n",
    "* $\\phi_2 =\n",
    "\\operatorname{atan}{\\left(\\frac{k_{2} k_{4} - k_{2} k_{6} + k_{4} k_{d} - \\theta^{2} x_{2 0}}{\\theta \\left(k_{2} x_{1 0} + k_{2} x_{2 0} - k_{6} + k_{d} x_{1 0}\\right)} \\right)} + \\delta_2 \\pi,~\n",
    "$ where\n",
    "$\\delta_2 = \\frac{k_{2} x_{1 0}}{\\theta} + \\frac{k_{2} x_{2 0}}{\\theta} - \\frac{k_{6}}{\\theta} + \\frac{k_{d} x_{1 0}}{\\theta} > 0$\n",
    "\n",
    "* $\\omega_1 = \\frac{- k_{2}^{2} k_{4} + k_{2}^{2} k_{6} - k_{2} k_{4} k_{d} + k_{6} \\theta^{2}}{k_{2} \\theta^{2} + k_{d} \\theta^{2}}$\n",
    "\n",
    "* $\\omega_2 = \\frac{k_{2} k_{4} - k_{2} k_{6} + k_{4} k_{d}}{\\theta^{2}}$"
   ]
  }
 ],
 "metadata": {
  "colab": {
   "collapsed_sections": [],
   "name": "Linear Algebra Analysis of Oscillations.ipynb",
   "provenance": [],
   "toc_visible": true
  },
  "kernelspec": {
   "display_name": "Python 3 (ipykernel)",
   "language": "python",
   "name": "python3"
  },
  "language_info": {
   "codemirror_mode": {
    "name": "ipython",
    "version": 3
   },
   "file_extension": ".py",
   "mimetype": "text/x-python",
   "name": "python",
   "nbconvert_exporter": "python",
   "pygments_lexer": "ipython3",
   "version": "3.9.6"
  },
  "toc-showtags": true
 },
 "nbformat": 4,
 "nbformat_minor": 4
}
