{
 "cells": [
  {
   "cell_type": "markdown",
   "metadata": {
    "id": "YX_GiD-6pqvS"
   },
   "source": [
    "# TIME DOMAIN SOLUTION FOR OSCILLATING REACTION NETWORK"
   ]
  },
  {
   "cell_type": "code",
   "execution_count": 1,
   "metadata": {},
   "outputs": [
    {
     "data": {
      "application/javascript": [
       "MathJax.Hub.Config({\n",
       "    TeX: { equationNumbers: { autoNumber: \"AMS\" } }\n",
       "});\n"
      ],
      "text/plain": [
       "<IPython.core.display.Javascript object>"
      ]
     },
     "metadata": {},
     "output_type": "display_data"
    }
   ],
   "source": [
    "%%javascript\n",
    "MathJax.Hub.Config({\n",
    "    TeX: { equationNumbers: { autoNumber: \"AMS\" } }\n",
    "});"
   ]
  },
  {
   "cell_type": "markdown",
   "metadata": {},
   "source": [
    "# Reaction Network\n",
    "<img src=\"Fig1.png\" alt=\"Reaction Network\" width=\"500\"/>"
   ]
  },
  {
   "cell_type": "markdown",
   "metadata": {},
   "source": [
    "# Notation"
   ]
  },
  {
   "cell_type": "markdown",
   "metadata": {},
   "source": [
    "* ${\\bf A}$ - Jacobian matrix\n",
    "* $\\alpha_n$ - amplitude of oscillation for species $n$\n",
    "* $\\Delta$ - $det {\\bf A})$\n",
    "* $i$ - indexes constants\n",
    "* $k_i$, $k_d$ - positive constant\n",
    "* $K$ - number of constants\n",
    "* $\\lambda$ - eigenvalue\n",
    "* $n$ - indexes species\n",
    "* $N$ - number of species\n",
    "* $\\omega_n$ - offset of species $n$\n",
    "* $\\phi_n$ - phase in radians\n",
    "* $\\tau$ - $tr({\\bf A})$\n",
    "* $\\theta$ - frequency in radians\n",
    "* ${\\bf u}$ - forced input (kinetic constants for zeroth order rates)\n",
    "* ${\\bf x}$ ($N \\times 1$) is the state vector\n",
    "* $x_n$ (t) - time varying concentration of species $n$"
   ]
  },
  {
   "cell_type": "markdown",
   "metadata": {},
   "source": [
    "Linear system\n",
    "\\begin{equation}\n",
    "\\dot{\\bf x} = {\\bf A} {\\bf x} + {\\bf u}\\label{eq:linear}\n",
    "\\end{equation}"
   ]
  },
  {
   "cell_type": "markdown",
   "metadata": {},
   "source": [
    "Notes\n",
    "1. From the foregoing definitions, the oscillating characteristics are $\\{\\alpha_n, \\theta, \\phi_n, \\omega_n \\}$. So, there 7 OCs.\n",
    "1. The parameters of the network are the $k_i$, $x_n (0)$. So, there are 8 parameters."
   ]
  },
  {
   "cell_type": "markdown",
   "metadata": {},
   "source": [
    "# Programming Preliminaries"
   ]
  },
  {
   "cell_type": "code",
   "execution_count": 2,
   "metadata": {
    "colab": {
     "base_uri": "https://localhost:8080/"
    },
    "id": "fwyR8MQxcT0z",
    "outputId": "e143ffc1-d580-4694-8a30-1698f02416f1"
   },
   "outputs": [],
   "source": [
    "from src.Oscillators import c1, c2, T, phi, r1, r2, t, b1, b2, m1, m2, h1, h2,   \\\n",
    "    alpha, omega, theta, S1, S2, k1, k2, k3, k4, k5, k6, k_d, x1, x1_0, x2, x2_0, I\n",
    "from src.Oscillators import util\n",
    "from src.Oscillators.util import TIMES\n",
    "from src.Oscillators.oscillator_solution import OscillatorSolution\n",
    "from src.Oscillators.model import MODEL, PARAM_DCT\n",
    "\n",
    "import tellurium as te\n",
    "import sympy\n",
    "from sympy import init_printing\n",
    "import matplotlib.pyplot as plt\n",
    "import numpy as np\n",
    "import pandas as pd\n",
    "import control\n",
    "import lmfit\n",
    "\n",
    "init_printing()"
   ]
  },
  {
   "cell_type": "code",
   "execution_count": 3,
   "metadata": {},
   "outputs": [
    {
     "data": {
      "text/plain": [
       "{'k1': 1.0,\n",
       " 'k2': 39.47841760435743,\n",
       " 'k3': 40.47841760435743,\n",
       " 'k4': 5.0,\n",
       " 'k5': 41.47841760435743,\n",
       " 'k6': 5.0,\n",
       " 'k_d': 1.0,\n",
       " 'theta': 6.283185307179586,\n",
       " 'x1_0': 1.0,\n",
       " 'x2_0': 10.0}"
      ]
     },
     "execution_count": 3,
     "metadata": {},
     "output_type": "execute_result"
    }
   ],
   "source": [
    "PARAM_DCT"
   ]
  },
  {
   "cell_type": "markdown",
   "metadata": {},
   "source": [
    "Many technical details of the symbolic solution are in symbolic algebra in the clas OscillatorSolution. We show major points in the deterivation by displaying properties of this object."
   ]
  },
  {
   "cell_type": "code",
   "execution_count": 4,
   "metadata": {},
   "outputs": [
    {
     "ename": "TypeError",
     "evalue": "loop of ufunc does not support argument 0 of type Mul which has no callable sqrt method",
     "output_type": "error",
     "traceback": [
      "\u001b[0;31m---------------------------------------------------------------------------\u001b[0m",
      "\u001b[0;31mAttributeError\u001b[0m                            Traceback (most recent call last)",
      "\u001b[0;31mAttributeError\u001b[0m: 'Mul' object has no attribute 'sqrt'",
      "\nThe above exception was the direct cause of the following exception:\n",
      "\u001b[0;31mTypeError\u001b[0m                                 Traceback (most recent call last)",
      "Cell \u001b[0;32mIn [4], line 1\u001b[0m\n\u001b[0;32m----> 1\u001b[0m SOLUTION \u001b[38;5;241m=\u001b[39m \u001b[43mOscillatorSolution\u001b[49m\u001b[43m(\u001b[49m\u001b[43m)\u001b[49m\n\u001b[1;32m      2\u001b[0m _ \u001b[38;5;241m=\u001b[39m SOLUTION\u001b[38;5;241m.\u001b[39msolve()\n",
      "File \u001b[0;32m~/home/Technical/repos/Oscillators/src/Oscillators/oscillator_solution.py:38\u001b[0m, in \u001b[0;36mOscillatorSolution.__init__\u001b[0;34m(self)\u001b[0m\n\u001b[1;32m     36\u001b[0m \u001b[38;5;28mself\u001b[39m\u001b[38;5;241m.\u001b[39mfactor_dcts \u001b[38;5;241m=\u001b[39m \u001b[38;5;28;01mNone\u001b[39;00m \u001b[38;5;66;03m# Dictionaries of the sinusoid coefficients\u001b[39;00m\n\u001b[1;32m     37\u001b[0m \u001b[38;5;28mself\u001b[39m\u001b[38;5;241m.\u001b[39mfactored_x_vec \u001b[38;5;241m=\u001b[39m \u001b[38;5;28;01mNone\u001b[39;00m \u001b[38;5;66;03m# Time domain solution factored into sinusoids\u001b[39;00m\n\u001b[0;32m---> 38\u001b[0m \u001b[38;5;28mself\u001b[39m\u001b[38;5;241m.\u001b[39mtheta \u001b[38;5;241m=\u001b[39m \u001b[43mnp\u001b[49m\u001b[38;5;241;43m.\u001b[39;49m\u001b[43msqrt\u001b[49m\u001b[43m(\u001b[49m\u001b[43mk2\u001b[49m\u001b[38;5;241;43m*\u001b[39;49m\u001b[43mk_d\u001b[49m\u001b[43m)\u001b[49m\n\u001b[1;32m     39\u001b[0m \u001b[38;5;28mself\u001b[39m\u001b[38;5;241m.\u001b[39malphas \u001b[38;5;241m=\u001b[39m \u001b[38;5;28;01mNone\u001b[39;00m \u001b[38;5;66;03m# Amplitudes of the sinusoids\u001b[39;00m\n\u001b[1;32m     40\u001b[0m \u001b[38;5;28mself\u001b[39m\u001b[38;5;241m.\u001b[39mphis \u001b[38;5;241m=\u001b[39m \u001b[38;5;28;01mNone\u001b[39;00m \u001b[38;5;66;03m# Phases of the sinusoids \u001b[39;00m\n",
      "\u001b[0;31mTypeError\u001b[0m: loop of ufunc does not support argument 0 of type Mul which has no callable sqrt method"
     ]
    }
   ],
   "source": [
    "SOLUTION = OscillatorSolution()\n",
    "_ = SOLUTION.solve()"
   ]
  },
  {
   "cell_type": "markdown",
   "metadata": {},
   "source": [
    "Numerical simulations are performed for the assignment of constants to certain values. These are specified below."
   ]
  },
  {
   "cell_type": "code",
   "execution_count": null,
   "metadata": {},
   "outputs": [],
   "source": [
    "SYMBOL_DCT = util.makeSymbolDct(SOLUTION.x_vec, PARAM_DCT)\n",
    "SYMBOL_DCT"
   ]
  },
  {
   "cell_type": "markdown",
   "metadata": {},
   "source": [
    "# Antimony Model of the Oscillating Reaction Network"
   ]
  },
  {
   "cell_type": "markdown",
   "metadata": {},
   "source": [
    "The antimony model of the oscillating network is displayed below."
   ]
  },
  {
   "cell_type": "code",
   "execution_count": null,
   "metadata": {},
   "outputs": [],
   "source": [
    "print(MODEL)"
   ]
  },
  {
   "cell_type": "markdown",
   "metadata": {},
   "source": [
    "Below, we assign values to the kinetic constants and then display the simulation results for these numerical values."
   ]
  },
  {
   "cell_type": "code",
   "execution_count": null,
   "metadata": {},
   "outputs": [],
   "source": [
    "param_dct = dict(PARAM_DCT)\n",
    "ttheta = 100000\n",
    "kk2 = 0.1\n",
    "kkd = ttheta**2/kk2\n",
    "kk3 = param_dct[\"k1\"] + kk2\n",
    "kk5 = kk3 + kkd\n",
    "param_dct[\"k2\"] = kk2\n",
    "param_dct[\"k3\"] = kk3\n",
    "param_dct[\"k4\"] = 10\n",
    "param_dct[\"k5\"] = kk5\n",
    "param_dct[\"k6\"] = 5000\n",
    "param_dct[\"S1\"] = 0\n",
    "param_dct[\"S2\"] = 0\n",
    "rr = te.loada(MODEL)\n",
    "for k, v in param_dct.items():\n",
    "    if k in rr.keys():\n",
    "        try:\n",
    "            rr[k] = v\n",
    "        except Exception as exp:\n",
    "            print(\"Could not set value for %s, %s\" % (k, str(v)))\n",
    "data = rr.simulate(0, 5, 1000)\n",
    "rr.plot(data, ylim=[-.001, .001])"
   ]
  },
  {
   "cell_type": "code",
   "execution_count": null,
   "metadata": {},
   "outputs": [],
   "source": [
    "rr = te.loada(MODEL)\n",
    "for k, v in PARAM_DCT.items():\n",
    "    if k in rr.keys():\n",
    "        try:\n",
    "            rr[k] = v\n",
    "        except Exception as exp:\n",
    "            print(\"Could not set value for %s, %s\" % (k, str(v)))\n",
    "data = rr.simulate(0, 5, 1000)\n",
    "rr.plot(data)"
   ]
  },
  {
   "cell_type": "markdown",
   "metadata": {
    "id": "4O1oKxl23qCR"
   },
   "source": [
    "# Solution Details"
   ]
  },
  {
   "cell_type": "markdown",
   "metadata": {
    "id": "a2tb3L7U3uS5"
   },
   "source": [
    "Let ${\\bf A} =\n",
    "\\begin{pmatrix}\n",
    "a_{11} & a_{12} \\\\\n",
    "a_{21} & a_{22} \\\\\n",
    "\\end{pmatrix}\n",
    "$\n",
    "Denote the determinant by $det({\\bf A}) = \\Delta = a_{11} a_{22} - a_{12} a_{21}$\n",
    "and the trace by $\\tau = tr({\\bf A}) = a_{11} + a_{22}$. The eigenvalues are\n",
    "$\\lambda = \\frac{1}{2} \\left( - \\tau \\pm \\sqrt{\\tau^2 - 4 \\Delta} \\right)$.\n",
    "So, to get pure imaginary eigenvalues, $\\tau = 0$\n",
    "and $\\Delta > 0$."
   ]
  },
  {
   "cell_type": "markdown",
   "metadata": {},
   "source": [
    "<img src=\"Fig1.png\" alt=\"Reaction Network\" width=\"500\"/>"
   ]
  },
  {
   "cell_type": "markdown",
   "metadata": {
    "id": "tEICDsJlIV35"
   },
   "source": [
    "## System Equations"
   ]
  },
  {
   "cell_type": "markdown",
   "metadata": {},
   "source": [
    "In the sequel, we sometimes use $S_n$ to denote $x_n (t)$ to better draw out the connection between the reaction network and the system of differential equations for its solution."
   ]
  },
  {
   "cell_type": "markdown",
   "metadata": {
    "id": "LuLZN4yqGSrb"
   },
   "source": [
    "This system equations are:\n",
    "$\n",
    "\\begin{eqnarray}\n",
    "\\dot{S}_1 & = & - k_1 S_1 + +k_2 S_2 + k_3 S_1 - k_4 \\\\\n",
    "\\dot{S}_2 & = & k_1 S_1 - k_2 S_2 - k_5 S_1 + k_6  \\\\\n",
    "\\end{eqnarray}\n",
    "$\n",
    "\n",
    "Let ${\\bf x} = \n",
    "\\begin{pmatrix}\n",
    "S_1 \\\\\n",
    "S_2 \\\\\n",
    "\\end{pmatrix}\n",
    "$,\n",
    "$\n",
    "{\\bf A} = \n",
    "\\begin{pmatrix}\n",
    "k_3 - k_1 & k_2 \\\\\n",
    "k_1 - k_5 & -k_2 \\\\\n",
    "\\end{pmatrix}\n",
    "$, and\n",
    "${\\bf u} = \n",
    "\\begin{pmatrix}\n",
    "- k_4 \\\\\n",
    "k_6  \\\\\n",
    "\\end{pmatrix}$\n",
    "\n",
    "The full model is:\n",
    "$\\dot{\\bf x} = {\\bf A} {\\bf x} + {\\bf u}$."
   ]
  },
  {
   "cell_type": "markdown",
   "metadata": {
    "id": "RSqoaNmbIiMZ"
   },
   "source": [
    "Note that\n",
    "\\begin{eqnarray}\n",
    "\\tau & = & k_3 -k_1 - k_2 \\\\\n",
    "\\Delta & = & (k_3 - k_1)(-k_2) - k_2 (k_1 - k_5) \\\\\n",
    "& = & k_2 (k_5 - k_3) \\\\\n",
    "\\end{eqnarray}"
   ]
  },
  {
   "cell_type": "markdown",
   "metadata": {},
   "source": [
    "## Constraints "
   ]
  },
  {
   "cell_type": "markdown",
   "metadata": {},
   "source": [
    "The following constraints are required to obtain a biologically plausible oscillating reaction network whose solution is a linear ODE:\n",
    "* C1: The rate laws of the reaction network are a linear function of ${\\bf x} (t)$, which we also denote by $S_n$.\n",
    "* C2: $x_n(t) \\geq 0$\n",
    "* C3: $\\tau = 0$\n",
    "* C4: $\\Delta > 0$"
   ]
  },
  {
   "cell_type": "markdown",
   "metadata": {},
   "source": [
    "## Implications of the constraints"
   ]
  },
  {
   "cell_type": "markdown",
   "metadata": {},
   "source": [
    "**C3 implies that $k_3 = k_1 + k_2$**"
   ]
  },
  {
   "cell_type": "markdown",
   "metadata": {},
   "source": [
    "**C4 implies that $k_5 > k_3$. We define $k_d = k_5 - k_3 > 0$.**"
   ]
  },
  {
   "cell_type": "markdown",
   "metadata": {},
   "source": [
    "Applying the foregoing to the ${\\bf A}$ matrix, we first note that\n",
    "\\begin{align*}\n",
    "k_1 - k_5 & = & k_1 - k_3 -k_d \\\\\n",
    "& = & k_3 - k_2 - k_3 - k_d \\\\\n",
    "& = & -k_2 - k_d \\\\\n",
    "\\end{align*}\n",
    "And so,\n",
    "$\n",
    "{\\bf A} =\n",
    "\\begin{pmatrix}\n",
    "k_2 & k_2 \\\\\n",
    "-k_2 - k_d & -k_2 \\\\\n",
    "\\end{pmatrix}\n",
    "$, and $\\Delta = k_2 k_d$."
   ]
  },
  {
   "cell_type": "markdown",
   "metadata": {},
   "source": [
    "Recall, that with the constraints, the eigevalues are $\\pm \\sqrt{- \\Delta}$.\n",
    "Thus, the frequency of oscillation is\n",
    "\\begin{equation}\n",
    "\\theta = \\sqrt{\\Delta} = \\sqrt{k_2 k_d} \\label{eq:theta}\n",
    "\\end{equation}"
   ]
  },
  {
   "cell_type": "markdown",
   "metadata": {},
   "source": [
    "We can check this result with a simulation."
   ]
  },
  {
   "cell_type": "code",
   "execution_count": null,
   "metadata": {},
   "outputs": [],
   "source": [
    "A = SOLUTION.A_mat\n",
    "A"
   ]
  },
  {
   "cell_type": "code",
   "execution_count": null,
   "metadata": {},
   "outputs": [],
   "source": [
    "SOLUTION.simulate(expression=A, is_plot=True)"
   ]
  },
  {
   "cell_type": "markdown",
   "metadata": {},
   "source": [
    "## Eigenvectors for Pure Imaginary Eigenvalues"
   ]
  },
  {
   "cell_type": "markdown",
   "metadata": {},
   "source": [
    "Note that since $k_d > 0$, ${\\bf A}$ is nonsingular, and so we can calculate eigenvectors directly."
   ]
  },
  {
   "cell_type": "code",
   "execution_count": null,
   "metadata": {},
   "outputs": [],
   "source": [
    "A.eigenvects()"
   ]
  },
  {
   "cell_type": "markdown",
   "metadata": {},
   "source": [
    "The eigenvalues are:\n",
    "\n",
    "$\n",
    "\\begin{eqnarray}\n",
    "\\lambda_1 &=& - \\sqrt{k_d k_2} i \\\\\n",
    "\\lambda_2 &=&  + \\sqrt{k_d k_2} i\n",
    "\\end{eqnarray}\n",
    "$\n",
    "\n",
    "We define $\\theta = \\sqrt{k_d k_2}$, and so\n",
    "$\\lambda_n = (-1)^n \\theta i$.\n",
    "\n",
    "The eigenvectors are:\n",
    "$\n",
    "{\\bf e}  =\n",
    "\\begin{pmatrix}\n",
    "\\frac{- k_2 \\pm \\theta i}{k_2 + k_d} \\\\\n",
    "1 \\\\\n",
    "\\end{pmatrix} \\\\\n",
    "$"
   ]
  },
  {
   "cell_type": "markdown",
   "metadata": {},
   "source": [
    "## Fundamental Matrix (${\\bf F}$)"
   ]
  },
  {
   "cell_type": "markdown",
   "metadata": {},
   "source": [
    "The fundamental matrix ${\\bf F}$ is a marix with columns that are orthogonal solutions to the homogeneous system. We use the fundamental matrix to construct the particular solution."
   ]
  },
  {
   "cell_type": "markdown",
   "metadata": {},
   "source": [
    "If the eigenvector ${\\bf w}$ and/or\n",
    "eigenvalue $\\lambda$ are complex, then\n",
    "${\\bf w} e^{\\lambda} = {\\bf v}_1 + i {\\bf v}_2$ for\n",
    "some real vectors ${\\bf v}_n$.\n",
    "By theorem, the ${\\bf v}_n$ are independent solutions to\n",
    "the differential equation\n",
    "and so the solution to the IVP\n",
    "is $\\sum_{n=1}^2 c_n v_n$ for $c_n$ chosen\n",
    "based on the initial values.\n",
    "Hence, ${\\bf F} =\n",
    "\\left[ \\begin{matrix} {\\bf v}_1 & {\\bf v}_2 \\\\ \\end{matrix} \\right]$."
   ]
  },
  {
   "cell_type": "code",
   "execution_count": null,
   "metadata": {},
   "outputs": [],
   "source": [
    "SOLUTION.fund_mat"
   ]
  },
  {
   "cell_type": "code",
   "execution_count": null,
   "metadata": {},
   "outputs": [],
   "source": [
    "SOLUTION.homogeneous_x_vec"
   ]
  },
  {
   "cell_type": "markdown",
   "metadata": {
    "id": "6FI8GlXCnFN3"
   },
   "source": [
    "## Solution for Nonhomogeneous System"
   ]
  },
  {
   "cell_type": "markdown",
   "metadata": {},
   "source": [
    "The equation with forced inputs is $\\dot{\\bf x} = {\\bf A} {\\bf x} + {\\bf u}$,\n",
    "where ${\\bf u}$ is the forced input.\n",
    "The solution with forced inputs has the form\n",
    "${\\bf x}^H + {\\bf x}^P$, where ${\\bf x}^H$\n",
    "is a solution to the homogeneous system and ${\\bf x}^P$ is a particular solution\n",
    "for the forced input ${\\bf u}$."
   ]
  },
  {
   "cell_type": "markdown",
   "metadata": {},
   "source": [
    "Recall the following for solutions of nonhomogeneous systems.\n",
    "Let ${\\bf F}$ be the fundamental matrix for $\\dot{\\bf x} = {\\bf A} {\\bf x} + {\\bf u}$.\n",
    "We want to construct a particular solution\n",
    "${\\bf x}^P = {\\bf F} {\\bf v}$, for the unknown vector ${\\bf v}$.\n",
    "\n",
    "Substituting,\n",
    "\n",
    "\\begin{eqnarray}\n",
    "\\dot{\\bf F} {\\bf v} + {\\bf F} \\dot{\\bf v} & = & {\\bf A} {\\bf F} {\\bf v} + {\\bf u} \\\\\n",
    "{\\bf A} {\\bf F} {\\bf v} + {\\bf F} \\dot{\\bf v} & = & {\\bf A} {\\bf F} {\\bf v} + {\\bf u} \\\\\n",
    "{\\bf F} \\dot{\\bf v} & = & {\\bf u} \\\\\n",
    "{\\bf v} = \\int \\left( {\\bf F}^{-1} {\\bf u} \\right)dt\n",
    "\\end{eqnarray}\n",
    "\n",
    "Note that there is an integration constant as well, but this need not be considered\n",
    "since all values of the constant still result in a valid particular solution.\n",
    "Also, the inverse exists since the columns of ${\\bf X}_F$ are orthogonal.\n",
    "\n",
    "This calculation can be done with symbolic algebra, but it takes a few minutes on a modern laptop."
   ]
  },
  {
   "cell_type": "code",
   "execution_count": null,
   "metadata": {},
   "outputs": [],
   "source": [
    "SOLUTION.particular_x_vec"
   ]
  },
  {
   "cell_type": "markdown",
   "metadata": {},
   "source": [
    "${\\bf x} = {\\bf x}^p + {\\bf x}^h$, where the superscripts indicate the particular and homogeneous solutioins. This will contain the constants $c_1, c_2$ that we find by using the initial conditions ${\\bf x}(0) = \\begin{pmatrix} x_{10} \\\\  x_{20} \\end{pmatrix}$."
   ]
  },
  {
   "cell_type": "code",
   "execution_count": null,
   "metadata": {},
   "outputs": [],
   "source": [
    "SOLUTION.raw_x_vec"
   ]
  },
  {
   "cell_type": "markdown",
   "metadata": {},
   "source": [
    "We can check that dervivation with a numerical simulation to see if the result is the same as the Antimony simulation for the same parameter values."
   ]
  },
  {
   "cell_type": "code",
   "execution_count": null,
   "metadata": {},
   "outputs": [],
   "source": [
    "_ = SOLUTION.simulate(expression=SOLUTION.raw_x_vec)"
   ]
  },
  {
   "cell_type": "markdown",
   "metadata": {},
   "source": [
    "## Restructuring the Nonhomogeneous Solution"
   ]
  },
  {
   "cell_type": "markdown",
   "metadata": {},
   "source": [
    "To goal here is to restructure the solution to isolate the OCs. We take advantage of the following trigonometric equality."
   ]
  },
  {
   "cell_type": "markdown",
   "metadata": {},
   "source": [
    "$$a cos(t) + b sin(t) = \\sqrt{a^2 + b^2} sin(t + tan^{-1}\\frac{a}{b})\n",
    "$$\n",
    "\n",
    "Applying this relationship requires gathering terms appropriately. The result below strcutures the solution into:\n",
    "* $\\alpha_n$: the amplitude of $x_n (t)$\n",
    "* $\\phi_n$: the phase of $x_n (t)$\n",
    "* $\\omega_n$: the offset of the sinusoid\n",
    "\n",
    "Note that the frequency for both solutions is $\\theta = \\sqrt{k_2 k_d}$."
   ]
  },
  {
   "cell_type": "code",
   "execution_count": null,
   "metadata": {},
   "outputs": [],
   "source": [
    "SOLUTION.x_vec"
   ]
  },
  {
   "cell_type": "code",
   "execution_count": null,
   "metadata": {},
   "outputs": [],
   "source": [
    "SOLUTION.alphas[0]"
   ]
  },
  {
   "cell_type": "code",
   "execution_count": null,
   "metadata": {},
   "outputs": [],
   "source": [
    "SOLUTION.alphas[1]"
   ]
  },
  {
   "cell_type": "code",
   "execution_count": null,
   "metadata": {},
   "outputs": [],
   "source": [
    "SOLUTION.phis[0]"
   ]
  },
  {
   "cell_type": "code",
   "execution_count": null,
   "metadata": {},
   "outputs": [],
   "source": [
    "SOLUTION.phis[1]"
   ]
  },
  {
   "cell_type": "code",
   "execution_count": null,
   "metadata": {},
   "outputs": [],
   "source": [
    "SOLUTION.omegas[0]"
   ]
  },
  {
   "cell_type": "code",
   "execution_count": null,
   "metadata": {},
   "outputs": [],
   "source": [
    "SOLUTION.omegas[1]"
   ]
  },
  {
   "cell_type": "markdown",
   "metadata": {},
   "source": [
    "Again, we do a simulation to cross check the result."
   ]
  },
  {
   "cell_type": "code",
   "execution_count": null,
   "metadata": {},
   "outputs": [],
   "source": [
    "_ = SOLUTION.simulate(expression=SOLUTION.x_vec)"
   ]
  },
  {
   "cell_type": "markdown",
   "metadata": {
    "id": "BEYNotG5I8zg"
   },
   "source": [
    "# Designing an Oscillator"
   ]
  },
  {
   "cell_type": "markdown",
   "metadata": {},
   "source": [
    "The approach here is to use optimization as a way to search for parameters of the reaction network that produce the desired OCs."
   ]
  },
  {
   "cell_type": "code",
   "execution_count": null,
   "metadata": {},
   "outputs": [],
   "source": [
    "parameters = lmfit.Parameters()\n",
    "names = [\"k2\", \"k6\", \"k4\", \"k_d\", \"x20\", \"x10\"]\n",
    "for name in names:\n",
    "    parameters.add(name, min=1e-3, max=1e3, value = 1)\n",
    "parameters"
   ]
  },
  {
   "cell_type": "code",
   "execution_count": null,
   "metadata": {},
   "outputs": [],
   "source": [
    "def makeResidualCalculator(alpha_1, alpha_2, theta, phi_1, phi_2, omega_1, omega_2, num_point=1000, end_time=5):\n",
    "    def calculatePhaseOffset(theta):\n",
    "        if np.abs(theta) > np.pi/2:\n",
    "            phase_offset = np.pi\n",
    "        else:\n",
    "            phase_offset = 0\n",
    "        return phase_offset\n",
    "    #\n",
    "    def calculateReference(alpha, phi, theta, omega):\n",
    "        times = np.linspace(0, end_time, num_point)\n",
    "        phase_offset = calculatePhaseOffset(theta)\n",
    "        return alpha*sin(times*theta + phase_offset + phi) + omega\n",
    "    #\n",
    "    x1_ref = calculateReference(alpha_1, theta, phi_1, omega_1)\n",
    "    x2_ref = calculateReference(alpha_2, theta, phi_2, omega_2)\n",
    "    def calculateResiduals(params):\n",
    "        \"\"\"\n",
    "        Calculates the results for the parameters.\n",
    "            k2, k4, k6, x1_0, x2_0\n",
    "        \"\"\"\n",
    "        for name in names:\n",
    "            stmt = \"%s = params['%x'].value\" % (name, name)\n",
    "            exec(stmt)\n",
    "        theta = np.sqrt(k2*k_d)\n",
    "        ####\n",
    "        # x1\n",
    "        ####\n",
    "        numr_omega = -k2**2*k4 + k2**2*k6 - k2*k4*k_d + k6*theta**2\n",
    "        denom = theta**2*(k2 + k_d)\n",
    "        omega = numr_omega/denom\n",
    "        #\n",
    "        amp_1 = (theta**2*(k2**2*x1_0 + k2**2*x2_0 - k2*k4 + k2*k_d*x1_0 - k4*k_d + theta**2*x2_0)**2 \n",
    "        amp_2 = (k2**2*k4 - k2**2*k6 + k2*k4*k_d + k2*theta**2*x1_0 - k6*theta**2 + k_d*theta**2*x1_0)**2)\n",
    "        amp = np.sqrt(sqrt1 + sqrt2)/denom\n",
    "        numr_theta = k2**2*k4 - k2**2*k6 + k2*k4*k_d + k2*theta**2*x1_0 - k6*theta**2 + k_d*theta**2*x1_0)\n",
    "        denom_theta = theta*(k2**2*x1_0 + k2**2*x2_0 - k2*k4 + k2*k_d*x1_0 - k4*k_d + theta**2*x2_0)\n",
    "        phase_offset = calculatePhaseOffset(theta_1)\n",
    "        theta = np.atan(numr_thera/denom_theta) + phase_offset\n",
    "        #\n",
    "        x1 = amp*sin(times*theta + phi) + omega\n",
    "        ####\n",
    "        # x2\n",
    "        ####\n",
    "        denom = theta**2\n",
    "        omega = (k2*k4 - k2*k6 + k4*k_d)/denom\n",
    "        #\n",
    "        amp_1 = theta**2*(k2*x1_0 + k2*x2_0 - k6 + k_d*x1_0)**2 + (k2*k4 - k2*k6 + k4*k_d - theta**2*x2_0)**2\n",
    "        amp = np.sqrt(amp_1)/denom\n",
    "        #\n",
    "        theta = np.atan((k2*k4 - k2*k6 + k4*k_d - theta**2*x2_0)/(theta*(k2*x1_0 + k2*x2_0 - k6 + k_d*x1_0)))\n",
    "        phase_offset = calculatePhaseOffset(theta_1)\n",
    "        theta = theta + phase_offset\n",
    "        # Calculate the residuals\n",
    "        residuals_lst = [x for x in x1_ref - x1]\n",
    "        x2_residuals = [x for x in x2_ref - x2]\n",
    "        residuals_lst.extend(x2_residulas)\n",
    "        residuals = np.array(residuals_lst)\n",
    "        return residuals\n",
    "    #\n",
    "    return calculateResiduals"
   ]
  },
  {
   "cell_type": "code",
   "execution_count": null,
   "metadata": {},
   "outputs": [],
   "source": [
    "def makeResidualCalculator(alpha_1, alpha_2, theta, phi_1, phi_2, omega_1, omega_2, num_point=1000, end_time=5):\n",
    "    sin = np.sin\n",
    "    t = np.linspace(0, end_time, num_point)\n",
    "    def calculateReference(alpha, phi, theta, omega):\n",
    "        phase_offset = calculatePhaseOffset(theta)\n",
    "        return alpha*np.sin(t*theta + phase_offset + phi) + omega\n",
    "    #\n",
    "    x1_ref = calculateReference(alpha_1, theta, phi_1, omega_1)\n",
    "    x2_ref = calculateReference(alpha_2, theta, phi_2, omega_2)\n",
    "    x_refs = [x1_ref, x2_ref]\n",
    "    def calculateResiduals(params):\n",
    "        \"\"\"\n",
    "        Calculates the results for the parameters.\n",
    "            k2, k4, k6, x1_0, x2_0\n",
    "        \"\"\"\n",
    "        # Get the parameters. Note that k_d is caculated from the desired frequency\n",
    "        name_dct = {n: params[n].value for n in [\"k2\", \"k4\", \"k6\", \"x1_0\", \"x2_0\"]}\n",
    "        name[\"k_d\"] = theta**2/k2\n",
    "        name[\"theta\"] = theta\n",
    "        #\n",
    "        x_vec = nonh_solution   # Replace w/API call\n",
    "        residuals = []\n",
    "        for x_ref, x_pred in zip(x_refs, x_vec):\n",
    "            x_pred_calc = x_pred.subs("
   ]
  },
  {
   "cell_type": "markdown",
   "metadata": {
    "id": "3gd0ydcHJCo-"
   },
   "source": [
    "The parameters of the oscillator are:\n",
    "* kinetics parameters: $k_2$, $k_d$\n",
    "* initial conditions for species: $x_n (0)$, $n \\in \\{1, 2\\}$\n",
    "* forced inputs: $k_4, k_6$\n",
    "\n",
    "Given a desired frequency $\\theta$, amplitude $h_1, h_2$, and\n",
    "midpoint $m_1, m_2$, find values of the parameters that achieve this."
   ]
  },
  {
   "cell_type": "markdown",
   "metadata": {},
   "source": [
    "$r_1 = \\frac{k_2}{k_2 + k_d$\n",
    "and $r_2 = \\frac{\\theta}{k_d + k_2}$,\n",
    "where $\\theta = \\sqrt{k_d k_2}$."
   ]
  },
  {
   "cell_type": "markdown",
   "metadata": {},
   "source": [
    "A key fact is that a linear combination of sinusoids at the same frequency is also a sinusoid \n",
    "at the same frequency but with a phase displacement and a new amplitude.\n",
    "\n",
    "Let $y = a \\times cos(\\theta) + b \\times sin(\\theta)$.\n",
    "Let $A = \\sqrt{a^2 + b^2}$ and \n",
    "$D = arctan(\\frac{b}{a})$.\n",
    "Then $y = A \\times cos(\\theta- D)$."
   ]
  },
  {
   "cell_type": "code",
   "execution_count": null,
   "metadata": {},
   "outputs": [],
   "source": [
    "dct = {PARAM_DCT[\"k2\"] + PARAM_DCT[\"k_d\"]: r1, \n",
    "       PARAM_DCT[\"theta\"]/ (PARAM_DCT[\"k_d\"] + PARAM_DCT[\"k2\"]): r2}\n",
    "xf = sympy.simplify(nonh_solution.subs(dct).subs(dct))\n",
    "#xf = sympy.simplify(nonh_solution.subs({sympy.cos(a*t): -sympy.sin(a*t)}))"
   ]
  },
  {
   "cell_type": "code",
   "execution_count": null,
   "metadata": {},
   "outputs": [],
   "source": [
    "xf"
   ]
  },
  {
   "cell_type": "markdown",
   "metadata": {},
   "source": [
    "Structure the result with sine and cos terms.\n",
    "\"\"\"\n",
    "e.as_poly()\n",
    "Poly(x*y - 2*x*z + y**2 - 2*y*z, x, y, z, domain='ZZ')\n",
    "\"\"\"\n",
    "nonh_solution.as_poly("
   ]
  },
  {
   "cell_type": "code",
   "execution_count": null,
   "metadata": {},
   "outputs": [],
   "source": [
    "def removeFactor(sym, factor_str):\n",
    "    \"\"\"\n",
    "    Removes any of the symbolic factors\n",
    "    \"\"\"\n",
    "    result = 1\n",
    "    for tt in sym.args:\n",
    "        if not factor_str in str(tt):\n",
    "            result *= tt\n",
    "    return result\n",
    "\n",
    "def separateTerms(sym):\n",
    "    \"\"\"\n",
    "    Separates the terms in a scalar expression into:\n",
    "        constants\n",
    "        coefficient of sin(at)\n",
    "        coefficient of cost(at)\n",
    "    \"\"\"\n",
    "    constants = []\n",
    "    sints = []\n",
    "    costs = []\n",
    "    # Partition the entire expression of a sum of multiplied terms\n",
    "    for term in sym.expand().args:\n",
    "        if \"cos(\" in str(term):\n",
    "            costs.append(removeFactor(term, \"cos\"))\n",
    "        elif \"sin(\" in str(term):\n",
    "            sints.append(removeFactor(term, \"sin\"))\n",
    "        else:\n",
    "            constants.append(term)\n",
    "    return constants, sints, costs\n",
    "\n",
    "def sumTerms(terms):\n",
    "    result = 0\n",
    "    for term in terms:\n",
    "        result += term\n",
    "    return sympy.simplify(result)\n",
    "\n",
    "def calcCoefficients(sym):\n",
    "    \"\"\"\n",
    "    Calculates the coefficients for the constant, sin, and cos terms\n",
    "    \"\"\"\n",
    "    constants, sints, costs = separateTerms(sym)\n",
    "    return sumTerms(constants), sumTerms(sints), sumTerms(costs)\n",
    "\n",
    "def getCosine(sym):\n",
    "    terms = sym.expand().args\n",
    "    for term in terms:\n",
    "        if \"cos(\" in str(term):\n",
    "            for element in term.args:\n",
    "                if \"cos(\" in str(element):\n",
    "                    return element\n",
    "            \n",
    "\n",
    "def refactorSinusoids(sym):\n",
    "    \"\"\"\n",
    "    Combines linear combinations of cos and sin into a single term.\n",
    "    \"\"\"\n",
    "    cos_arg = getCosine(sym).args[0]\n",
    "    constant, coef_sin, coef_cos = calcCoefficients(sym)\n",
    "    amplitude = sympy.sqrt(coef_sin**2 + coef_cos**2)\n",
    "    phase = sympy.atan(coef_sin/coef_cos)\n",
    "    offset = sympy.Piecewise((0, coef_cos >= 0), (sympy.pi, coef_cos < 0))\n",
    "    result = constant + amplitude*sympy.cos(cos_arg - phase + offset)\n",
    "    return result\n",
    "    \n",
    "\n",
    "# TESTS\n",
    "#sym = xf.expand()[0]\n",
    "#constants, sints, costs = separateTerms(sym)\n",
    "#const_term, sin_term, cos_term = calcCoefficients(sym)\n",
    "xf1 = refactorSinusoids(xf.expand()[0])\n",
    "xf2 = refactorSinusoids(xf.expand()[1])\n",
    "refactor_vec = sympy.Matrix([xf1, xf2])\n",
    "            \n",
    "            \n",
    "            "
   ]
  },
  {
   "cell_type": "markdown",
   "metadata": {},
   "source": [
    "**TO DO**\n",
    "1. Simplify the following."
   ]
  },
  {
   "cell_type": "code",
   "execution_count": null,
   "metadata": {},
   "outputs": [],
   "source": [
    "refactor_vec"
   ]
  },
  {
   "cell_type": "code",
   "execution_count": null,
   "metadata": {},
   "outputs": [],
   "source": [
    "sym = simulateSymbolVector(refactor_vec, SYMBOL_DCT)"
   ]
  },
  {
   "cell_type": "code",
   "execution_count": null,
   "metadata": {
    "tags": []
   },
   "outputs": [],
   "source": [
    "simulateRR(DCT)"
   ]
  },
  {
   "cell_type": "markdown",
   "metadata": {},
   "source": [
    "**TO DO**\n",
    "1. Validate by resimulating\n",
    "1. Approximate for low and high frequency"
   ]
  },
  {
   "cell_type": "markdown",
   "metadata": {},
   "source": [
    "Proceed by considering the cases of small $\\theta$ and large $\\theta$."
   ]
  },
  {
   "cell_type": "code",
   "execution_count": null,
   "metadata": {},
   "outputs": [],
   "source": [
    "angles = 2*np.pi*np.array(range(20))*1/20\n",
    "cost = np.cos(angles)\n",
    "sint = np.sin(angles)\n",
    "sin_shift = np.sin(np.pi/2+angles)\n",
    "plt.scatter(angles, cost, color=\"red\")\n",
    "plt.scatter(angles, sint, color=\"green\")\n",
    "plt.plot(angles, sin_shift, color=\"black\")\n",
    "plt.legend([\"cos\", \"sin\", \"sin shift\"])"
   ]
  },
  {
   "cell_type": "code",
   "execution_count": null,
   "metadata": {},
   "outputs": [],
   "source": [
    "angles = 2*np.pi*np.array(range(40))*1/20\n",
    "a1 = 2\n",
    "a2 = 3\n",
    "cost = a1*np.cos(angles)\n",
    "sint = a2*np.sin(angles)\n",
    "new_a = np.sqrt(a1**2 + a2**2)\n",
    "new_d = np.arctan(a2/a1)\n",
    "new_cos = new_a*np.cos(angles - new_d)\n",
    "plt.scatter(angles, cost+sint)\n",
    "plt.plot(angles, new_cos)"
   ]
  },
  {
   "cell_type": "code",
   "execution_count": null,
   "metadata": {},
   "outputs": [],
   "source": [
    "DCT"
   ]
  },
  {
   "cell_type": "code",
   "execution_count": null,
   "metadata": {},
   "outputs": [],
   "source": [
    "simulateSymbolVector(xf, DCT)"
   ]
  },
  {
   "cell_type": "code",
   "execution_count": null,
   "metadata": {},
   "outputs": [],
   "source": [
    "simulateRR(DCT)"
   ]
  },
  {
   "cell_type": "markdown",
   "metadata": {},
   "source": [
    "## Solutions"
   ]
  },
  {
   "cell_type": "code",
   "execution_count": null,
   "metadata": {},
   "outputs": [],
   "source": [
    "xf1 = xf[0]\n",
    "xf2 = xf[1]"
   ]
  },
  {
   "cell_type": "code",
   "execution_count": null,
   "metadata": {},
   "outputs": [],
   "source": [
    "xf1"
   ]
  },
  {
   "cell_type": "code",
   "execution_count": null,
   "metadata": {},
   "outputs": [],
   "source": [
    "xf2"
   ]
  },
  {
   "cell_type": "code",
   "execution_count": null,
   "metadata": {},
   "outputs": [],
   "source": [
    "eqns = [m1 - (𝑘4*(𝑑+𝑘4)*(𝑢1+𝑢2)), a - sympy.sqrt(d*k4),\n",
    "       h1 - sympy.Max(a**2, k4*(𝑘4*20 - 𝑢2+ 𝑥1_0*(𝑑+𝑘4)), \n",
    "                     a**2/(d*k4*(d + k4)), k4*(𝑘4*𝑥2_0 - \n",
    "                                               𝑢2+𝑥1_0*(𝑑+𝑘4))/(d*k4*(d + k4)))]\n",
    "eqns"
   ]
  },
  {
   "cell_type": "code",
   "execution_count": null,
   "metadata": {},
   "outputs": [],
   "source": [
    "design_solutions = {a: sympy.sqrt(d*k4),\n",
    "                    h1: sympy.Max( \n",
    "                                  sympy.Abs(((a**2)*x1_0 + x2_0*a**2 + d*u1)/(a*d)),\n",
    "                                  sympy.Abs(-u1 -u2 + x1_0)/d + x1_0/d),\n",
    "                    m1: a*u1-a*u2,\n",
    "                    h2: sympy.Max(\n",
    "                        sympy.Abs(-a*𝑘4*𝑥2_0 - a*𝑥1_0*(𝑑+𝑘4)+𝑢2*𝑑*𝑘4)/(a**2),\n",
    "                        \n",
    "                        sympy.Abs((a*𝑥2_0*d*𝑘4+𝑘4*u2+u1*(d+𝑘4)))/(a**2)\n",
    "                    ),\n",
    "                    m2: -k4*u2-u1*(d+k4)/a**2\n",
    "                                  }"
   ]
  },
  {
   "cell_type": "code",
   "execution_count": null,
   "metadata": {},
   "outputs": [],
   "source": [
    "design_solutions[a]"
   ]
  },
  {
   "cell_type": "markdown",
   "metadata": {
    "id": "Df5mxawDyUuV"
   },
   "source": [
    "# Notes\n",
    "1. Develop the idea of a UMRA approximation to a non-linear network.\n",
    "  1. For mas action networks with two reactants, create two separate uni-reactant reactions. How select the kinetics constants in the approximation to most accurate estimate the original network. The kinetics constants can be approximated using a Taylor's series or by an orthogonal projection for an appropriately defined inner product space.\n",
    "\n",
    "1. Note that the eigenvalues are ${\\bf e} = \\{ \\lambda |  det \\left( {\\bf A} - \\lambda {\\bf I} \\right) = 0 \\}$.\n",
    "Since ${\\bf A} = {\\bf H} + {\\bf K}$,\n",
    "$ {\\bf A} - \\lambda {\\bf I}  = {\\bf H} + {\\bf K} - \\lambda {\\bf I}$.\n",
    "\n",
    "1. Note that $det \\left( {\\bf A} - \\lambda {\\bf I} \\right)\n",
    "= \\left( {\\bf N V} - \\lambda {\\bf I} \\right)$.\n",
    "Further, $det \\left( {\\bf N} - \\lambda {\\bf I} \\right) \\left(\n",
    " {\\bf V} - \\lambda {\\bf I} \\right)$\n",
    " $= det \\left[ {\\bf N}{\\bf V} - \\lambda {\\bf N} - \\lambda {\\bf V} + I \\right]$. Can I use information about the [sum of determinants](https://www.geeksforgeeks.org/eigen-values-and-eigen-vectors/) to figure out\n",
    " how $\\lambda$ changes if $k_m$ changes?\n",
    "\n",
    "1. From [\"Facts about Eigenvalues\"](https://www.adelaide.edu.au/mathslearning/ua/media/120/evalue-magic-tricks-handout.pdf), I know that for a polynomial function $g(x)$, $g({\\bf A})$ has eigenvalues $g(\\lambda_1), \\cdots, g(\\lambda_n)$ for the matrix ${\\bf A}$ with eigenvalues $\\lambda_1, \\cdots, \\lambda_n$.\n",
    "So, it's easy to transform ${\\bf A}$ in a way that preserves\n",
    "UMRN so that the dominant eigenvalue is at 0 by subtracting along\n",
    "the diagonal.\n",
    "The challenge is making the this eigenvalue have a non-zero imaginary component.\n",
    "\n",
    "1. Note that in the decomposition into Hermitian and skew Hermitian matrices ${\\bf A} = {\\bf H} + {\\bf K}$, the diagonal of ${\\bf K}$ must be zero if ${\\bf A}$ is real valued.\n",
    "So, how can ${\\bf K}$ be transformed to create imaginary eigenvalues?\n",
    "\n",
    "1. Might consider using the polar decomposition, where ${\\bf A} = {\\bf U} {\\bf P}$, where ${\\bf U}$ is unitary and ${\\bf P}$ is positiv semidefinite. My hypothesis is that if ${\\bf U}$ is a rotation other than $n \\pi$, then ${\\bf A}$ has at least one imaginary eigenvalue. I still have the challenge of making the *dominant* eigenvalue have a non-zero imaginary part.\n",
    "\n",
    "1. Try exploring matrices and their decompositions to understand the criteria for obtaining eigenvalues with a non-zero imaginary part.\n",
    "\n",
    "1. **Issue**: Not getting the correct period\n"
   ]
  },
  {
   "cell_type": "markdown",
   "metadata": {},
   "source": [
    "The homogeneous system is $\\dot{\\bf x} = {\\bf A} {\\bf x}$.\n",
    "Its solution has the for\n",
    "${\\bf x}(t) = \\sum _{n=1}^2 c_n {\\bf e}_n e^{\\lambda_n t}$."
   ]
  }
 ],
 "metadata": {
  "colab": {
   "collapsed_sections": [],
   "name": "Linear Algebra Analysis of Oscillations.ipynb",
   "provenance": [],
   "toc_visible": true
  },
  "kernelspec": {
   "display_name": "Python 3 (ipykernel)",
   "language": "python",
   "name": "python3"
  },
  "language_info": {
   "codemirror_mode": {
    "name": "ipython",
    "version": 3
   },
   "file_extension": ".py",
   "mimetype": "text/x-python",
   "name": "python",
   "nbconvert_exporter": "python",
   "pygments_lexer": "ipython3",
   "version": "3.9.6"
  },
  "toc-showtags": true
 },
 "nbformat": 4,
 "nbformat_minor": 4
}
